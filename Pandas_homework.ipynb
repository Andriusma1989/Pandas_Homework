{
  "cells": [
    {
      "cell_type": "markdown",
      "metadata": {
        "id": "view-in-github",
        "colab_type": "text"
      },
      "source": [
        "<a href=\"https://colab.research.google.com/github/Andriusma1989/Pandas_Homework/blob/main/Pandas_homework.ipynb\" target=\"_parent\"><img src=\"https://colab.research.google.com/assets/colab-badge.svg\" alt=\"Open In Colab\"/></a>"
      ]
    },
    {
      "cell_type": "markdown",
      "id": "b338ff2e",
      "metadata": {
        "id": "b338ff2e"
      },
      "source": [
        "# PP3: Pandas"
      ]
    },
    {
      "cell_type": "markdown",
      "id": "5a41f4ff",
      "metadata": {
        "id": "5a41f4ff"
      },
      "source": [
        "## Section 1: Getting and knowing your data"
      ]
    },
    {
      "cell_type": "markdown",
      "id": "cb63ad82",
      "metadata": {
        "id": "cb63ad82"
      },
      "source": [
        "### Step 1. Import the necessary libraries"
      ]
    },
    {
      "cell_type": "code",
      "execution_count": null,
      "id": "1a771838",
      "metadata": {
        "id": "1a771838"
      },
      "outputs": [],
      "source": [
        "import pandas as pd\n",
        "\n",
        "url = \"https://raw.githubusercontent.com/justmarkham/DAT8/master/data/u.user\""
      ]
    },
    {
      "cell_type": "markdown",
      "id": "8894765f",
      "metadata": {
        "id": "8894765f"
      },
      "source": [
        "### Step 2. Import the dataset from this [address](https://raw.githubusercontent.com/justmarkham/DAT8/master/data/u.user). "
      ]
    },
    {
      "cell_type": "markdown",
      "id": "bb471920",
      "metadata": {
        "id": "bb471920"
      },
      "source": [
        "### Step 3. Assign it to a variable called users and use the 'user_id' as index"
      ]
    },
    {
      "cell_type": "code",
      "execution_count": null,
      "id": "029b290f",
      "metadata": {
        "id": "029b290f"
      },
      "outputs": [],
      "source": [
        "users = pd.read_csv(url, delimiter='|', index_col='user_id')"
      ]
    },
    {
      "cell_type": "markdown",
      "id": "0e757d1f",
      "metadata": {
        "id": "0e757d1f"
      },
      "source": [
        "### Step 4. See the first 25 entries"
      ]
    },
    {
      "cell_type": "code",
      "execution_count": null,
      "id": "9b87b173",
      "metadata": {
        "colab": {
          "base_uri": "https://localhost:8080/"
        },
        "id": "9b87b173",
        "outputId": "41a3c296-98ee-4feb-9e06-6628c1038b39",
        "scrolled": true
      },
      "outputs": [
        {
          "output_type": "stream",
          "name": "stdout",
          "text": [
            "         age gender     occupation zip_code\n",
            "user_id                                    \n",
            "1         24      M     technician    85711\n",
            "2         53      F          other    94043\n",
            "3         23      M         writer    32067\n",
            "4         24      M     technician    43537\n",
            "5         33      F          other    15213\n",
            "6         42      M      executive    98101\n",
            "7         57      M  administrator    91344\n",
            "8         36      M  administrator    05201\n",
            "9         29      M        student    01002\n",
            "10        53      M         lawyer    90703\n",
            "11        39      F          other    30329\n",
            "12        28      F          other    06405\n",
            "13        47      M       educator    29206\n",
            "14        45      M      scientist    55106\n",
            "15        49      F       educator    97301\n",
            "16        21      M  entertainment    10309\n",
            "17        30      M     programmer    06355\n",
            "18        35      F          other    37212\n",
            "19        40      M      librarian    02138\n",
            "20        42      F      homemaker    95660\n",
            "21        26      M         writer    30068\n",
            "22        25      M         writer    40206\n",
            "23        30      F         artist    48197\n",
            "24        21      F         artist    94533\n",
            "25        39      M       engineer    55107\n"
          ]
        }
      ],
      "source": [
        "print(users.head(25))"
      ]
    },
    {
      "cell_type": "markdown",
      "id": "bd80aafc",
      "metadata": {
        "id": "bd80aafc"
      },
      "source": [
        "### Step 5. See the last 10 entries"
      ]
    },
    {
      "cell_type": "code",
      "execution_count": null,
      "id": "f58c85c1",
      "metadata": {
        "colab": {
          "base_uri": "https://localhost:8080/"
        },
        "id": "f58c85c1",
        "outputId": "0a116c9a-2e85-4d6e-e90c-cb0b7e601d0f",
        "scrolled": true
      },
      "outputs": [
        {
          "output_type": "stream",
          "name": "stdout",
          "text": [
            "         age gender     occupation zip_code\n",
            "user_id                                    \n",
            "934       61      M       engineer    22902\n",
            "935       42      M         doctor    66221\n",
            "936       24      M          other    32789\n",
            "937       48      M       educator    98072\n",
            "938       38      F     technician    55038\n",
            "939       26      F        student    33319\n",
            "940       32      M  administrator    02215\n",
            "941       20      M        student    97229\n",
            "942       48      F      librarian    78209\n",
            "943       22      M        student    77841\n"
          ]
        }
      ],
      "source": [
        "print(users.tail(10))"
      ]
    },
    {
      "cell_type": "markdown",
      "id": "e65bd1c8",
      "metadata": {
        "id": "e65bd1c8"
      },
      "source": [
        "### Step 6. What is the number of observations in the dataset?"
      ]
    },
    {
      "cell_type": "code",
      "execution_count": null,
      "id": "2178d579",
      "metadata": {
        "colab": {
          "base_uri": "https://localhost:8080/"
        },
        "id": "2178d579",
        "outputId": "adf91ff1-83e4-446b-c4a9-6066ab754564"
      },
      "outputs": [
        {
          "output_type": "stream",
          "name": "stdout",
          "text": [
            "943\n"
          ]
        }
      ],
      "source": [
        "print(users.shape[0])"
      ]
    },
    {
      "cell_type": "markdown",
      "id": "218a3880",
      "metadata": {
        "id": "218a3880"
      },
      "source": [
        "### Step 7. What is the number of columns in the dataset?"
      ]
    },
    {
      "cell_type": "code",
      "execution_count": null,
      "id": "d569393f",
      "metadata": {
        "colab": {
          "base_uri": "https://localhost:8080/"
        },
        "id": "d569393f",
        "outputId": "548442d0-cf6d-4bb4-fa26-ca202983706e"
      },
      "outputs": [
        {
          "output_type": "stream",
          "name": "stdout",
          "text": [
            "4\n"
          ]
        }
      ],
      "source": [
        "print(users.shape[1])"
      ]
    },
    {
      "cell_type": "markdown",
      "id": "2a146809",
      "metadata": {
        "id": "2a146809"
      },
      "source": [
        "### Step 8. Print the name of all the columns."
      ]
    },
    {
      "cell_type": "code",
      "execution_count": null,
      "id": "9cf2fa51",
      "metadata": {
        "colab": {
          "base_uri": "https://localhost:8080/"
        },
        "id": "9cf2fa51",
        "outputId": "20ddfbf9-b8d9-4c6e-ef42-21237bd5ded5"
      },
      "outputs": [
        {
          "output_type": "stream",
          "name": "stdout",
          "text": [
            "['age', 'gender', 'occupation', 'zip_code']\n"
          ]
        }
      ],
      "source": [
        "column_names = []\n",
        "for column in users.columns:\n",
        "  column_names.append(column)\n",
        "print(column_names)"
      ]
    },
    {
      "cell_type": "markdown",
      "id": "2b96bd9b",
      "metadata": {
        "id": "2b96bd9b"
      },
      "source": [
        "### Step 9. How is the dataset indexed?"
      ]
    },
    {
      "cell_type": "code",
      "execution_count": null,
      "id": "dd192018",
      "metadata": {
        "id": "dd192018",
        "outputId": "100e6579-4275-4d00-9874-4a6ad90651b1",
        "colab": {
          "base_uri": "https://localhost:8080/"
        }
      },
      "outputs": [
        {
          "output_type": "stream",
          "name": "stdout",
          "text": [
            "Int64Index([  1,   2,   3,   4,   5,   6,   7,   8,   9,  10,\n",
            "            ...\n",
            "            934, 935, 936, 937, 938, 939, 940, 941, 942, 943],\n",
            "           dtype='int64', name='user_id', length=943)\n"
          ]
        }
      ],
      "source": [
        "print(users.index)"
      ]
    },
    {
      "cell_type": "markdown",
      "id": "6427a9b7",
      "metadata": {
        "id": "6427a9b7"
      },
      "source": [
        "### Step 10. What is the data type of each column?"
      ]
    },
    {
      "cell_type": "code",
      "execution_count": null,
      "id": "1e75ae0a",
      "metadata": {
        "id": "1e75ae0a",
        "outputId": "ade93e25-a980-4248-8d69-8e0ba06ccc92",
        "colab": {
          "base_uri": "https://localhost:8080/"
        }
      },
      "outputs": [
        {
          "output_type": "stream",
          "name": "stdout",
          "text": [
            "age            int64\n",
            "gender        object\n",
            "occupation    object\n",
            "zip_code      object\n",
            "dtype: object\n"
          ]
        }
      ],
      "source": [
        "print(users.dtypes)"
      ]
    },
    {
      "cell_type": "markdown",
      "id": "e9676543",
      "metadata": {
        "id": "e9676543"
      },
      "source": [
        "### Step 11. Print only the occupation column"
      ]
    },
    {
      "cell_type": "code",
      "execution_count": null,
      "id": "e34386ba",
      "metadata": {
        "id": "e34386ba",
        "outputId": "78acba14-690c-4589-849f-33c5392d6888",
        "colab": {
          "base_uri": "https://localhost:8080/"
        }
      },
      "outputs": [
        {
          "output_type": "stream",
          "name": "stdout",
          "text": [
            "user_id\n",
            "1         technician\n",
            "2              other\n",
            "3             writer\n",
            "4         technician\n",
            "5              other\n",
            "           ...      \n",
            "939          student\n",
            "940    administrator\n",
            "941          student\n",
            "942        librarian\n",
            "943          student\n",
            "Name: occupation, Length: 943, dtype: object\n"
          ]
        }
      ],
      "source": [
        "print(users['occupation'])"
      ]
    },
    {
      "cell_type": "markdown",
      "id": "41b56d2e",
      "metadata": {
        "id": "41b56d2e"
      },
      "source": [
        "### Step 12. How many different occupations are in this dataset?"
      ]
    },
    {
      "cell_type": "code",
      "execution_count": null,
      "id": "0051bdb3",
      "metadata": {
        "id": "0051bdb3",
        "outputId": "84d793ed-b1ec-4306-e9fe-c15fac106cf2",
        "colab": {
          "base_uri": "https://localhost:8080/"
        }
      },
      "outputs": [
        {
          "output_type": "stream",
          "name": "stdout",
          "text": [
            "21\n"
          ]
        }
      ],
      "source": [
        "print(users[\"occupation\"].nunique())"
      ]
    },
    {
      "cell_type": "markdown",
      "id": "4dba5819",
      "metadata": {
        "id": "4dba5819"
      },
      "source": [
        "### Step 13. What is the most frequent occupation?"
      ]
    },
    {
      "cell_type": "code",
      "execution_count": null,
      "id": "d0778f17",
      "metadata": {
        "id": "d0778f17",
        "outputId": "da8f388a-22d6-4f3f-b529-005971b357d2",
        "colab": {
          "base_uri": "https://localhost:8080/"
        }
      },
      "outputs": [
        {
          "output_type": "stream",
          "name": "stdout",
          "text": [
            "student\n"
          ]
        }
      ],
      "source": [
        "print(users[\"occupation\"].value_counts().index[0])"
      ]
    },
    {
      "cell_type": "markdown",
      "id": "4386018b",
      "metadata": {
        "id": "4386018b"
      },
      "source": [
        "### Step 14. Summarize the DataFrame."
      ]
    },
    {
      "cell_type": "code",
      "execution_count": null,
      "id": "aa3e5433",
      "metadata": {
        "id": "aa3e5433",
        "outputId": "15a07205-a4a6-49bb-c7ea-6f8262f6dacd",
        "colab": {
          "base_uri": "https://localhost:8080/"
        }
      },
      "outputs": [
        {
          "output_type": "stream",
          "name": "stdout",
          "text": [
            "<class 'pandas.core.frame.DataFrame'>\n",
            "Int64Index: 943 entries, 1 to 943\n",
            "Data columns (total 4 columns):\n",
            " #   Column      Non-Null Count  Dtype \n",
            "---  ------      --------------  ----- \n",
            " 0   age         943 non-null    int64 \n",
            " 1   gender      943 non-null    object\n",
            " 2   occupation  943 non-null    object\n",
            " 3   zip_code    943 non-null    object\n",
            "dtypes: int64(1), object(3)\n",
            "memory usage: 36.8+ KB\n",
            "None\n"
          ]
        }
      ],
      "source": [
        "\n",
        "print(users.info())"
      ]
    },
    {
      "cell_type": "markdown",
      "id": "79bd4c12",
      "metadata": {
        "id": "79bd4c12"
      },
      "source": [
        "### Step 15. Summarize all the columns"
      ]
    },
    {
      "cell_type": "code",
      "execution_count": null,
      "id": "8b5ea300",
      "metadata": {
        "id": "8b5ea300",
        "outputId": "5b570e3b-cd7c-4a7b-f46c-c2dd68850b93",
        "colab": {
          "base_uri": "https://localhost:8080/"
        }
      },
      "outputs": [
        {
          "output_type": "stream",
          "name": "stdout",
          "text": [
            "               age gender occupation zip_code\n",
            "count   943.000000    943        943      943\n",
            "unique         NaN      2         21      795\n",
            "top            NaN      M    student    55414\n",
            "freq           NaN    670        196        9\n",
            "mean     34.051962    NaN        NaN      NaN\n",
            "std      12.192740    NaN        NaN      NaN\n",
            "min       7.000000    NaN        NaN      NaN\n",
            "25%      25.000000    NaN        NaN      NaN\n",
            "50%      31.000000    NaN        NaN      NaN\n",
            "75%      43.000000    NaN        NaN      NaN\n",
            "max      73.000000    NaN        NaN      NaN\n"
          ]
        }
      ],
      "source": [
        "print(users.describe(include ='all'))"
      ]
    },
    {
      "cell_type": "markdown",
      "id": "42126f94",
      "metadata": {
        "id": "42126f94"
      },
      "source": [
        "### Step 16. Summarize only the occupation column"
      ]
    },
    {
      "cell_type": "code",
      "execution_count": null,
      "id": "28b3daa9",
      "metadata": {
        "id": "28b3daa9",
        "outputId": "4173514f-21a2-46e1-8a7e-fa28f512c8e1",
        "colab": {
          "base_uri": "https://localhost:8080/"
        }
      },
      "outputs": [
        {
          "output_type": "stream",
          "name": "stdout",
          "text": [
            "count         943\n",
            "unique         21\n",
            "top       student\n",
            "freq          196\n",
            "Name: occupation, dtype: object\n"
          ]
        }
      ],
      "source": [
        "print(users[\"occupation\"].describe())"
      ]
    },
    {
      "cell_type": "markdown",
      "id": "e368e6f5",
      "metadata": {
        "id": "e368e6f5"
      },
      "source": [
        "### Step 17. What is the mean age of users?"
      ]
    },
    {
      "cell_type": "code",
      "execution_count": null,
      "id": "3106a605",
      "metadata": {
        "id": "3106a605",
        "outputId": "554109d7-7b37-48d9-c6e6-950546de99c0",
        "colab": {
          "base_uri": "https://localhost:8080/"
        }
      },
      "outputs": [
        {
          "output_type": "stream",
          "name": "stdout",
          "text": [
            "34.05196182396607\n"
          ]
        }
      ],
      "source": [
        "print(users[\"age\"].mean())"
      ]
    },
    {
      "cell_type": "markdown",
      "id": "1e65e834",
      "metadata": {
        "id": "1e65e834"
      },
      "source": [
        "### Step 18. What is the age with least occurrence?"
      ]
    },
    {
      "cell_type": "code",
      "execution_count": null,
      "id": "5ee5a0f2",
      "metadata": {
        "id": "5ee5a0f2",
        "outputId": "2796ac3d-b11b-4fe5-db21-4efe45fc3f44",
        "colab": {
          "base_uri": "https://localhost:8080/"
        }
      },
      "outputs": [
        {
          "output_type": "stream",
          "name": "stdout",
          "text": [
            "[7, 66, 11, 10, 73]\n"
          ]
        }
      ],
      "source": [
        "age_counts = users[\"age\"].value_counts()\n",
        "min_count = age_counts.min()\n",
        "print(age_counts[age_counts==min_count].index.tolist())"
      ]
    },
    {
      "cell_type": "markdown",
      "id": "f3303768",
      "metadata": {
        "id": "f3303768"
      },
      "source": [
        "## Section 2: Filtering and Sorting"
      ]
    },
    {
      "cell_type": "markdown",
      "id": "f9f86817",
      "metadata": {
        "id": "f9f86817"
      },
      "source": [
        "### Step 1. Import the necessary libraries"
      ]
    },
    {
      "cell_type": "code",
      "execution_count": null,
      "id": "746df2d7",
      "metadata": {
        "id": "746df2d7"
      },
      "outputs": [],
      "source": [
        "import pandas as pd\n",
        "url = \"https://raw.githubusercontent.com/guipsamora/pandas_exercises/master/02_Filtering_%26_Sorting/Euro12/Euro_2012_stats_TEAM.csv\""
      ]
    },
    {
      "cell_type": "markdown",
      "id": "00896ee1",
      "metadata": {
        "id": "00896ee1"
      },
      "source": [
        "### Step 2. Import the dataset from this [address](https://raw.githubusercontent.com/guipsamora/pandas_exercises/master/02_Filtering_%26_Sorting/Euro12/Euro_2012_stats_TEAM.csv). "
      ]
    },
    {
      "cell_type": "markdown",
      "id": "d4d5c165",
      "metadata": {
        "id": "d4d5c165"
      },
      "source": [
        "### Step 3. Assign it to a variable called euro12."
      ]
    },
    {
      "cell_type": "code",
      "execution_count": null,
      "id": "2976e766",
      "metadata": {
        "colab": {
          "base_uri": "https://localhost:8080/",
          "height": 659
        },
        "id": "2976e766",
        "outputId": "656dd4de-b2a1-486f-c7f8-21c3bb0976d4"
      },
      "outputs": [
        {
          "output_type": "execute_result",
          "data": {
            "text/plain": [
              "                   Team  Goals  Shots on target  Shots off target  \\\n",
              "0               Croatia      4               13                12   \n",
              "1        Czech Republic      4               13                18   \n",
              "2               Denmark      4               10                10   \n",
              "3               England      5               11                18   \n",
              "4                France      3               22                24   \n",
              "5               Germany     10               32                32   \n",
              "6                Greece      5                8                18   \n",
              "7                 Italy      6               34                45   \n",
              "8           Netherlands      2               12                36   \n",
              "9                Poland      2               15                23   \n",
              "10             Portugal      6               22                42   \n",
              "11  Republic of Ireland      1                7                12   \n",
              "12               Russia      5                9                31   \n",
              "13                Spain     12               42                33   \n",
              "14               Sweden      5               17                19   \n",
              "15              Ukraine      2                7                26   \n",
              "\n",
              "   Shooting Accuracy % Goals-to-shots  Total shots (inc. Blocked)  \\\n",
              "0              51.9%            16.0%                          32   \n",
              "1              41.9%            12.9%                          39   \n",
              "2              50.0%            20.0%                          27   \n",
              "3              50.0%            17.2%                          40   \n",
              "4              37.9%             6.5%                          65   \n",
              "5              47.8%            15.6%                          80   \n",
              "6              30.7%            19.2%                          32   \n",
              "7              43.0%             7.5%                         110   \n",
              "8              25.0%             4.1%                          60   \n",
              "9              39.4%             5.2%                          48   \n",
              "10             34.3%             9.3%                          82   \n",
              "11             36.8%             5.2%                          28   \n",
              "12             22.5%            12.5%                          59   \n",
              "13             55.9%            16.0%                         100   \n",
              "14             47.2%            13.8%                          39   \n",
              "15             21.2%             6.0%                          38   \n",
              "\n",
              "    Hit Woodwork  Penalty goals  Penalties not scored  ...  Saves made  \\\n",
              "0              0              0                     0  ...          13   \n",
              "1              0              0                     0  ...           9   \n",
              "2              1              0                     0  ...          10   \n",
              "3              0              0                     0  ...          22   \n",
              "4              1              0                     0  ...           6   \n",
              "5              2              1                     0  ...          10   \n",
              "6              1              1                     1  ...          13   \n",
              "7              2              0                     0  ...          20   \n",
              "8              2              0                     0  ...          12   \n",
              "9              0              0                     0  ...           6   \n",
              "10             6              0                     0  ...          10   \n",
              "11             0              0                     0  ...          17   \n",
              "12             2              0                     0  ...          10   \n",
              "13             0              1                     0  ...          15   \n",
              "14             3              0                     0  ...           8   \n",
              "15             0              0                     0  ...          13   \n",
              "\n",
              "    Saves-to-shots ratio  Fouls Won Fouls Conceded  Offsides  Yellow Cards  \\\n",
              "0                  81.3%         41             62         2             9   \n",
              "1                  60.1%         53             73         8             7   \n",
              "2                  66.7%         25             38         8             4   \n",
              "3                  88.1%         43             45         6             5   \n",
              "4                  54.6%         36             51         5             6   \n",
              "5                  62.6%         63             49        12             4   \n",
              "6                  65.1%         67             48        12             9   \n",
              "7                  74.1%        101             89        16            16   \n",
              "8                  70.6%         35             30         3             5   \n",
              "9                  66.7%         48             56         3             7   \n",
              "10                 71.5%         73             90        10            12   \n",
              "11                 65.4%         43             51        11             6   \n",
              "12                 77.0%         34             43         4             6   \n",
              "13                 93.8%        102             83        19            11   \n",
              "14                 61.6%         35             51         7             7   \n",
              "15                 76.5%         48             31         4             5   \n",
              "\n",
              "    Red Cards  Subs on  Subs off  Players Used  \n",
              "0           0        9         9            16  \n",
              "1           0       11        11            19  \n",
              "2           0        7         7            15  \n",
              "3           0       11        11            16  \n",
              "4           0       11        11            19  \n",
              "5           0       15        15            17  \n",
              "6           1       12        12            20  \n",
              "7           0       18        18            19  \n",
              "8           0        7         7            15  \n",
              "9           1        7         7            17  \n",
              "10          0       14        14            16  \n",
              "11          1       10        10            17  \n",
              "12          0        7         7            16  \n",
              "13          0       17        17            18  \n",
              "14          0        9         9            18  \n",
              "15          0        9         9            18  \n",
              "\n",
              "[16 rows x 35 columns]"
            ],
            "text/html": [
              "\n",
              "  <div id=\"df-105fb4be-5de3-46b0-a5ac-75a5c635fffb\">\n",
              "    <div class=\"colab-df-container\">\n",
              "      <div>\n",
              "<style scoped>\n",
              "    .dataframe tbody tr th:only-of-type {\n",
              "        vertical-align: middle;\n",
              "    }\n",
              "\n",
              "    .dataframe tbody tr th {\n",
              "        vertical-align: top;\n",
              "    }\n",
              "\n",
              "    .dataframe thead th {\n",
              "        text-align: right;\n",
              "    }\n",
              "</style>\n",
              "<table border=\"1\" class=\"dataframe\">\n",
              "  <thead>\n",
              "    <tr style=\"text-align: right;\">\n",
              "      <th></th>\n",
              "      <th>Team</th>\n",
              "      <th>Goals</th>\n",
              "      <th>Shots on target</th>\n",
              "      <th>Shots off target</th>\n",
              "      <th>Shooting Accuracy</th>\n",
              "      <th>% Goals-to-shots</th>\n",
              "      <th>Total shots (inc. Blocked)</th>\n",
              "      <th>Hit Woodwork</th>\n",
              "      <th>Penalty goals</th>\n",
              "      <th>Penalties not scored</th>\n",
              "      <th>...</th>\n",
              "      <th>Saves made</th>\n",
              "      <th>Saves-to-shots ratio</th>\n",
              "      <th>Fouls Won</th>\n",
              "      <th>Fouls Conceded</th>\n",
              "      <th>Offsides</th>\n",
              "      <th>Yellow Cards</th>\n",
              "      <th>Red Cards</th>\n",
              "      <th>Subs on</th>\n",
              "      <th>Subs off</th>\n",
              "      <th>Players Used</th>\n",
              "    </tr>\n",
              "  </thead>\n",
              "  <tbody>\n",
              "    <tr>\n",
              "      <th>0</th>\n",
              "      <td>Croatia</td>\n",
              "      <td>4</td>\n",
              "      <td>13</td>\n",
              "      <td>12</td>\n",
              "      <td>51.9%</td>\n",
              "      <td>16.0%</td>\n",
              "      <td>32</td>\n",
              "      <td>0</td>\n",
              "      <td>0</td>\n",
              "      <td>0</td>\n",
              "      <td>...</td>\n",
              "      <td>13</td>\n",
              "      <td>81.3%</td>\n",
              "      <td>41</td>\n",
              "      <td>62</td>\n",
              "      <td>2</td>\n",
              "      <td>9</td>\n",
              "      <td>0</td>\n",
              "      <td>9</td>\n",
              "      <td>9</td>\n",
              "      <td>16</td>\n",
              "    </tr>\n",
              "    <tr>\n",
              "      <th>1</th>\n",
              "      <td>Czech Republic</td>\n",
              "      <td>4</td>\n",
              "      <td>13</td>\n",
              "      <td>18</td>\n",
              "      <td>41.9%</td>\n",
              "      <td>12.9%</td>\n",
              "      <td>39</td>\n",
              "      <td>0</td>\n",
              "      <td>0</td>\n",
              "      <td>0</td>\n",
              "      <td>...</td>\n",
              "      <td>9</td>\n",
              "      <td>60.1%</td>\n",
              "      <td>53</td>\n",
              "      <td>73</td>\n",
              "      <td>8</td>\n",
              "      <td>7</td>\n",
              "      <td>0</td>\n",
              "      <td>11</td>\n",
              "      <td>11</td>\n",
              "      <td>19</td>\n",
              "    </tr>\n",
              "    <tr>\n",
              "      <th>2</th>\n",
              "      <td>Denmark</td>\n",
              "      <td>4</td>\n",
              "      <td>10</td>\n",
              "      <td>10</td>\n",
              "      <td>50.0%</td>\n",
              "      <td>20.0%</td>\n",
              "      <td>27</td>\n",
              "      <td>1</td>\n",
              "      <td>0</td>\n",
              "      <td>0</td>\n",
              "      <td>...</td>\n",
              "      <td>10</td>\n",
              "      <td>66.7%</td>\n",
              "      <td>25</td>\n",
              "      <td>38</td>\n",
              "      <td>8</td>\n",
              "      <td>4</td>\n",
              "      <td>0</td>\n",
              "      <td>7</td>\n",
              "      <td>7</td>\n",
              "      <td>15</td>\n",
              "    </tr>\n",
              "    <tr>\n",
              "      <th>3</th>\n",
              "      <td>England</td>\n",
              "      <td>5</td>\n",
              "      <td>11</td>\n",
              "      <td>18</td>\n",
              "      <td>50.0%</td>\n",
              "      <td>17.2%</td>\n",
              "      <td>40</td>\n",
              "      <td>0</td>\n",
              "      <td>0</td>\n",
              "      <td>0</td>\n",
              "      <td>...</td>\n",
              "      <td>22</td>\n",
              "      <td>88.1%</td>\n",
              "      <td>43</td>\n",
              "      <td>45</td>\n",
              "      <td>6</td>\n",
              "      <td>5</td>\n",
              "      <td>0</td>\n",
              "      <td>11</td>\n",
              "      <td>11</td>\n",
              "      <td>16</td>\n",
              "    </tr>\n",
              "    <tr>\n",
              "      <th>4</th>\n",
              "      <td>France</td>\n",
              "      <td>3</td>\n",
              "      <td>22</td>\n",
              "      <td>24</td>\n",
              "      <td>37.9%</td>\n",
              "      <td>6.5%</td>\n",
              "      <td>65</td>\n",
              "      <td>1</td>\n",
              "      <td>0</td>\n",
              "      <td>0</td>\n",
              "      <td>...</td>\n",
              "      <td>6</td>\n",
              "      <td>54.6%</td>\n",
              "      <td>36</td>\n",
              "      <td>51</td>\n",
              "      <td>5</td>\n",
              "      <td>6</td>\n",
              "      <td>0</td>\n",
              "      <td>11</td>\n",
              "      <td>11</td>\n",
              "      <td>19</td>\n",
              "    </tr>\n",
              "    <tr>\n",
              "      <th>5</th>\n",
              "      <td>Germany</td>\n",
              "      <td>10</td>\n",
              "      <td>32</td>\n",
              "      <td>32</td>\n",
              "      <td>47.8%</td>\n",
              "      <td>15.6%</td>\n",
              "      <td>80</td>\n",
              "      <td>2</td>\n",
              "      <td>1</td>\n",
              "      <td>0</td>\n",
              "      <td>...</td>\n",
              "      <td>10</td>\n",
              "      <td>62.6%</td>\n",
              "      <td>63</td>\n",
              "      <td>49</td>\n",
              "      <td>12</td>\n",
              "      <td>4</td>\n",
              "      <td>0</td>\n",
              "      <td>15</td>\n",
              "      <td>15</td>\n",
              "      <td>17</td>\n",
              "    </tr>\n",
              "    <tr>\n",
              "      <th>6</th>\n",
              "      <td>Greece</td>\n",
              "      <td>5</td>\n",
              "      <td>8</td>\n",
              "      <td>18</td>\n",
              "      <td>30.7%</td>\n",
              "      <td>19.2%</td>\n",
              "      <td>32</td>\n",
              "      <td>1</td>\n",
              "      <td>1</td>\n",
              "      <td>1</td>\n",
              "      <td>...</td>\n",
              "      <td>13</td>\n",
              "      <td>65.1%</td>\n",
              "      <td>67</td>\n",
              "      <td>48</td>\n",
              "      <td>12</td>\n",
              "      <td>9</td>\n",
              "      <td>1</td>\n",
              "      <td>12</td>\n",
              "      <td>12</td>\n",
              "      <td>20</td>\n",
              "    </tr>\n",
              "    <tr>\n",
              "      <th>7</th>\n",
              "      <td>Italy</td>\n",
              "      <td>6</td>\n",
              "      <td>34</td>\n",
              "      <td>45</td>\n",
              "      <td>43.0%</td>\n",
              "      <td>7.5%</td>\n",
              "      <td>110</td>\n",
              "      <td>2</td>\n",
              "      <td>0</td>\n",
              "      <td>0</td>\n",
              "      <td>...</td>\n",
              "      <td>20</td>\n",
              "      <td>74.1%</td>\n",
              "      <td>101</td>\n",
              "      <td>89</td>\n",
              "      <td>16</td>\n",
              "      <td>16</td>\n",
              "      <td>0</td>\n",
              "      <td>18</td>\n",
              "      <td>18</td>\n",
              "      <td>19</td>\n",
              "    </tr>\n",
              "    <tr>\n",
              "      <th>8</th>\n",
              "      <td>Netherlands</td>\n",
              "      <td>2</td>\n",
              "      <td>12</td>\n",
              "      <td>36</td>\n",
              "      <td>25.0%</td>\n",
              "      <td>4.1%</td>\n",
              "      <td>60</td>\n",
              "      <td>2</td>\n",
              "      <td>0</td>\n",
              "      <td>0</td>\n",
              "      <td>...</td>\n",
              "      <td>12</td>\n",
              "      <td>70.6%</td>\n",
              "      <td>35</td>\n",
              "      <td>30</td>\n",
              "      <td>3</td>\n",
              "      <td>5</td>\n",
              "      <td>0</td>\n",
              "      <td>7</td>\n",
              "      <td>7</td>\n",
              "      <td>15</td>\n",
              "    </tr>\n",
              "    <tr>\n",
              "      <th>9</th>\n",
              "      <td>Poland</td>\n",
              "      <td>2</td>\n",
              "      <td>15</td>\n",
              "      <td>23</td>\n",
              "      <td>39.4%</td>\n",
              "      <td>5.2%</td>\n",
              "      <td>48</td>\n",
              "      <td>0</td>\n",
              "      <td>0</td>\n",
              "      <td>0</td>\n",
              "      <td>...</td>\n",
              "      <td>6</td>\n",
              "      <td>66.7%</td>\n",
              "      <td>48</td>\n",
              "      <td>56</td>\n",
              "      <td>3</td>\n",
              "      <td>7</td>\n",
              "      <td>1</td>\n",
              "      <td>7</td>\n",
              "      <td>7</td>\n",
              "      <td>17</td>\n",
              "    </tr>\n",
              "    <tr>\n",
              "      <th>10</th>\n",
              "      <td>Portugal</td>\n",
              "      <td>6</td>\n",
              "      <td>22</td>\n",
              "      <td>42</td>\n",
              "      <td>34.3%</td>\n",
              "      <td>9.3%</td>\n",
              "      <td>82</td>\n",
              "      <td>6</td>\n",
              "      <td>0</td>\n",
              "      <td>0</td>\n",
              "      <td>...</td>\n",
              "      <td>10</td>\n",
              "      <td>71.5%</td>\n",
              "      <td>73</td>\n",
              "      <td>90</td>\n",
              "      <td>10</td>\n",
              "      <td>12</td>\n",
              "      <td>0</td>\n",
              "      <td>14</td>\n",
              "      <td>14</td>\n",
              "      <td>16</td>\n",
              "    </tr>\n",
              "    <tr>\n",
              "      <th>11</th>\n",
              "      <td>Republic of Ireland</td>\n",
              "      <td>1</td>\n",
              "      <td>7</td>\n",
              "      <td>12</td>\n",
              "      <td>36.8%</td>\n",
              "      <td>5.2%</td>\n",
              "      <td>28</td>\n",
              "      <td>0</td>\n",
              "      <td>0</td>\n",
              "      <td>0</td>\n",
              "      <td>...</td>\n",
              "      <td>17</td>\n",
              "      <td>65.4%</td>\n",
              "      <td>43</td>\n",
              "      <td>51</td>\n",
              "      <td>11</td>\n",
              "      <td>6</td>\n",
              "      <td>1</td>\n",
              "      <td>10</td>\n",
              "      <td>10</td>\n",
              "      <td>17</td>\n",
              "    </tr>\n",
              "    <tr>\n",
              "      <th>12</th>\n",
              "      <td>Russia</td>\n",
              "      <td>5</td>\n",
              "      <td>9</td>\n",
              "      <td>31</td>\n",
              "      <td>22.5%</td>\n",
              "      <td>12.5%</td>\n",
              "      <td>59</td>\n",
              "      <td>2</td>\n",
              "      <td>0</td>\n",
              "      <td>0</td>\n",
              "      <td>...</td>\n",
              "      <td>10</td>\n",
              "      <td>77.0%</td>\n",
              "      <td>34</td>\n",
              "      <td>43</td>\n",
              "      <td>4</td>\n",
              "      <td>6</td>\n",
              "      <td>0</td>\n",
              "      <td>7</td>\n",
              "      <td>7</td>\n",
              "      <td>16</td>\n",
              "    </tr>\n",
              "    <tr>\n",
              "      <th>13</th>\n",
              "      <td>Spain</td>\n",
              "      <td>12</td>\n",
              "      <td>42</td>\n",
              "      <td>33</td>\n",
              "      <td>55.9%</td>\n",
              "      <td>16.0%</td>\n",
              "      <td>100</td>\n",
              "      <td>0</td>\n",
              "      <td>1</td>\n",
              "      <td>0</td>\n",
              "      <td>...</td>\n",
              "      <td>15</td>\n",
              "      <td>93.8%</td>\n",
              "      <td>102</td>\n",
              "      <td>83</td>\n",
              "      <td>19</td>\n",
              "      <td>11</td>\n",
              "      <td>0</td>\n",
              "      <td>17</td>\n",
              "      <td>17</td>\n",
              "      <td>18</td>\n",
              "    </tr>\n",
              "    <tr>\n",
              "      <th>14</th>\n",
              "      <td>Sweden</td>\n",
              "      <td>5</td>\n",
              "      <td>17</td>\n",
              "      <td>19</td>\n",
              "      <td>47.2%</td>\n",
              "      <td>13.8%</td>\n",
              "      <td>39</td>\n",
              "      <td>3</td>\n",
              "      <td>0</td>\n",
              "      <td>0</td>\n",
              "      <td>...</td>\n",
              "      <td>8</td>\n",
              "      <td>61.6%</td>\n",
              "      <td>35</td>\n",
              "      <td>51</td>\n",
              "      <td>7</td>\n",
              "      <td>7</td>\n",
              "      <td>0</td>\n",
              "      <td>9</td>\n",
              "      <td>9</td>\n",
              "      <td>18</td>\n",
              "    </tr>\n",
              "    <tr>\n",
              "      <th>15</th>\n",
              "      <td>Ukraine</td>\n",
              "      <td>2</td>\n",
              "      <td>7</td>\n",
              "      <td>26</td>\n",
              "      <td>21.2%</td>\n",
              "      <td>6.0%</td>\n",
              "      <td>38</td>\n",
              "      <td>0</td>\n",
              "      <td>0</td>\n",
              "      <td>0</td>\n",
              "      <td>...</td>\n",
              "      <td>13</td>\n",
              "      <td>76.5%</td>\n",
              "      <td>48</td>\n",
              "      <td>31</td>\n",
              "      <td>4</td>\n",
              "      <td>5</td>\n",
              "      <td>0</td>\n",
              "      <td>9</td>\n",
              "      <td>9</td>\n",
              "      <td>18</td>\n",
              "    </tr>\n",
              "  </tbody>\n",
              "</table>\n",
              "<p>16 rows × 35 columns</p>\n",
              "</div>\n",
              "      <button class=\"colab-df-convert\" onclick=\"convertToInteractive('df-105fb4be-5de3-46b0-a5ac-75a5c635fffb')\"\n",
              "              title=\"Convert this dataframe to an interactive table.\"\n",
              "              style=\"display:none;\">\n",
              "        \n",
              "  <svg xmlns=\"http://www.w3.org/2000/svg\" height=\"24px\"viewBox=\"0 0 24 24\"\n",
              "       width=\"24px\">\n",
              "    <path d=\"M0 0h24v24H0V0z\" fill=\"none\"/>\n",
              "    <path d=\"M18.56 5.44l.94 2.06.94-2.06 2.06-.94-2.06-.94-.94-2.06-.94 2.06-2.06.94zm-11 1L8.5 8.5l.94-2.06 2.06-.94-2.06-.94L8.5 2.5l-.94 2.06-2.06.94zm10 10l.94 2.06.94-2.06 2.06-.94-2.06-.94-.94-2.06-.94 2.06-2.06.94z\"/><path d=\"M17.41 7.96l-1.37-1.37c-.4-.4-.92-.59-1.43-.59-.52 0-1.04.2-1.43.59L10.3 9.45l-7.72 7.72c-.78.78-.78 2.05 0 2.83L4 21.41c.39.39.9.59 1.41.59.51 0 1.02-.2 1.41-.59l7.78-7.78 2.81-2.81c.8-.78.8-2.07 0-2.86zM5.41 20L4 18.59l7.72-7.72 1.47 1.35L5.41 20z\"/>\n",
              "  </svg>\n",
              "      </button>\n",
              "      \n",
              "  <style>\n",
              "    .colab-df-container {\n",
              "      display:flex;\n",
              "      flex-wrap:wrap;\n",
              "      gap: 12px;\n",
              "    }\n",
              "\n",
              "    .colab-df-convert {\n",
              "      background-color: #E8F0FE;\n",
              "      border: none;\n",
              "      border-radius: 50%;\n",
              "      cursor: pointer;\n",
              "      display: none;\n",
              "      fill: #1967D2;\n",
              "      height: 32px;\n",
              "      padding: 0 0 0 0;\n",
              "      width: 32px;\n",
              "    }\n",
              "\n",
              "    .colab-df-convert:hover {\n",
              "      background-color: #E2EBFA;\n",
              "      box-shadow: 0px 1px 2px rgba(60, 64, 67, 0.3), 0px 1px 3px 1px rgba(60, 64, 67, 0.15);\n",
              "      fill: #174EA6;\n",
              "    }\n",
              "\n",
              "    [theme=dark] .colab-df-convert {\n",
              "      background-color: #3B4455;\n",
              "      fill: #D2E3FC;\n",
              "    }\n",
              "\n",
              "    [theme=dark] .colab-df-convert:hover {\n",
              "      background-color: #434B5C;\n",
              "      box-shadow: 0px 1px 3px 1px rgba(0, 0, 0, 0.15);\n",
              "      filter: drop-shadow(0px 1px 2px rgba(0, 0, 0, 0.3));\n",
              "      fill: #FFFFFF;\n",
              "    }\n",
              "  </style>\n",
              "\n",
              "      <script>\n",
              "        const buttonEl =\n",
              "          document.querySelector('#df-105fb4be-5de3-46b0-a5ac-75a5c635fffb button.colab-df-convert');\n",
              "        buttonEl.style.display =\n",
              "          google.colab.kernel.accessAllowed ? 'block' : 'none';\n",
              "\n",
              "        async function convertToInteractive(key) {\n",
              "          const element = document.querySelector('#df-105fb4be-5de3-46b0-a5ac-75a5c635fffb');\n",
              "          const dataTable =\n",
              "            await google.colab.kernel.invokeFunction('convertToInteractive',\n",
              "                                                     [key], {});\n",
              "          if (!dataTable) return;\n",
              "\n",
              "          const docLinkHtml = 'Like what you see? Visit the ' +\n",
              "            '<a target=\"_blank\" href=https://colab.research.google.com/notebooks/data_table.ipynb>data table notebook</a>'\n",
              "            + ' to learn more about interactive tables.';\n",
              "          element.innerHTML = '';\n",
              "          dataTable['output_type'] = 'display_data';\n",
              "          await google.colab.output.renderOutput(dataTable, element);\n",
              "          const docLink = document.createElement('div');\n",
              "          docLink.innerHTML = docLinkHtml;\n",
              "          element.appendChild(docLink);\n",
              "        }\n",
              "      </script>\n",
              "    </div>\n",
              "  </div>\n",
              "  "
            ]
          },
          "metadata": {},
          "execution_count": 154
        }
      ],
      "source": [
        "euro12 = pd.read_csv(url, delimiter=',')\n",
        "euro12"
      ]
    },
    {
      "cell_type": "markdown",
      "id": "e54e7b26",
      "metadata": {
        "id": "e54e7b26"
      },
      "source": [
        "### Step 4. Select only the Goal column."
      ]
    },
    {
      "cell_type": "code",
      "execution_count": null,
      "id": "0d68252a",
      "metadata": {
        "id": "0d68252a",
        "outputId": "874e0de2-5c26-400f-b076-b8ec4e844442",
        "colab": {
          "base_uri": "https://localhost:8080/"
        }
      },
      "outputs": [
        {
          "output_type": "stream",
          "name": "stdout",
          "text": [
            "0      4\n",
            "1      4\n",
            "2      4\n",
            "3      5\n",
            "4      3\n",
            "5     10\n",
            "6      5\n",
            "7      6\n",
            "8      2\n",
            "9      2\n",
            "10     6\n",
            "11     1\n",
            "12     5\n",
            "13    12\n",
            "14     5\n",
            "15     2\n",
            "Name: Goals, dtype: int64\n"
          ]
        }
      ],
      "source": [
        "print(euro12[\"Goals\"])"
      ]
    },
    {
      "cell_type": "markdown",
      "id": "3ba9eb18",
      "metadata": {
        "id": "3ba9eb18"
      },
      "source": [
        "### Step 5. How many team participated in the Euro2012?"
      ]
    },
    {
      "cell_type": "code",
      "execution_count": null,
      "id": "2908418c",
      "metadata": {
        "id": "2908418c",
        "outputId": "26f08636-d06d-4b16-b141-fe327522e47f",
        "colab": {
          "base_uri": "https://localhost:8080/"
        }
      },
      "outputs": [
        {
          "output_type": "stream",
          "name": "stdout",
          "text": [
            "16\n"
          ]
        }
      ],
      "source": [
        "print(euro12[\"Team\"].nunique())"
      ]
    },
    {
      "cell_type": "markdown",
      "id": "974c9458",
      "metadata": {
        "id": "974c9458"
      },
      "source": [
        "### Step 6. What is the number of columns in the dataset?"
      ]
    },
    {
      "cell_type": "code",
      "execution_count": null,
      "id": "149f8fb8",
      "metadata": {
        "id": "149f8fb8",
        "outputId": "43cee54c-df13-49bc-c7fd-2603faaec60a",
        "colab": {
          "base_uri": "https://localhost:8080/"
        }
      },
      "outputs": [
        {
          "output_type": "stream",
          "name": "stdout",
          "text": [
            "35\n"
          ]
        }
      ],
      "source": [
        "print(euro12.shape[1])"
      ]
    },
    {
      "cell_type": "markdown",
      "id": "d4e7f6ab",
      "metadata": {
        "id": "d4e7f6ab"
      },
      "source": [
        "### Step 7. View only the columns Team, Yellow Cards and Red Cards and assign them to a dataframe called discipline"
      ]
    },
    {
      "cell_type": "code",
      "execution_count": null,
      "id": "7a70b451",
      "metadata": {
        "id": "7a70b451"
      },
      "outputs": [],
      "source": [
        "discipline = euro12[[\"Team\", \"Yellow Cards\", \"Red Cards\"]]\n"
      ]
    },
    {
      "cell_type": "markdown",
      "id": "e784fb9e",
      "metadata": {
        "id": "e784fb9e"
      },
      "source": [
        "### Step 8. Sort the teams by Red Cards, then to Yellow Cards"
      ]
    },
    {
      "cell_type": "code",
      "execution_count": null,
      "id": "13ef25f4",
      "metadata": {
        "id": "13ef25f4",
        "outputId": "8e3451b6-77e3-46c6-cde4-07f99d78785c",
        "scrolled": true,
        "colab": {
          "base_uri": "https://localhost:8080/"
        }
      },
      "outputs": [
        {
          "output_type": "stream",
          "name": "stdout",
          "text": [
            "                   Team  Yellow Cards  Red Cards\n",
            "6                Greece             9          1\n",
            "9                Poland             7          1\n",
            "11  Republic of Ireland             6          1\n",
            "7                 Italy            16          0\n",
            "10             Portugal            12          0\n",
            "13                Spain            11          0\n",
            "0               Croatia             9          0\n",
            "1        Czech Republic             7          0\n",
            "14               Sweden             7          0\n",
            "4                France             6          0\n",
            "12               Russia             6          0\n",
            "3               England             5          0\n",
            "8           Netherlands             5          0\n",
            "15              Ukraine             5          0\n",
            "2               Denmark             4          0\n",
            "5               Germany             4          0\n"
          ]
        }
      ],
      "source": [
        "print(discipline.sort_values([\"Red Cards\", \"Yellow Cards\"], ascending=False))"
      ]
    },
    {
      "cell_type": "markdown",
      "id": "fde074ed",
      "metadata": {
        "id": "fde074ed"
      },
      "source": [
        "### Step 9. Calculate the mean Yellow Cards given per Team"
      ]
    },
    {
      "cell_type": "code",
      "execution_count": null,
      "id": "f3b78c91",
      "metadata": {
        "id": "f3b78c91",
        "outputId": "6754e6b0-462e-4178-d19b-7a23fa2eb904",
        "colab": {
          "base_uri": "https://localhost:8080/"
        }
      },
      "outputs": [
        {
          "output_type": "stream",
          "name": "stdout",
          "text": [
            "7.4375\n"
          ]
        }
      ],
      "source": [
        "print(discipline[\"Yellow Cards\"].mean())"
      ]
    },
    {
      "cell_type": "markdown",
      "id": "00ae5eb8",
      "metadata": {
        "id": "00ae5eb8"
      },
      "source": [
        "### Step 10. Filter teams that scored more than 6 goals"
      ]
    },
    {
      "cell_type": "code",
      "execution_count": null,
      "id": "64eed392",
      "metadata": {
        "id": "64eed392",
        "outputId": "d8f8e962-fece-4317-b396-f6ae9349b0bc",
        "colab": {
          "base_uri": "https://localhost:8080/"
        }
      },
      "outputs": [
        {
          "output_type": "stream",
          "name": "stdout",
          "text": [
            "                   Team  Shots on target\n",
            "0               Croatia               13\n",
            "1        Czech Republic               13\n",
            "2               Denmark               10\n",
            "3               England               11\n",
            "4                France               22\n",
            "5               Germany               32\n",
            "6                Greece                8\n",
            "7                 Italy               34\n",
            "8           Netherlands               12\n",
            "9                Poland               15\n",
            "10             Portugal               22\n",
            "11  Republic of Ireland                7\n",
            "12               Russia                9\n",
            "13                Spain               42\n",
            "14               Sweden               17\n",
            "15              Ukraine                7\n"
          ]
        }
      ],
      "source": [
        "print(euro12[euro12[\"Shots on target\"] > 6][[\"Team\", \"Shots on target\"]])"
      ]
    },
    {
      "cell_type": "markdown",
      "id": "03aad66a",
      "metadata": {
        "id": "03aad66a"
      },
      "source": [
        "### Step 11. Select the teams that start with G"
      ]
    },
    {
      "cell_type": "code",
      "execution_count": null,
      "id": "874b15c3",
      "metadata": {
        "id": "874b15c3",
        "outputId": "b8211bf4-92ec-4e9c-d96a-1cfa68a993e9",
        "colab": {
          "base_uri": "https://localhost:8080/"
        }
      },
      "outputs": [
        {
          "output_type": "stream",
          "name": "stdout",
          "text": [
            "5    Germany\n",
            "6     Greece\n",
            "Name: Team, dtype: object\n"
          ]
        }
      ],
      "source": [
        "print(euro12[euro12[\"Team\"].str.startswith(\"G\")][\"Team\"])"
      ]
    },
    {
      "cell_type": "markdown",
      "id": "9ed901dd",
      "metadata": {
        "id": "9ed901dd"
      },
      "source": [
        "### Step 12. Select the first 7 columns"
      ]
    },
    {
      "cell_type": "code",
      "execution_count": null,
      "id": "3f87316e",
      "metadata": {
        "id": "3f87316e",
        "outputId": "1b529342-9d85-4f43-c620-3afe0e9bc6f3",
        "colab": {
          "base_uri": "https://localhost:8080/"
        }
      },
      "outputs": [
        {
          "output_type": "stream",
          "name": "stdout",
          "text": [
            "                   Team  Goals  Shots on target  Shots off target  \\\n",
            "0               Croatia      4               13                12   \n",
            "1        Czech Republic      4               13                18   \n",
            "2               Denmark      4               10                10   \n",
            "3               England      5               11                18   \n",
            "4                France      3               22                24   \n",
            "5               Germany     10               32                32   \n",
            "6                Greece      5                8                18   \n",
            "7                 Italy      6               34                45   \n",
            "8           Netherlands      2               12                36   \n",
            "9                Poland      2               15                23   \n",
            "10             Portugal      6               22                42   \n",
            "11  Republic of Ireland      1                7                12   \n",
            "12               Russia      5                9                31   \n",
            "13                Spain     12               42                33   \n",
            "14               Sweden      5               17                19   \n",
            "15              Ukraine      2                7                26   \n",
            "\n",
            "   Shooting Accuracy % Goals-to-shots  Total shots (inc. Blocked)  \n",
            "0              51.9%            16.0%                          32  \n",
            "1              41.9%            12.9%                          39  \n",
            "2              50.0%            20.0%                          27  \n",
            "3              50.0%            17.2%                          40  \n",
            "4              37.9%             6.5%                          65  \n",
            "5              47.8%            15.6%                          80  \n",
            "6              30.7%            19.2%                          32  \n",
            "7              43.0%             7.5%                         110  \n",
            "8              25.0%             4.1%                          60  \n",
            "9              39.4%             5.2%                          48  \n",
            "10             34.3%             9.3%                          82  \n",
            "11             36.8%             5.2%                          28  \n",
            "12             22.5%            12.5%                          59  \n",
            "13             55.9%            16.0%                         100  \n",
            "14             47.2%            13.8%                          39  \n",
            "15             21.2%             6.0%                          38  \n"
          ]
        }
      ],
      "source": [
        "print(euro12.iloc[:, :7])"
      ]
    },
    {
      "cell_type": "markdown",
      "id": "15593c76",
      "metadata": {
        "id": "15593c76"
      },
      "source": [
        "### Step 13. Select all columns except the last 3."
      ]
    },
    {
      "cell_type": "code",
      "execution_count": null,
      "id": "4c755212",
      "metadata": {
        "id": "4c755212",
        "outputId": "cf9e99d9-7515-493d-fa11-13e9f8aa7d50",
        "colab": {
          "base_uri": "https://localhost:8080/"
        }
      },
      "outputs": [
        {
          "output_type": "stream",
          "name": "stdout",
          "text": [
            "                   Team  Goals  Shots on target  Shots off target  \\\n",
            "0               Croatia      4               13                12   \n",
            "1        Czech Republic      4               13                18   \n",
            "2               Denmark      4               10                10   \n",
            "3               England      5               11                18   \n",
            "4                France      3               22                24   \n",
            "5               Germany     10               32                32   \n",
            "6                Greece      5                8                18   \n",
            "7                 Italy      6               34                45   \n",
            "8           Netherlands      2               12                36   \n",
            "9                Poland      2               15                23   \n",
            "10             Portugal      6               22                42   \n",
            "11  Republic of Ireland      1                7                12   \n",
            "12               Russia      5                9                31   \n",
            "13                Spain     12               42                33   \n",
            "14               Sweden      5               17                19   \n",
            "15              Ukraine      2                7                26   \n",
            "\n",
            "   Shooting Accuracy % Goals-to-shots  Total shots (inc. Blocked)  \\\n",
            "0              51.9%            16.0%                          32   \n",
            "1              41.9%            12.9%                          39   \n",
            "2              50.0%            20.0%                          27   \n",
            "3              50.0%            17.2%                          40   \n",
            "4              37.9%             6.5%                          65   \n",
            "5              47.8%            15.6%                          80   \n",
            "6              30.7%            19.2%                          32   \n",
            "7              43.0%             7.5%                         110   \n",
            "8              25.0%             4.1%                          60   \n",
            "9              39.4%             5.2%                          48   \n",
            "10             34.3%             9.3%                          82   \n",
            "11             36.8%             5.2%                          28   \n",
            "12             22.5%            12.5%                          59   \n",
            "13             55.9%            16.0%                         100   \n",
            "14             47.2%            13.8%                          39   \n",
            "15             21.2%             6.0%                          38   \n",
            "\n",
            "    Hit Woodwork  Penalty goals  Penalties not scored  ...  Clean Sheets  \\\n",
            "0              0              0                     0  ...             0   \n",
            "1              0              0                     0  ...             1   \n",
            "2              1              0                     0  ...             1   \n",
            "3              0              0                     0  ...             2   \n",
            "4              1              0                     0  ...             1   \n",
            "5              2              1                     0  ...             1   \n",
            "6              1              1                     1  ...             1   \n",
            "7              2              0                     0  ...             2   \n",
            "8              2              0                     0  ...             0   \n",
            "9              0              0                     0  ...             0   \n",
            "10             6              0                     0  ...             2   \n",
            "11             0              0                     0  ...             0   \n",
            "12             2              0                     0  ...             0   \n",
            "13             0              1                     0  ...             5   \n",
            "14             3              0                     0  ...             1   \n",
            "15             0              0                     0  ...             0   \n",
            "\n",
            "    Blocks  Goals conceded Saves made  Saves-to-shots ratio  Fouls Won  \\\n",
            "0       10               3         13                 81.3%         41   \n",
            "1       10               6          9                 60.1%         53   \n",
            "2       10               5         10                 66.7%         25   \n",
            "3       29               3         22                 88.1%         43   \n",
            "4        7               5          6                 54.6%         36   \n",
            "5       11               6         10                 62.6%         63   \n",
            "6       23               7         13                 65.1%         67   \n",
            "7       18               7         20                 74.1%        101   \n",
            "8        9               5         12                 70.6%         35   \n",
            "9        8               3          6                 66.7%         48   \n",
            "10      11               4         10                 71.5%         73   \n",
            "11      23               9         17                 65.4%         43   \n",
            "12       8               3         10                 77.0%         34   \n",
            "13       8               1         15                 93.8%        102   \n",
            "14      12               5          8                 61.6%         35   \n",
            "15       4               4         13                 76.5%         48   \n",
            "\n",
            "    Fouls Conceded  Offsides  Yellow Cards  Red Cards  \n",
            "0               62         2             9          0  \n",
            "1               73         8             7          0  \n",
            "2               38         8             4          0  \n",
            "3               45         6             5          0  \n",
            "4               51         5             6          0  \n",
            "5               49        12             4          0  \n",
            "6               48        12             9          1  \n",
            "7               89        16            16          0  \n",
            "8               30         3             5          0  \n",
            "9               56         3             7          1  \n",
            "10              90        10            12          0  \n",
            "11              51        11             6          1  \n",
            "12              43         4             6          0  \n",
            "13              83        19            11          0  \n",
            "14              51         7             7          0  \n",
            "15              31         4             5          0  \n",
            "\n",
            "[16 rows x 32 columns]\n"
          ]
        }
      ],
      "source": [
        "print(euro12.iloc[:, :-3])"
      ]
    },
    {
      "cell_type": "markdown",
      "id": "bd96dc64",
      "metadata": {
        "id": "bd96dc64"
      },
      "source": [
        "### Step 14. Present only the Shooting Accuracy from England, Italy and Russia"
      ]
    },
    {
      "cell_type": "code",
      "execution_count": null,
      "id": "aa451946",
      "metadata": {
        "colab": {
          "base_uri": "https://localhost:8080/"
        },
        "id": "aa451946",
        "outputId": "809ff61c-94f7-4a5a-917b-ece4402e0af0"
      },
      "outputs": [
        {
          "output_type": "stream",
          "name": "stdout",
          "text": [
            "       Team Shooting Accuracy\n",
            "3   England             50.0%\n",
            "7     Italy             43.0%\n",
            "12   Russia             22.5%\n"
          ]
        }
      ],
      "source": [
        "print(euro12.loc[euro12['Team'].isin(['England', 'Italy', 'Russia']), ['Team', 'Shooting Accuracy']])\n"
      ]
    },
    {
      "cell_type": "markdown",
      "id": "56ffa63b",
      "metadata": {
        "id": "56ffa63b"
      },
      "source": [
        "## Section 3: Grouping"
      ]
    },
    {
      "cell_type": "markdown",
      "id": "907efa1f",
      "metadata": {
        "id": "907efa1f"
      },
      "source": [
        "### Step 1. Import the necessary libraries"
      ]
    },
    {
      "cell_type": "code",
      "execution_count": null,
      "id": "60724404",
      "metadata": {
        "id": "60724404"
      },
      "outputs": [],
      "source": [
        "import pandas as pd\n",
        "url = 'https://raw.githubusercontent.com/justmarkham/DAT8/master/data/drinks.csv'"
      ]
    },
    {
      "cell_type": "markdown",
      "id": "08d87139",
      "metadata": {
        "id": "08d87139"
      },
      "source": [
        "### Step 2. Import the dataset from this [address](https://raw.githubusercontent.com/justmarkham/DAT8/master/data/drinks.csv). "
      ]
    },
    {
      "cell_type": "markdown",
      "id": "ec6872ce",
      "metadata": {
        "id": "ec6872ce"
      },
      "source": [
        "### Step 3. Assign it to a variable called drinks."
      ]
    },
    {
      "cell_type": "code",
      "execution_count": null,
      "id": "4839ebdc",
      "metadata": {
        "colab": {
          "base_uri": "https://localhost:8080/",
          "height": 423
        },
        "id": "4839ebdc",
        "outputId": "14d45d45-1b96-4601-ad75-2e66bf7a6ca7"
      },
      "outputs": [
        {
          "output_type": "execute_result",
          "data": {
            "text/plain": [
              "         country  beer_servings  spirit_servings  wine_servings  \\\n",
              "0    Afghanistan              0                0              0   \n",
              "1        Albania             89              132             54   \n",
              "2        Algeria             25                0             14   \n",
              "3        Andorra            245              138            312   \n",
              "4         Angola            217               57             45   \n",
              "..           ...            ...              ...            ...   \n",
              "188    Venezuela            333              100              3   \n",
              "189      Vietnam            111                2              1   \n",
              "190        Yemen              6                0              0   \n",
              "191       Zambia             32               19              4   \n",
              "192     Zimbabwe             64               18              4   \n",
              "\n",
              "     total_litres_of_pure_alcohol continent  \n",
              "0                             0.0        AS  \n",
              "1                             4.9        EU  \n",
              "2                             0.7        AF  \n",
              "3                            12.4        EU  \n",
              "4                             5.9        AF  \n",
              "..                            ...       ...  \n",
              "188                           7.7        SA  \n",
              "189                           2.0        AS  \n",
              "190                           0.1        AS  \n",
              "191                           2.5        AF  \n",
              "192                           4.7        AF  \n",
              "\n",
              "[193 rows x 6 columns]"
            ],
            "text/html": [
              "\n",
              "  <div id=\"df-617c4e50-9f38-49c2-9c0f-8336dee72b2b\">\n",
              "    <div class=\"colab-df-container\">\n",
              "      <div>\n",
              "<style scoped>\n",
              "    .dataframe tbody tr th:only-of-type {\n",
              "        vertical-align: middle;\n",
              "    }\n",
              "\n",
              "    .dataframe tbody tr th {\n",
              "        vertical-align: top;\n",
              "    }\n",
              "\n",
              "    .dataframe thead th {\n",
              "        text-align: right;\n",
              "    }\n",
              "</style>\n",
              "<table border=\"1\" class=\"dataframe\">\n",
              "  <thead>\n",
              "    <tr style=\"text-align: right;\">\n",
              "      <th></th>\n",
              "      <th>country</th>\n",
              "      <th>beer_servings</th>\n",
              "      <th>spirit_servings</th>\n",
              "      <th>wine_servings</th>\n",
              "      <th>total_litres_of_pure_alcohol</th>\n",
              "      <th>continent</th>\n",
              "    </tr>\n",
              "  </thead>\n",
              "  <tbody>\n",
              "    <tr>\n",
              "      <th>0</th>\n",
              "      <td>Afghanistan</td>\n",
              "      <td>0</td>\n",
              "      <td>0</td>\n",
              "      <td>0</td>\n",
              "      <td>0.0</td>\n",
              "      <td>AS</td>\n",
              "    </tr>\n",
              "    <tr>\n",
              "      <th>1</th>\n",
              "      <td>Albania</td>\n",
              "      <td>89</td>\n",
              "      <td>132</td>\n",
              "      <td>54</td>\n",
              "      <td>4.9</td>\n",
              "      <td>EU</td>\n",
              "    </tr>\n",
              "    <tr>\n",
              "      <th>2</th>\n",
              "      <td>Algeria</td>\n",
              "      <td>25</td>\n",
              "      <td>0</td>\n",
              "      <td>14</td>\n",
              "      <td>0.7</td>\n",
              "      <td>AF</td>\n",
              "    </tr>\n",
              "    <tr>\n",
              "      <th>3</th>\n",
              "      <td>Andorra</td>\n",
              "      <td>245</td>\n",
              "      <td>138</td>\n",
              "      <td>312</td>\n",
              "      <td>12.4</td>\n",
              "      <td>EU</td>\n",
              "    </tr>\n",
              "    <tr>\n",
              "      <th>4</th>\n",
              "      <td>Angola</td>\n",
              "      <td>217</td>\n",
              "      <td>57</td>\n",
              "      <td>45</td>\n",
              "      <td>5.9</td>\n",
              "      <td>AF</td>\n",
              "    </tr>\n",
              "    <tr>\n",
              "      <th>...</th>\n",
              "      <td>...</td>\n",
              "      <td>...</td>\n",
              "      <td>...</td>\n",
              "      <td>...</td>\n",
              "      <td>...</td>\n",
              "      <td>...</td>\n",
              "    </tr>\n",
              "    <tr>\n",
              "      <th>188</th>\n",
              "      <td>Venezuela</td>\n",
              "      <td>333</td>\n",
              "      <td>100</td>\n",
              "      <td>3</td>\n",
              "      <td>7.7</td>\n",
              "      <td>SA</td>\n",
              "    </tr>\n",
              "    <tr>\n",
              "      <th>189</th>\n",
              "      <td>Vietnam</td>\n",
              "      <td>111</td>\n",
              "      <td>2</td>\n",
              "      <td>1</td>\n",
              "      <td>2.0</td>\n",
              "      <td>AS</td>\n",
              "    </tr>\n",
              "    <tr>\n",
              "      <th>190</th>\n",
              "      <td>Yemen</td>\n",
              "      <td>6</td>\n",
              "      <td>0</td>\n",
              "      <td>0</td>\n",
              "      <td>0.1</td>\n",
              "      <td>AS</td>\n",
              "    </tr>\n",
              "    <tr>\n",
              "      <th>191</th>\n",
              "      <td>Zambia</td>\n",
              "      <td>32</td>\n",
              "      <td>19</td>\n",
              "      <td>4</td>\n",
              "      <td>2.5</td>\n",
              "      <td>AF</td>\n",
              "    </tr>\n",
              "    <tr>\n",
              "      <th>192</th>\n",
              "      <td>Zimbabwe</td>\n",
              "      <td>64</td>\n",
              "      <td>18</td>\n",
              "      <td>4</td>\n",
              "      <td>4.7</td>\n",
              "      <td>AF</td>\n",
              "    </tr>\n",
              "  </tbody>\n",
              "</table>\n",
              "<p>193 rows × 6 columns</p>\n",
              "</div>\n",
              "      <button class=\"colab-df-convert\" onclick=\"convertToInteractive('df-617c4e50-9f38-49c2-9c0f-8336dee72b2b')\"\n",
              "              title=\"Convert this dataframe to an interactive table.\"\n",
              "              style=\"display:none;\">\n",
              "        \n",
              "  <svg xmlns=\"http://www.w3.org/2000/svg\" height=\"24px\"viewBox=\"0 0 24 24\"\n",
              "       width=\"24px\">\n",
              "    <path d=\"M0 0h24v24H0V0z\" fill=\"none\"/>\n",
              "    <path d=\"M18.56 5.44l.94 2.06.94-2.06 2.06-.94-2.06-.94-.94-2.06-.94 2.06-2.06.94zm-11 1L8.5 8.5l.94-2.06 2.06-.94-2.06-.94L8.5 2.5l-.94 2.06-2.06.94zm10 10l.94 2.06.94-2.06 2.06-.94-2.06-.94-.94-2.06-.94 2.06-2.06.94z\"/><path d=\"M17.41 7.96l-1.37-1.37c-.4-.4-.92-.59-1.43-.59-.52 0-1.04.2-1.43.59L10.3 9.45l-7.72 7.72c-.78.78-.78 2.05 0 2.83L4 21.41c.39.39.9.59 1.41.59.51 0 1.02-.2 1.41-.59l7.78-7.78 2.81-2.81c.8-.78.8-2.07 0-2.86zM5.41 20L4 18.59l7.72-7.72 1.47 1.35L5.41 20z\"/>\n",
              "  </svg>\n",
              "      </button>\n",
              "      \n",
              "  <style>\n",
              "    .colab-df-container {\n",
              "      display:flex;\n",
              "      flex-wrap:wrap;\n",
              "      gap: 12px;\n",
              "    }\n",
              "\n",
              "    .colab-df-convert {\n",
              "      background-color: #E8F0FE;\n",
              "      border: none;\n",
              "      border-radius: 50%;\n",
              "      cursor: pointer;\n",
              "      display: none;\n",
              "      fill: #1967D2;\n",
              "      height: 32px;\n",
              "      padding: 0 0 0 0;\n",
              "      width: 32px;\n",
              "    }\n",
              "\n",
              "    .colab-df-convert:hover {\n",
              "      background-color: #E2EBFA;\n",
              "      box-shadow: 0px 1px 2px rgba(60, 64, 67, 0.3), 0px 1px 3px 1px rgba(60, 64, 67, 0.15);\n",
              "      fill: #174EA6;\n",
              "    }\n",
              "\n",
              "    [theme=dark] .colab-df-convert {\n",
              "      background-color: #3B4455;\n",
              "      fill: #D2E3FC;\n",
              "    }\n",
              "\n",
              "    [theme=dark] .colab-df-convert:hover {\n",
              "      background-color: #434B5C;\n",
              "      box-shadow: 0px 1px 3px 1px rgba(0, 0, 0, 0.15);\n",
              "      filter: drop-shadow(0px 1px 2px rgba(0, 0, 0, 0.3));\n",
              "      fill: #FFFFFF;\n",
              "    }\n",
              "  </style>\n",
              "\n",
              "      <script>\n",
              "        const buttonEl =\n",
              "          document.querySelector('#df-617c4e50-9f38-49c2-9c0f-8336dee72b2b button.colab-df-convert');\n",
              "        buttonEl.style.display =\n",
              "          google.colab.kernel.accessAllowed ? 'block' : 'none';\n",
              "\n",
              "        async function convertToInteractive(key) {\n",
              "          const element = document.querySelector('#df-617c4e50-9f38-49c2-9c0f-8336dee72b2b');\n",
              "          const dataTable =\n",
              "            await google.colab.kernel.invokeFunction('convertToInteractive',\n",
              "                                                     [key], {});\n",
              "          if (!dataTable) return;\n",
              "\n",
              "          const docLinkHtml = 'Like what you see? Visit the ' +\n",
              "            '<a target=\"_blank\" href=https://colab.research.google.com/notebooks/data_table.ipynb>data table notebook</a>'\n",
              "            + ' to learn more about interactive tables.';\n",
              "          element.innerHTML = '';\n",
              "          dataTable['output_type'] = 'display_data';\n",
              "          await google.colab.output.renderOutput(dataTable, element);\n",
              "          const docLink = document.createElement('div');\n",
              "          docLink.innerHTML = docLinkHtml;\n",
              "          element.appendChild(docLink);\n",
              "        }\n",
              "      </script>\n",
              "    </div>\n",
              "  </div>\n",
              "  "
            ]
          },
          "metadata": {},
          "execution_count": 167
        }
      ],
      "source": [
        "drinks = pd.read_csv(url)\n",
        "drinks"
      ]
    },
    {
      "cell_type": "markdown",
      "id": "f5797352",
      "metadata": {
        "id": "f5797352"
      },
      "source": [
        "### Step 4. Which continent drinks more beer on average?"
      ]
    },
    {
      "cell_type": "code",
      "execution_count": null,
      "id": "9598d104",
      "metadata": {
        "colab": {
          "base_uri": "https://localhost:8080/"
        },
        "id": "9598d104",
        "outputId": "7c31d40c-30c5-4110-c691-f1e1a501d88b"
      },
      "outputs": [
        {
          "output_type": "stream",
          "name": "stdout",
          "text": [
            "EU\n"
          ]
        }
      ],
      "source": [
        "group_by_continent = drinks.groupby('continent')['beer_servings'].mean()\n",
        "print(group_by_continent.sort_values(ascending=False).index[0])"
      ]
    },
    {
      "cell_type": "markdown",
      "id": "7f6cc612",
      "metadata": {
        "id": "7f6cc612"
      },
      "source": [
        "### Step 5. For each continent print the statistics for wine consumption."
      ]
    },
    {
      "cell_type": "code",
      "execution_count": null,
      "id": "1ef89cb2",
      "metadata": {
        "colab": {
          "base_uri": "https://localhost:8080/"
        },
        "id": "1ef89cb2",
        "outputId": "bea12c4a-afec-4e99-fe44-426f32c19d42"
      },
      "outputs": [
        {
          "output_type": "stream",
          "name": "stdout",
          "text": [
            "           count        mean        std  min   25%    50%     75%    max\n",
            "continent                                                               \n",
            "AF          53.0   16.264151  38.846419  0.0   1.0    2.0   13.00  233.0\n",
            "AS          44.0    9.068182  21.667034  0.0   0.0    1.0    8.00  123.0\n",
            "EU          45.0  142.222222  97.421738  0.0  59.0  128.0  195.00  370.0\n",
            "OC          16.0   35.625000  64.555790  0.0   1.0    8.5   23.25  212.0\n",
            "SA          12.0   62.416667  88.620189  1.0   3.0   12.0   98.50  221.0\n"
          ]
        }
      ],
      "source": [
        "from pandas.core import window\n",
        "wine_statistics = drinks.groupby('continent')['wine_servings'].describe()\n",
        "print(wine_statistics)"
      ]
    },
    {
      "cell_type": "markdown",
      "id": "fb845470",
      "metadata": {
        "id": "fb845470"
      },
      "source": [
        "### Step 6. Print the mean alcohol consumption per continent for every column"
      ]
    },
    {
      "cell_type": "code",
      "execution_count": null,
      "id": "4e588a9d",
      "metadata": {
        "colab": {
          "base_uri": "https://localhost:8080/"
        },
        "id": "4e588a9d",
        "outputId": "2e518e04-f5ec-4e2c-9125-6cc5cbee3693"
      },
      "outputs": [
        {
          "output_type": "stream",
          "name": "stdout",
          "text": [
            "           beer_servings  spirit_servings  wine_servings  \\\n",
            "continent                                                  \n",
            "AF             61.471698        16.339623      16.264151   \n",
            "AS             37.045455        60.840909       9.068182   \n",
            "EU            193.777778       132.555556     142.222222   \n",
            "OC             89.687500        58.437500      35.625000   \n",
            "SA            175.083333       114.750000      62.416667   \n",
            "\n",
            "           total_litres_of_pure_alcohol  \n",
            "continent                                \n",
            "AF                             3.007547  \n",
            "AS                             2.170455  \n",
            "EU                             8.617778  \n",
            "OC                             3.381250  \n",
            "SA                             6.308333  \n"
          ]
        }
      ],
      "source": [
        "print(drinks.groupby('continent').mean())"
      ]
    },
    {
      "cell_type": "markdown",
      "id": "e9434abc",
      "metadata": {
        "id": "e9434abc"
      },
      "source": [
        "### Step 7. Print the median alcohol consumption per continent for every column"
      ]
    },
    {
      "cell_type": "code",
      "execution_count": null,
      "id": "34a57ae2",
      "metadata": {
        "colab": {
          "base_uri": "https://localhost:8080/"
        },
        "id": "34a57ae2",
        "outputId": "484cd81f-7482-4591-d1a9-7cc3dd57e29d"
      },
      "outputs": [
        {
          "output_type": "stream",
          "name": "stdout",
          "text": [
            "           beer_servings  spirit_servings  wine_servings  \\\n",
            "continent                                                  \n",
            "AF                  32.0              3.0            2.0   \n",
            "AS                  17.5             16.0            1.0   \n",
            "EU                 219.0            122.0          128.0   \n",
            "OC                  52.5             37.0            8.5   \n",
            "SA                 162.5            108.5           12.0   \n",
            "\n",
            "           total_litres_of_pure_alcohol  \n",
            "continent                                \n",
            "AF                                 2.30  \n",
            "AS                                 1.20  \n",
            "EU                                10.00  \n",
            "OC                                 1.75  \n",
            "SA                                 6.85  \n"
          ]
        }
      ],
      "source": [
        "print(drinks.groupby('continent').median())"
      ]
    },
    {
      "cell_type": "markdown",
      "id": "a0ab2bd5",
      "metadata": {
        "id": "a0ab2bd5"
      },
      "source": [
        "### Step 8. Print the mean, min and max values for spirit consumption.\n",
        "#### This time output a DataFrame"
      ]
    },
    {
      "cell_type": "code",
      "execution_count": null,
      "id": "93d9779b",
      "metadata": {
        "colab": {
          "base_uri": "https://localhost:8080/"
        },
        "id": "93d9779b",
        "outputId": "de8e85d4-1162-41af-9eb3-98cf8791802d"
      },
      "outputs": [
        {
          "output_type": "stream",
          "name": "stdout",
          "text": [
            "mean     80.994819\n",
            "min       0.000000\n",
            "max     438.000000\n",
            "Name: spirit_servings, dtype: float64\n"
          ]
        }
      ],
      "source": [
        "print(drinks['spirit_servings'].describe()[['mean', 'min', 'max']])"
      ]
    },
    {
      "cell_type": "markdown",
      "id": "9fe6c338",
      "metadata": {
        "id": "9fe6c338"
      },
      "source": [
        "## Section 4: Apply"
      ]
    },
    {
      "cell_type": "markdown",
      "id": "2ac338e2",
      "metadata": {
        "id": "2ac338e2"
      },
      "source": [
        "### Step 1. Import the necessary libraries"
      ]
    },
    {
      "cell_type": "code",
      "execution_count": null,
      "id": "55a7863f",
      "metadata": {
        "id": "55a7863f"
      },
      "outputs": [],
      "source": [
        "import pandas as pd\n",
        "url = 'https://raw.githubusercontent.com/guipsamora/pandas_exercises/master/04_Apply/US_Crime_Rates/US_Crime_Rates_1960_2014.csv'"
      ]
    },
    {
      "cell_type": "markdown",
      "id": "d7d4e41b",
      "metadata": {
        "id": "d7d4e41b"
      },
      "source": [
        "### Step 2. Import the dataset from this [address](https://raw.githubusercontent.com/guipsamora/pandas_exercises/master/04_Apply/US_Crime_Rates/US_Crime_Rates_1960_2014.csv). "
      ]
    },
    {
      "cell_type": "markdown",
      "id": "c35b9589",
      "metadata": {
        "id": "c35b9589"
      },
      "source": [
        "### Step 3. Assign it to a variable called crime."
      ]
    },
    {
      "cell_type": "code",
      "execution_count": null,
      "id": "279afa18",
      "metadata": {
        "colab": {
          "base_uri": "https://localhost:8080/",
          "height": 1000
        },
        "id": "279afa18",
        "outputId": "83d64828-f7d5-45f5-d794-febd757768df"
      },
      "outputs": [
        {
          "output_type": "execute_result",
          "data": {
            "text/plain": [
              "    Year  Population     Total  Violent  Property  Murder  Forcible_Rape  \\\n",
              "0   1960   179323175   3384200   288460   3095700    9110          17190   \n",
              "1   1961   182992000   3488000   289390   3198600    8740          17220   \n",
              "2   1962   185771000   3752200   301510   3450700    8530          17550   \n",
              "3   1963   188483000   4109500   316970   3792500    8640          17650   \n",
              "4   1964   191141000   4564600   364220   4200400    9360          21420   \n",
              "5   1965   193526000   4739400   387390   4352000    9960          23410   \n",
              "6   1966   195576000   5223500   430180   4793300   11040          25820   \n",
              "7   1967   197457000   5903400   499930   5403500   12240          27620   \n",
              "8   1968   199399000   6720200   595010   6125200   13800          31670   \n",
              "9   1969   201385000   7410900   661870   6749000   14760          37170   \n",
              "10  1970   203235298   8098000   738820   7359200   16000          37990   \n",
              "11  1971   206212000   8588200   816500   7771700   17780          42260   \n",
              "12  1972   208230000   8248800   834900   7413900   18670          46850   \n",
              "13  1973   209851000   8718100   875910   7842200   19640          51400   \n",
              "14  1974   211392000  10253400   974720   9278700   20710          55400   \n",
              "15  1975   213124000  11292400  1039710  10252700   20510          56090   \n",
              "16  1976   214659000  11349700  1004210  10345500   18780          57080   \n",
              "17  1977   216332000  10984500  1029580   9955000   19120          63500   \n",
              "18  1978   218059000  11209000  1085550  10123400   19560          67610   \n",
              "19  1979   220099000  12249500  1208030  11041500   21460          76390   \n",
              "20  1980   225349264  13408300  1344520  12063700   23040          82990   \n",
              "21  1981   229146000  13423800  1361820  12061900   22520          82500   \n",
              "22  1982   231534000  12974400  1322390  11652000   21010          78770   \n",
              "23  1983   233981000  12108600  1258090  10850500   19310          78920   \n",
              "24  1984   236158000  11881800  1273280  10608500   18690          84230   \n",
              "25  1985   238740000  12431400  1328800  11102600   18980          88670   \n",
              "26  1986   240132887  13211869  1489169  11722700   20613          91459   \n",
              "27  1987   242282918  13508700  1483999  12024700   20096          91110   \n",
              "28  1988   245807000  13923100  1566220  12356900   20680          92490   \n",
              "29  1989   248239000  14251400  1646040  12605400   21500          94500   \n",
              "30  1990   248709873  14475600  1820130  12655500   23440         102560   \n",
              "31  1991   252177000  14872900  1911770  12961100   24700         106590   \n",
              "32  1992   255082000  14438200  1932270  12505900   23760         109060   \n",
              "33  1993   257908000  14144800  1926020  12218800   24530         106010   \n",
              "34  1994   260341000  13989500  1857670  12131900   23330         102220   \n",
              "35  1995   262755000  13862700  1798790  12063900   21610          97470   \n",
              "36  1996   265228572  13493863  1688540  11805300   19650          96250   \n",
              "37  1997   267637000  13194571  1634770  11558175   18208          96153   \n",
              "38  1998   270296000  12475634  1531044  10944590   16914          93103   \n",
              "39  1999   272690813  11634378  1426044  10208334   15522          89411   \n",
              "40  2000   281421906  11608072  1425486  10182586   15586          90178   \n",
              "41  2001   285317559  11876669  1439480  10437480   16037          90863   \n",
              "42  2002   287973924  11878954  1423677  10455277   16229          95235   \n",
              "43  2003   290690788  11826538  1383676  10442862   16528          93883   \n",
              "44  2004   293656842  11679474  1360088  10319386   16148          95089   \n",
              "45  2005   296507061  11565499  1390745  10174754   16740          94347   \n",
              "46  2006   299398484  11401511  1418043   9983568   17030          92757   \n",
              "47  2007   301621157  11251828  1408337   9843481   16929          90427   \n",
              "48  2008   304374846  11160543  1392628   9767915   16442          90479   \n",
              "49  2009   307006550  10762956  1325896   9337060   15399          89241   \n",
              "50  2010   309330219  10363873  1251248   9112625   14772          85593   \n",
              "51  2011   311587816  10258774  1206031   9052743   14661          84175   \n",
              "52  2012   313873685  10219059  1217067   9001992   14866          85141   \n",
              "53  2013   316497531   9850445  1199684   8650761   14319          82109   \n",
              "54  2014   318857056   9475816  1197987   8277829   14249          84041   \n",
              "\n",
              "    Robbery  Aggravated_assault  Burglary  Larceny_Theft  Vehicle_Theft  \n",
              "0    107840              154320    912100        1855400         328200  \n",
              "1    106670              156760    949600        1913000         336000  \n",
              "2    110860              164570    994300        2089600         366800  \n",
              "3    116470              174210   1086400        2297800         408300  \n",
              "4    130390              203050   1213200        2514400         472800  \n",
              "5    138690              215330   1282500        2572600         496900  \n",
              "6    157990              235330   1410100        2822000         561200  \n",
              "7    202910              257160   1632100        3111600         659800  \n",
              "8    262840              286700   1858900        3482700         783600  \n",
              "9    298850              311090   1981900        3888600         878500  \n",
              "10   349860              334970   2205000        4225800         928400  \n",
              "11   387700              368760   2399300        4424200         948200  \n",
              "12   376290              393090   2375500        4151200         887200  \n",
              "13   384220              420650   2565500        4347900         928800  \n",
              "14   442400              456210   3039200        5262500         977100  \n",
              "15   470500              492620   3265300        5977700        1009600  \n",
              "16   427810              500530   3108700        6270800         966000  \n",
              "17   412610              534350   3071500        5905700         977700  \n",
              "18   426930              571460   3128300        5991000        1004100  \n",
              "19   480700              629480   3327700        6601000        1112800  \n",
              "20   565840              672650   3795200        7136900        1131700  \n",
              "21   592910              663900   3779700        7194400        1087800  \n",
              "22   553130              669480   3447100        7142500        1062400  \n",
              "23   506570              653290   3129900        6712800        1007900  \n",
              "24   485010              685350   2984400        6591900        1032200  \n",
              "25   497870              723250   3073300        6926400        1102900  \n",
              "26   542775              834322   3241410        7257153        1224137  \n",
              "27   517704              855088   3236184        7499900        1288674  \n",
              "28   542970              910090   3218100        7705900        1432900  \n",
              "29   578330              951710   3168200        7872400        1564800  \n",
              "30   639270             1054860   3073900        7945700        1635900  \n",
              "31   687730             1092740   3157200        8142200        1661700  \n",
              "32   672480             1126970   2979900        7915200        1610800  \n",
              "33   659870             1135610   2834800        7820900        1563100  \n",
              "34   618950             1113180   2712800        7879800        1539300  \n",
              "35   580510             1099210   2593800        7997700        1472400  \n",
              "36   535590             1037050   2506400        7904700        1394200  \n",
              "37   498534             1023201   2460526        7743760        1354189  \n",
              "38   446625              974402   2329950        7373886        1240754  \n",
              "39   409371              911740   2100739        6955520        1152075  \n",
              "40   408016              911706   2050992        6971590        1160002  \n",
              "41   423557              909023   2116531        7092267        1228391  \n",
              "42   420806              891407   2151252        7057370        1246646  \n",
              "43   414235              859030   2154834        7026802        1261226  \n",
              "44   401470              847381   2144446        6937089        1237851  \n",
              "45   417438              862220   2155448        6783447        1235859  \n",
              "46   447403              860853   2183746        6607013        1192809  \n",
              "47   445125              855856   2176140        6568572        1095769  \n",
              "48   443574              842134   2228474        6588046         958629  \n",
              "49   408742              812514   2203313        6338095         795652  \n",
              "50   369089              781844   2168457        6204601         739565  \n",
              "51   354772              752423   2185140        6151095         716508  \n",
              "52   355051              762009   2109932        6168874         723186  \n",
              "53   345095              726575   1931835        6018632         700294  \n",
              "54   325802              741291   1729806        5858496         689527  "
            ],
            "text/html": [
              "\n",
              "  <div id=\"df-db9e8e2a-80e1-4db4-89c9-3b10c837a509\">\n",
              "    <div class=\"colab-df-container\">\n",
              "      <div>\n",
              "<style scoped>\n",
              "    .dataframe tbody tr th:only-of-type {\n",
              "        vertical-align: middle;\n",
              "    }\n",
              "\n",
              "    .dataframe tbody tr th {\n",
              "        vertical-align: top;\n",
              "    }\n",
              "\n",
              "    .dataframe thead th {\n",
              "        text-align: right;\n",
              "    }\n",
              "</style>\n",
              "<table border=\"1\" class=\"dataframe\">\n",
              "  <thead>\n",
              "    <tr style=\"text-align: right;\">\n",
              "      <th></th>\n",
              "      <th>Year</th>\n",
              "      <th>Population</th>\n",
              "      <th>Total</th>\n",
              "      <th>Violent</th>\n",
              "      <th>Property</th>\n",
              "      <th>Murder</th>\n",
              "      <th>Forcible_Rape</th>\n",
              "      <th>Robbery</th>\n",
              "      <th>Aggravated_assault</th>\n",
              "      <th>Burglary</th>\n",
              "      <th>Larceny_Theft</th>\n",
              "      <th>Vehicle_Theft</th>\n",
              "    </tr>\n",
              "  </thead>\n",
              "  <tbody>\n",
              "    <tr>\n",
              "      <th>0</th>\n",
              "      <td>1960</td>\n",
              "      <td>179323175</td>\n",
              "      <td>3384200</td>\n",
              "      <td>288460</td>\n",
              "      <td>3095700</td>\n",
              "      <td>9110</td>\n",
              "      <td>17190</td>\n",
              "      <td>107840</td>\n",
              "      <td>154320</td>\n",
              "      <td>912100</td>\n",
              "      <td>1855400</td>\n",
              "      <td>328200</td>\n",
              "    </tr>\n",
              "    <tr>\n",
              "      <th>1</th>\n",
              "      <td>1961</td>\n",
              "      <td>182992000</td>\n",
              "      <td>3488000</td>\n",
              "      <td>289390</td>\n",
              "      <td>3198600</td>\n",
              "      <td>8740</td>\n",
              "      <td>17220</td>\n",
              "      <td>106670</td>\n",
              "      <td>156760</td>\n",
              "      <td>949600</td>\n",
              "      <td>1913000</td>\n",
              "      <td>336000</td>\n",
              "    </tr>\n",
              "    <tr>\n",
              "      <th>2</th>\n",
              "      <td>1962</td>\n",
              "      <td>185771000</td>\n",
              "      <td>3752200</td>\n",
              "      <td>301510</td>\n",
              "      <td>3450700</td>\n",
              "      <td>8530</td>\n",
              "      <td>17550</td>\n",
              "      <td>110860</td>\n",
              "      <td>164570</td>\n",
              "      <td>994300</td>\n",
              "      <td>2089600</td>\n",
              "      <td>366800</td>\n",
              "    </tr>\n",
              "    <tr>\n",
              "      <th>3</th>\n",
              "      <td>1963</td>\n",
              "      <td>188483000</td>\n",
              "      <td>4109500</td>\n",
              "      <td>316970</td>\n",
              "      <td>3792500</td>\n",
              "      <td>8640</td>\n",
              "      <td>17650</td>\n",
              "      <td>116470</td>\n",
              "      <td>174210</td>\n",
              "      <td>1086400</td>\n",
              "      <td>2297800</td>\n",
              "      <td>408300</td>\n",
              "    </tr>\n",
              "    <tr>\n",
              "      <th>4</th>\n",
              "      <td>1964</td>\n",
              "      <td>191141000</td>\n",
              "      <td>4564600</td>\n",
              "      <td>364220</td>\n",
              "      <td>4200400</td>\n",
              "      <td>9360</td>\n",
              "      <td>21420</td>\n",
              "      <td>130390</td>\n",
              "      <td>203050</td>\n",
              "      <td>1213200</td>\n",
              "      <td>2514400</td>\n",
              "      <td>472800</td>\n",
              "    </tr>\n",
              "    <tr>\n",
              "      <th>5</th>\n",
              "      <td>1965</td>\n",
              "      <td>193526000</td>\n",
              "      <td>4739400</td>\n",
              "      <td>387390</td>\n",
              "      <td>4352000</td>\n",
              "      <td>9960</td>\n",
              "      <td>23410</td>\n",
              "      <td>138690</td>\n",
              "      <td>215330</td>\n",
              "      <td>1282500</td>\n",
              "      <td>2572600</td>\n",
              "      <td>496900</td>\n",
              "    </tr>\n",
              "    <tr>\n",
              "      <th>6</th>\n",
              "      <td>1966</td>\n",
              "      <td>195576000</td>\n",
              "      <td>5223500</td>\n",
              "      <td>430180</td>\n",
              "      <td>4793300</td>\n",
              "      <td>11040</td>\n",
              "      <td>25820</td>\n",
              "      <td>157990</td>\n",
              "      <td>235330</td>\n",
              "      <td>1410100</td>\n",
              "      <td>2822000</td>\n",
              "      <td>561200</td>\n",
              "    </tr>\n",
              "    <tr>\n",
              "      <th>7</th>\n",
              "      <td>1967</td>\n",
              "      <td>197457000</td>\n",
              "      <td>5903400</td>\n",
              "      <td>499930</td>\n",
              "      <td>5403500</td>\n",
              "      <td>12240</td>\n",
              "      <td>27620</td>\n",
              "      <td>202910</td>\n",
              "      <td>257160</td>\n",
              "      <td>1632100</td>\n",
              "      <td>3111600</td>\n",
              "      <td>659800</td>\n",
              "    </tr>\n",
              "    <tr>\n",
              "      <th>8</th>\n",
              "      <td>1968</td>\n",
              "      <td>199399000</td>\n",
              "      <td>6720200</td>\n",
              "      <td>595010</td>\n",
              "      <td>6125200</td>\n",
              "      <td>13800</td>\n",
              "      <td>31670</td>\n",
              "      <td>262840</td>\n",
              "      <td>286700</td>\n",
              "      <td>1858900</td>\n",
              "      <td>3482700</td>\n",
              "      <td>783600</td>\n",
              "    </tr>\n",
              "    <tr>\n",
              "      <th>9</th>\n",
              "      <td>1969</td>\n",
              "      <td>201385000</td>\n",
              "      <td>7410900</td>\n",
              "      <td>661870</td>\n",
              "      <td>6749000</td>\n",
              "      <td>14760</td>\n",
              "      <td>37170</td>\n",
              "      <td>298850</td>\n",
              "      <td>311090</td>\n",
              "      <td>1981900</td>\n",
              "      <td>3888600</td>\n",
              "      <td>878500</td>\n",
              "    </tr>\n",
              "    <tr>\n",
              "      <th>10</th>\n",
              "      <td>1970</td>\n",
              "      <td>203235298</td>\n",
              "      <td>8098000</td>\n",
              "      <td>738820</td>\n",
              "      <td>7359200</td>\n",
              "      <td>16000</td>\n",
              "      <td>37990</td>\n",
              "      <td>349860</td>\n",
              "      <td>334970</td>\n",
              "      <td>2205000</td>\n",
              "      <td>4225800</td>\n",
              "      <td>928400</td>\n",
              "    </tr>\n",
              "    <tr>\n",
              "      <th>11</th>\n",
              "      <td>1971</td>\n",
              "      <td>206212000</td>\n",
              "      <td>8588200</td>\n",
              "      <td>816500</td>\n",
              "      <td>7771700</td>\n",
              "      <td>17780</td>\n",
              "      <td>42260</td>\n",
              "      <td>387700</td>\n",
              "      <td>368760</td>\n",
              "      <td>2399300</td>\n",
              "      <td>4424200</td>\n",
              "      <td>948200</td>\n",
              "    </tr>\n",
              "    <tr>\n",
              "      <th>12</th>\n",
              "      <td>1972</td>\n",
              "      <td>208230000</td>\n",
              "      <td>8248800</td>\n",
              "      <td>834900</td>\n",
              "      <td>7413900</td>\n",
              "      <td>18670</td>\n",
              "      <td>46850</td>\n",
              "      <td>376290</td>\n",
              "      <td>393090</td>\n",
              "      <td>2375500</td>\n",
              "      <td>4151200</td>\n",
              "      <td>887200</td>\n",
              "    </tr>\n",
              "    <tr>\n",
              "      <th>13</th>\n",
              "      <td>1973</td>\n",
              "      <td>209851000</td>\n",
              "      <td>8718100</td>\n",
              "      <td>875910</td>\n",
              "      <td>7842200</td>\n",
              "      <td>19640</td>\n",
              "      <td>51400</td>\n",
              "      <td>384220</td>\n",
              "      <td>420650</td>\n",
              "      <td>2565500</td>\n",
              "      <td>4347900</td>\n",
              "      <td>928800</td>\n",
              "    </tr>\n",
              "    <tr>\n",
              "      <th>14</th>\n",
              "      <td>1974</td>\n",
              "      <td>211392000</td>\n",
              "      <td>10253400</td>\n",
              "      <td>974720</td>\n",
              "      <td>9278700</td>\n",
              "      <td>20710</td>\n",
              "      <td>55400</td>\n",
              "      <td>442400</td>\n",
              "      <td>456210</td>\n",
              "      <td>3039200</td>\n",
              "      <td>5262500</td>\n",
              "      <td>977100</td>\n",
              "    </tr>\n",
              "    <tr>\n",
              "      <th>15</th>\n",
              "      <td>1975</td>\n",
              "      <td>213124000</td>\n",
              "      <td>11292400</td>\n",
              "      <td>1039710</td>\n",
              "      <td>10252700</td>\n",
              "      <td>20510</td>\n",
              "      <td>56090</td>\n",
              "      <td>470500</td>\n",
              "      <td>492620</td>\n",
              "      <td>3265300</td>\n",
              "      <td>5977700</td>\n",
              "      <td>1009600</td>\n",
              "    </tr>\n",
              "    <tr>\n",
              "      <th>16</th>\n",
              "      <td>1976</td>\n",
              "      <td>214659000</td>\n",
              "      <td>11349700</td>\n",
              "      <td>1004210</td>\n",
              "      <td>10345500</td>\n",
              "      <td>18780</td>\n",
              "      <td>57080</td>\n",
              "      <td>427810</td>\n",
              "      <td>500530</td>\n",
              "      <td>3108700</td>\n",
              "      <td>6270800</td>\n",
              "      <td>966000</td>\n",
              "    </tr>\n",
              "    <tr>\n",
              "      <th>17</th>\n",
              "      <td>1977</td>\n",
              "      <td>216332000</td>\n",
              "      <td>10984500</td>\n",
              "      <td>1029580</td>\n",
              "      <td>9955000</td>\n",
              "      <td>19120</td>\n",
              "      <td>63500</td>\n",
              "      <td>412610</td>\n",
              "      <td>534350</td>\n",
              "      <td>3071500</td>\n",
              "      <td>5905700</td>\n",
              "      <td>977700</td>\n",
              "    </tr>\n",
              "    <tr>\n",
              "      <th>18</th>\n",
              "      <td>1978</td>\n",
              "      <td>218059000</td>\n",
              "      <td>11209000</td>\n",
              "      <td>1085550</td>\n",
              "      <td>10123400</td>\n",
              "      <td>19560</td>\n",
              "      <td>67610</td>\n",
              "      <td>426930</td>\n",
              "      <td>571460</td>\n",
              "      <td>3128300</td>\n",
              "      <td>5991000</td>\n",
              "      <td>1004100</td>\n",
              "    </tr>\n",
              "    <tr>\n",
              "      <th>19</th>\n",
              "      <td>1979</td>\n",
              "      <td>220099000</td>\n",
              "      <td>12249500</td>\n",
              "      <td>1208030</td>\n",
              "      <td>11041500</td>\n",
              "      <td>21460</td>\n",
              "      <td>76390</td>\n",
              "      <td>480700</td>\n",
              "      <td>629480</td>\n",
              "      <td>3327700</td>\n",
              "      <td>6601000</td>\n",
              "      <td>1112800</td>\n",
              "    </tr>\n",
              "    <tr>\n",
              "      <th>20</th>\n",
              "      <td>1980</td>\n",
              "      <td>225349264</td>\n",
              "      <td>13408300</td>\n",
              "      <td>1344520</td>\n",
              "      <td>12063700</td>\n",
              "      <td>23040</td>\n",
              "      <td>82990</td>\n",
              "      <td>565840</td>\n",
              "      <td>672650</td>\n",
              "      <td>3795200</td>\n",
              "      <td>7136900</td>\n",
              "      <td>1131700</td>\n",
              "    </tr>\n",
              "    <tr>\n",
              "      <th>21</th>\n",
              "      <td>1981</td>\n",
              "      <td>229146000</td>\n",
              "      <td>13423800</td>\n",
              "      <td>1361820</td>\n",
              "      <td>12061900</td>\n",
              "      <td>22520</td>\n",
              "      <td>82500</td>\n",
              "      <td>592910</td>\n",
              "      <td>663900</td>\n",
              "      <td>3779700</td>\n",
              "      <td>7194400</td>\n",
              "      <td>1087800</td>\n",
              "    </tr>\n",
              "    <tr>\n",
              "      <th>22</th>\n",
              "      <td>1982</td>\n",
              "      <td>231534000</td>\n",
              "      <td>12974400</td>\n",
              "      <td>1322390</td>\n",
              "      <td>11652000</td>\n",
              "      <td>21010</td>\n",
              "      <td>78770</td>\n",
              "      <td>553130</td>\n",
              "      <td>669480</td>\n",
              "      <td>3447100</td>\n",
              "      <td>7142500</td>\n",
              "      <td>1062400</td>\n",
              "    </tr>\n",
              "    <tr>\n",
              "      <th>23</th>\n",
              "      <td>1983</td>\n",
              "      <td>233981000</td>\n",
              "      <td>12108600</td>\n",
              "      <td>1258090</td>\n",
              "      <td>10850500</td>\n",
              "      <td>19310</td>\n",
              "      <td>78920</td>\n",
              "      <td>506570</td>\n",
              "      <td>653290</td>\n",
              "      <td>3129900</td>\n",
              "      <td>6712800</td>\n",
              "      <td>1007900</td>\n",
              "    </tr>\n",
              "    <tr>\n",
              "      <th>24</th>\n",
              "      <td>1984</td>\n",
              "      <td>236158000</td>\n",
              "      <td>11881800</td>\n",
              "      <td>1273280</td>\n",
              "      <td>10608500</td>\n",
              "      <td>18690</td>\n",
              "      <td>84230</td>\n",
              "      <td>485010</td>\n",
              "      <td>685350</td>\n",
              "      <td>2984400</td>\n",
              "      <td>6591900</td>\n",
              "      <td>1032200</td>\n",
              "    </tr>\n",
              "    <tr>\n",
              "      <th>25</th>\n",
              "      <td>1985</td>\n",
              "      <td>238740000</td>\n",
              "      <td>12431400</td>\n",
              "      <td>1328800</td>\n",
              "      <td>11102600</td>\n",
              "      <td>18980</td>\n",
              "      <td>88670</td>\n",
              "      <td>497870</td>\n",
              "      <td>723250</td>\n",
              "      <td>3073300</td>\n",
              "      <td>6926400</td>\n",
              "      <td>1102900</td>\n",
              "    </tr>\n",
              "    <tr>\n",
              "      <th>26</th>\n",
              "      <td>1986</td>\n",
              "      <td>240132887</td>\n",
              "      <td>13211869</td>\n",
              "      <td>1489169</td>\n",
              "      <td>11722700</td>\n",
              "      <td>20613</td>\n",
              "      <td>91459</td>\n",
              "      <td>542775</td>\n",
              "      <td>834322</td>\n",
              "      <td>3241410</td>\n",
              "      <td>7257153</td>\n",
              "      <td>1224137</td>\n",
              "    </tr>\n",
              "    <tr>\n",
              "      <th>27</th>\n",
              "      <td>1987</td>\n",
              "      <td>242282918</td>\n",
              "      <td>13508700</td>\n",
              "      <td>1483999</td>\n",
              "      <td>12024700</td>\n",
              "      <td>20096</td>\n",
              "      <td>91110</td>\n",
              "      <td>517704</td>\n",
              "      <td>855088</td>\n",
              "      <td>3236184</td>\n",
              "      <td>7499900</td>\n",
              "      <td>1288674</td>\n",
              "    </tr>\n",
              "    <tr>\n",
              "      <th>28</th>\n",
              "      <td>1988</td>\n",
              "      <td>245807000</td>\n",
              "      <td>13923100</td>\n",
              "      <td>1566220</td>\n",
              "      <td>12356900</td>\n",
              "      <td>20680</td>\n",
              "      <td>92490</td>\n",
              "      <td>542970</td>\n",
              "      <td>910090</td>\n",
              "      <td>3218100</td>\n",
              "      <td>7705900</td>\n",
              "      <td>1432900</td>\n",
              "    </tr>\n",
              "    <tr>\n",
              "      <th>29</th>\n",
              "      <td>1989</td>\n",
              "      <td>248239000</td>\n",
              "      <td>14251400</td>\n",
              "      <td>1646040</td>\n",
              "      <td>12605400</td>\n",
              "      <td>21500</td>\n",
              "      <td>94500</td>\n",
              "      <td>578330</td>\n",
              "      <td>951710</td>\n",
              "      <td>3168200</td>\n",
              "      <td>7872400</td>\n",
              "      <td>1564800</td>\n",
              "    </tr>\n",
              "    <tr>\n",
              "      <th>30</th>\n",
              "      <td>1990</td>\n",
              "      <td>248709873</td>\n",
              "      <td>14475600</td>\n",
              "      <td>1820130</td>\n",
              "      <td>12655500</td>\n",
              "      <td>23440</td>\n",
              "      <td>102560</td>\n",
              "      <td>639270</td>\n",
              "      <td>1054860</td>\n",
              "      <td>3073900</td>\n",
              "      <td>7945700</td>\n",
              "      <td>1635900</td>\n",
              "    </tr>\n",
              "    <tr>\n",
              "      <th>31</th>\n",
              "      <td>1991</td>\n",
              "      <td>252177000</td>\n",
              "      <td>14872900</td>\n",
              "      <td>1911770</td>\n",
              "      <td>12961100</td>\n",
              "      <td>24700</td>\n",
              "      <td>106590</td>\n",
              "      <td>687730</td>\n",
              "      <td>1092740</td>\n",
              "      <td>3157200</td>\n",
              "      <td>8142200</td>\n",
              "      <td>1661700</td>\n",
              "    </tr>\n",
              "    <tr>\n",
              "      <th>32</th>\n",
              "      <td>1992</td>\n",
              "      <td>255082000</td>\n",
              "      <td>14438200</td>\n",
              "      <td>1932270</td>\n",
              "      <td>12505900</td>\n",
              "      <td>23760</td>\n",
              "      <td>109060</td>\n",
              "      <td>672480</td>\n",
              "      <td>1126970</td>\n",
              "      <td>2979900</td>\n",
              "      <td>7915200</td>\n",
              "      <td>1610800</td>\n",
              "    </tr>\n",
              "    <tr>\n",
              "      <th>33</th>\n",
              "      <td>1993</td>\n",
              "      <td>257908000</td>\n",
              "      <td>14144800</td>\n",
              "      <td>1926020</td>\n",
              "      <td>12218800</td>\n",
              "      <td>24530</td>\n",
              "      <td>106010</td>\n",
              "      <td>659870</td>\n",
              "      <td>1135610</td>\n",
              "      <td>2834800</td>\n",
              "      <td>7820900</td>\n",
              "      <td>1563100</td>\n",
              "    </tr>\n",
              "    <tr>\n",
              "      <th>34</th>\n",
              "      <td>1994</td>\n",
              "      <td>260341000</td>\n",
              "      <td>13989500</td>\n",
              "      <td>1857670</td>\n",
              "      <td>12131900</td>\n",
              "      <td>23330</td>\n",
              "      <td>102220</td>\n",
              "      <td>618950</td>\n",
              "      <td>1113180</td>\n",
              "      <td>2712800</td>\n",
              "      <td>7879800</td>\n",
              "      <td>1539300</td>\n",
              "    </tr>\n",
              "    <tr>\n",
              "      <th>35</th>\n",
              "      <td>1995</td>\n",
              "      <td>262755000</td>\n",
              "      <td>13862700</td>\n",
              "      <td>1798790</td>\n",
              "      <td>12063900</td>\n",
              "      <td>21610</td>\n",
              "      <td>97470</td>\n",
              "      <td>580510</td>\n",
              "      <td>1099210</td>\n",
              "      <td>2593800</td>\n",
              "      <td>7997700</td>\n",
              "      <td>1472400</td>\n",
              "    </tr>\n",
              "    <tr>\n",
              "      <th>36</th>\n",
              "      <td>1996</td>\n",
              "      <td>265228572</td>\n",
              "      <td>13493863</td>\n",
              "      <td>1688540</td>\n",
              "      <td>11805300</td>\n",
              "      <td>19650</td>\n",
              "      <td>96250</td>\n",
              "      <td>535590</td>\n",
              "      <td>1037050</td>\n",
              "      <td>2506400</td>\n",
              "      <td>7904700</td>\n",
              "      <td>1394200</td>\n",
              "    </tr>\n",
              "    <tr>\n",
              "      <th>37</th>\n",
              "      <td>1997</td>\n",
              "      <td>267637000</td>\n",
              "      <td>13194571</td>\n",
              "      <td>1634770</td>\n",
              "      <td>11558175</td>\n",
              "      <td>18208</td>\n",
              "      <td>96153</td>\n",
              "      <td>498534</td>\n",
              "      <td>1023201</td>\n",
              "      <td>2460526</td>\n",
              "      <td>7743760</td>\n",
              "      <td>1354189</td>\n",
              "    </tr>\n",
              "    <tr>\n",
              "      <th>38</th>\n",
              "      <td>1998</td>\n",
              "      <td>270296000</td>\n",
              "      <td>12475634</td>\n",
              "      <td>1531044</td>\n",
              "      <td>10944590</td>\n",
              "      <td>16914</td>\n",
              "      <td>93103</td>\n",
              "      <td>446625</td>\n",
              "      <td>974402</td>\n",
              "      <td>2329950</td>\n",
              "      <td>7373886</td>\n",
              "      <td>1240754</td>\n",
              "    </tr>\n",
              "    <tr>\n",
              "      <th>39</th>\n",
              "      <td>1999</td>\n",
              "      <td>272690813</td>\n",
              "      <td>11634378</td>\n",
              "      <td>1426044</td>\n",
              "      <td>10208334</td>\n",
              "      <td>15522</td>\n",
              "      <td>89411</td>\n",
              "      <td>409371</td>\n",
              "      <td>911740</td>\n",
              "      <td>2100739</td>\n",
              "      <td>6955520</td>\n",
              "      <td>1152075</td>\n",
              "    </tr>\n",
              "    <tr>\n",
              "      <th>40</th>\n",
              "      <td>2000</td>\n",
              "      <td>281421906</td>\n",
              "      <td>11608072</td>\n",
              "      <td>1425486</td>\n",
              "      <td>10182586</td>\n",
              "      <td>15586</td>\n",
              "      <td>90178</td>\n",
              "      <td>408016</td>\n",
              "      <td>911706</td>\n",
              "      <td>2050992</td>\n",
              "      <td>6971590</td>\n",
              "      <td>1160002</td>\n",
              "    </tr>\n",
              "    <tr>\n",
              "      <th>41</th>\n",
              "      <td>2001</td>\n",
              "      <td>285317559</td>\n",
              "      <td>11876669</td>\n",
              "      <td>1439480</td>\n",
              "      <td>10437480</td>\n",
              "      <td>16037</td>\n",
              "      <td>90863</td>\n",
              "      <td>423557</td>\n",
              "      <td>909023</td>\n",
              "      <td>2116531</td>\n",
              "      <td>7092267</td>\n",
              "      <td>1228391</td>\n",
              "    </tr>\n",
              "    <tr>\n",
              "      <th>42</th>\n",
              "      <td>2002</td>\n",
              "      <td>287973924</td>\n",
              "      <td>11878954</td>\n",
              "      <td>1423677</td>\n",
              "      <td>10455277</td>\n",
              "      <td>16229</td>\n",
              "      <td>95235</td>\n",
              "      <td>420806</td>\n",
              "      <td>891407</td>\n",
              "      <td>2151252</td>\n",
              "      <td>7057370</td>\n",
              "      <td>1246646</td>\n",
              "    </tr>\n",
              "    <tr>\n",
              "      <th>43</th>\n",
              "      <td>2003</td>\n",
              "      <td>290690788</td>\n",
              "      <td>11826538</td>\n",
              "      <td>1383676</td>\n",
              "      <td>10442862</td>\n",
              "      <td>16528</td>\n",
              "      <td>93883</td>\n",
              "      <td>414235</td>\n",
              "      <td>859030</td>\n",
              "      <td>2154834</td>\n",
              "      <td>7026802</td>\n",
              "      <td>1261226</td>\n",
              "    </tr>\n",
              "    <tr>\n",
              "      <th>44</th>\n",
              "      <td>2004</td>\n",
              "      <td>293656842</td>\n",
              "      <td>11679474</td>\n",
              "      <td>1360088</td>\n",
              "      <td>10319386</td>\n",
              "      <td>16148</td>\n",
              "      <td>95089</td>\n",
              "      <td>401470</td>\n",
              "      <td>847381</td>\n",
              "      <td>2144446</td>\n",
              "      <td>6937089</td>\n",
              "      <td>1237851</td>\n",
              "    </tr>\n",
              "    <tr>\n",
              "      <th>45</th>\n",
              "      <td>2005</td>\n",
              "      <td>296507061</td>\n",
              "      <td>11565499</td>\n",
              "      <td>1390745</td>\n",
              "      <td>10174754</td>\n",
              "      <td>16740</td>\n",
              "      <td>94347</td>\n",
              "      <td>417438</td>\n",
              "      <td>862220</td>\n",
              "      <td>2155448</td>\n",
              "      <td>6783447</td>\n",
              "      <td>1235859</td>\n",
              "    </tr>\n",
              "    <tr>\n",
              "      <th>46</th>\n",
              "      <td>2006</td>\n",
              "      <td>299398484</td>\n",
              "      <td>11401511</td>\n",
              "      <td>1418043</td>\n",
              "      <td>9983568</td>\n",
              "      <td>17030</td>\n",
              "      <td>92757</td>\n",
              "      <td>447403</td>\n",
              "      <td>860853</td>\n",
              "      <td>2183746</td>\n",
              "      <td>6607013</td>\n",
              "      <td>1192809</td>\n",
              "    </tr>\n",
              "    <tr>\n",
              "      <th>47</th>\n",
              "      <td>2007</td>\n",
              "      <td>301621157</td>\n",
              "      <td>11251828</td>\n",
              "      <td>1408337</td>\n",
              "      <td>9843481</td>\n",
              "      <td>16929</td>\n",
              "      <td>90427</td>\n",
              "      <td>445125</td>\n",
              "      <td>855856</td>\n",
              "      <td>2176140</td>\n",
              "      <td>6568572</td>\n",
              "      <td>1095769</td>\n",
              "    </tr>\n",
              "    <tr>\n",
              "      <th>48</th>\n",
              "      <td>2008</td>\n",
              "      <td>304374846</td>\n",
              "      <td>11160543</td>\n",
              "      <td>1392628</td>\n",
              "      <td>9767915</td>\n",
              "      <td>16442</td>\n",
              "      <td>90479</td>\n",
              "      <td>443574</td>\n",
              "      <td>842134</td>\n",
              "      <td>2228474</td>\n",
              "      <td>6588046</td>\n",
              "      <td>958629</td>\n",
              "    </tr>\n",
              "    <tr>\n",
              "      <th>49</th>\n",
              "      <td>2009</td>\n",
              "      <td>307006550</td>\n",
              "      <td>10762956</td>\n",
              "      <td>1325896</td>\n",
              "      <td>9337060</td>\n",
              "      <td>15399</td>\n",
              "      <td>89241</td>\n",
              "      <td>408742</td>\n",
              "      <td>812514</td>\n",
              "      <td>2203313</td>\n",
              "      <td>6338095</td>\n",
              "      <td>795652</td>\n",
              "    </tr>\n",
              "    <tr>\n",
              "      <th>50</th>\n",
              "      <td>2010</td>\n",
              "      <td>309330219</td>\n",
              "      <td>10363873</td>\n",
              "      <td>1251248</td>\n",
              "      <td>9112625</td>\n",
              "      <td>14772</td>\n",
              "      <td>85593</td>\n",
              "      <td>369089</td>\n",
              "      <td>781844</td>\n",
              "      <td>2168457</td>\n",
              "      <td>6204601</td>\n",
              "      <td>739565</td>\n",
              "    </tr>\n",
              "    <tr>\n",
              "      <th>51</th>\n",
              "      <td>2011</td>\n",
              "      <td>311587816</td>\n",
              "      <td>10258774</td>\n",
              "      <td>1206031</td>\n",
              "      <td>9052743</td>\n",
              "      <td>14661</td>\n",
              "      <td>84175</td>\n",
              "      <td>354772</td>\n",
              "      <td>752423</td>\n",
              "      <td>2185140</td>\n",
              "      <td>6151095</td>\n",
              "      <td>716508</td>\n",
              "    </tr>\n",
              "    <tr>\n",
              "      <th>52</th>\n",
              "      <td>2012</td>\n",
              "      <td>313873685</td>\n",
              "      <td>10219059</td>\n",
              "      <td>1217067</td>\n",
              "      <td>9001992</td>\n",
              "      <td>14866</td>\n",
              "      <td>85141</td>\n",
              "      <td>355051</td>\n",
              "      <td>762009</td>\n",
              "      <td>2109932</td>\n",
              "      <td>6168874</td>\n",
              "      <td>723186</td>\n",
              "    </tr>\n",
              "    <tr>\n",
              "      <th>53</th>\n",
              "      <td>2013</td>\n",
              "      <td>316497531</td>\n",
              "      <td>9850445</td>\n",
              "      <td>1199684</td>\n",
              "      <td>8650761</td>\n",
              "      <td>14319</td>\n",
              "      <td>82109</td>\n",
              "      <td>345095</td>\n",
              "      <td>726575</td>\n",
              "      <td>1931835</td>\n",
              "      <td>6018632</td>\n",
              "      <td>700294</td>\n",
              "    </tr>\n",
              "    <tr>\n",
              "      <th>54</th>\n",
              "      <td>2014</td>\n",
              "      <td>318857056</td>\n",
              "      <td>9475816</td>\n",
              "      <td>1197987</td>\n",
              "      <td>8277829</td>\n",
              "      <td>14249</td>\n",
              "      <td>84041</td>\n",
              "      <td>325802</td>\n",
              "      <td>741291</td>\n",
              "      <td>1729806</td>\n",
              "      <td>5858496</td>\n",
              "      <td>689527</td>\n",
              "    </tr>\n",
              "  </tbody>\n",
              "</table>\n",
              "</div>\n",
              "      <button class=\"colab-df-convert\" onclick=\"convertToInteractive('df-db9e8e2a-80e1-4db4-89c9-3b10c837a509')\"\n",
              "              title=\"Convert this dataframe to an interactive table.\"\n",
              "              style=\"display:none;\">\n",
              "        \n",
              "  <svg xmlns=\"http://www.w3.org/2000/svg\" height=\"24px\"viewBox=\"0 0 24 24\"\n",
              "       width=\"24px\">\n",
              "    <path d=\"M0 0h24v24H0V0z\" fill=\"none\"/>\n",
              "    <path d=\"M18.56 5.44l.94 2.06.94-2.06 2.06-.94-2.06-.94-.94-2.06-.94 2.06-2.06.94zm-11 1L8.5 8.5l.94-2.06 2.06-.94-2.06-.94L8.5 2.5l-.94 2.06-2.06.94zm10 10l.94 2.06.94-2.06 2.06-.94-2.06-.94-.94-2.06-.94 2.06-2.06.94z\"/><path d=\"M17.41 7.96l-1.37-1.37c-.4-.4-.92-.59-1.43-.59-.52 0-1.04.2-1.43.59L10.3 9.45l-7.72 7.72c-.78.78-.78 2.05 0 2.83L4 21.41c.39.39.9.59 1.41.59.51 0 1.02-.2 1.41-.59l7.78-7.78 2.81-2.81c.8-.78.8-2.07 0-2.86zM5.41 20L4 18.59l7.72-7.72 1.47 1.35L5.41 20z\"/>\n",
              "  </svg>\n",
              "      </button>\n",
              "      \n",
              "  <style>\n",
              "    .colab-df-container {\n",
              "      display:flex;\n",
              "      flex-wrap:wrap;\n",
              "      gap: 12px;\n",
              "    }\n",
              "\n",
              "    .colab-df-convert {\n",
              "      background-color: #E8F0FE;\n",
              "      border: none;\n",
              "      border-radius: 50%;\n",
              "      cursor: pointer;\n",
              "      display: none;\n",
              "      fill: #1967D2;\n",
              "      height: 32px;\n",
              "      padding: 0 0 0 0;\n",
              "      width: 32px;\n",
              "    }\n",
              "\n",
              "    .colab-df-convert:hover {\n",
              "      background-color: #E2EBFA;\n",
              "      box-shadow: 0px 1px 2px rgba(60, 64, 67, 0.3), 0px 1px 3px 1px rgba(60, 64, 67, 0.15);\n",
              "      fill: #174EA6;\n",
              "    }\n",
              "\n",
              "    [theme=dark] .colab-df-convert {\n",
              "      background-color: #3B4455;\n",
              "      fill: #D2E3FC;\n",
              "    }\n",
              "\n",
              "    [theme=dark] .colab-df-convert:hover {\n",
              "      background-color: #434B5C;\n",
              "      box-shadow: 0px 1px 3px 1px rgba(0, 0, 0, 0.15);\n",
              "      filter: drop-shadow(0px 1px 2px rgba(0, 0, 0, 0.3));\n",
              "      fill: #FFFFFF;\n",
              "    }\n",
              "  </style>\n",
              "\n",
              "      <script>\n",
              "        const buttonEl =\n",
              "          document.querySelector('#df-db9e8e2a-80e1-4db4-89c9-3b10c837a509 button.colab-df-convert');\n",
              "        buttonEl.style.display =\n",
              "          google.colab.kernel.accessAllowed ? 'block' : 'none';\n",
              "\n",
              "        async function convertToInteractive(key) {\n",
              "          const element = document.querySelector('#df-db9e8e2a-80e1-4db4-89c9-3b10c837a509');\n",
              "          const dataTable =\n",
              "            await google.colab.kernel.invokeFunction('convertToInteractive',\n",
              "                                                     [key], {});\n",
              "          if (!dataTable) return;\n",
              "\n",
              "          const docLinkHtml = 'Like what you see? Visit the ' +\n",
              "            '<a target=\"_blank\" href=https://colab.research.google.com/notebooks/data_table.ipynb>data table notebook</a>'\n",
              "            + ' to learn more about interactive tables.';\n",
              "          element.innerHTML = '';\n",
              "          dataTable['output_type'] = 'display_data';\n",
              "          await google.colab.output.renderOutput(dataTable, element);\n",
              "          const docLink = document.createElement('div');\n",
              "          docLink.innerHTML = docLinkHtml;\n",
              "          element.appendChild(docLink);\n",
              "        }\n",
              "      </script>\n",
              "    </div>\n",
              "  </div>\n",
              "  "
            ]
          },
          "metadata": {},
          "execution_count": 174
        }
      ],
      "source": [
        "crime = pd.read_csv(url)\n",
        "crime"
      ]
    },
    {
      "cell_type": "markdown",
      "id": "8af7de8e",
      "metadata": {
        "id": "8af7de8e"
      },
      "source": [
        "### Step 4. What is the type of the columns?"
      ]
    },
    {
      "cell_type": "code",
      "execution_count": null,
      "id": "d6b6d061",
      "metadata": {
        "colab": {
          "base_uri": "https://localhost:8080/"
        },
        "id": "d6b6d061",
        "outputId": "4525ab9e-dd98-48b5-c976-3f840d4fefff"
      },
      "outputs": [
        {
          "output_type": "stream",
          "name": "stdout",
          "text": [
            "Year                  int64\n",
            "Population            int64\n",
            "Total                 int64\n",
            "Violent               int64\n",
            "Property              int64\n",
            "Murder                int64\n",
            "Forcible_Rape         int64\n",
            "Robbery               int64\n",
            "Aggravated_assault    int64\n",
            "Burglary              int64\n",
            "Larceny_Theft         int64\n",
            "Vehicle_Theft         int64\n",
            "dtype: object\n"
          ]
        }
      ],
      "source": [
        "print(crime.dtypes)"
      ]
    },
    {
      "cell_type": "markdown",
      "id": "0c0eda69",
      "metadata": {
        "id": "0c0eda69"
      },
      "source": [
        "##### Have you noticed that the type of Year is int64. But pandas has a different type to work with Time Series. Let's see it now.\n",
        "\n",
        "### Step 5. Convert the type of the column Year to datetime64"
      ]
    },
    {
      "cell_type": "code",
      "execution_count": null,
      "id": "a7ddd5b4",
      "metadata": {
        "id": "a7ddd5b4"
      },
      "outputs": [],
      "source": [
        "crime[\"Year\"] = pd.to_datetime(crime[\"Year\"], format='%Y')"
      ]
    },
    {
      "cell_type": "markdown",
      "id": "a7bbcef2",
      "metadata": {
        "id": "a7bbcef2"
      },
      "source": [
        "### Step 6. Set the Year column as the index of the dataframe"
      ]
    },
    {
      "cell_type": "code",
      "execution_count": null,
      "id": "00dedda7",
      "metadata": {
        "colab": {
          "base_uri": "https://localhost:8080/",
          "height": 1000
        },
        "id": "00dedda7",
        "outputId": "576adffc-cdb0-48b0-f595-325149224b0b"
      },
      "outputs": [
        {
          "output_type": "execute_result",
          "data": {
            "text/plain": [
              "            Population     Total  Violent  Property  Murder  Forcible_Rape  \\\n",
              "Year                                                                         \n",
              "1960-01-01   179323175   3384200   288460   3095700    9110          17190   \n",
              "1961-01-01   182992000   3488000   289390   3198600    8740          17220   \n",
              "1962-01-01   185771000   3752200   301510   3450700    8530          17550   \n",
              "1963-01-01   188483000   4109500   316970   3792500    8640          17650   \n",
              "1964-01-01   191141000   4564600   364220   4200400    9360          21420   \n",
              "1965-01-01   193526000   4739400   387390   4352000    9960          23410   \n",
              "1966-01-01   195576000   5223500   430180   4793300   11040          25820   \n",
              "1967-01-01   197457000   5903400   499930   5403500   12240          27620   \n",
              "1968-01-01   199399000   6720200   595010   6125200   13800          31670   \n",
              "1969-01-01   201385000   7410900   661870   6749000   14760          37170   \n",
              "1970-01-01   203235298   8098000   738820   7359200   16000          37990   \n",
              "1971-01-01   206212000   8588200   816500   7771700   17780          42260   \n",
              "1972-01-01   208230000   8248800   834900   7413900   18670          46850   \n",
              "1973-01-01   209851000   8718100   875910   7842200   19640          51400   \n",
              "1974-01-01   211392000  10253400   974720   9278700   20710          55400   \n",
              "1975-01-01   213124000  11292400  1039710  10252700   20510          56090   \n",
              "1976-01-01   214659000  11349700  1004210  10345500   18780          57080   \n",
              "1977-01-01   216332000  10984500  1029580   9955000   19120          63500   \n",
              "1978-01-01   218059000  11209000  1085550  10123400   19560          67610   \n",
              "1979-01-01   220099000  12249500  1208030  11041500   21460          76390   \n",
              "1980-01-01   225349264  13408300  1344520  12063700   23040          82990   \n",
              "1981-01-01   229146000  13423800  1361820  12061900   22520          82500   \n",
              "1982-01-01   231534000  12974400  1322390  11652000   21010          78770   \n",
              "1983-01-01   233981000  12108600  1258090  10850500   19310          78920   \n",
              "1984-01-01   236158000  11881800  1273280  10608500   18690          84230   \n",
              "1985-01-01   238740000  12431400  1328800  11102600   18980          88670   \n",
              "1986-01-01   240132887  13211869  1489169  11722700   20613          91459   \n",
              "1987-01-01   242282918  13508700  1483999  12024700   20096          91110   \n",
              "1988-01-01   245807000  13923100  1566220  12356900   20680          92490   \n",
              "1989-01-01   248239000  14251400  1646040  12605400   21500          94500   \n",
              "1990-01-01   248709873  14475600  1820130  12655500   23440         102560   \n",
              "1991-01-01   252177000  14872900  1911770  12961100   24700         106590   \n",
              "1992-01-01   255082000  14438200  1932270  12505900   23760         109060   \n",
              "1993-01-01   257908000  14144800  1926020  12218800   24530         106010   \n",
              "1994-01-01   260341000  13989500  1857670  12131900   23330         102220   \n",
              "1995-01-01   262755000  13862700  1798790  12063900   21610          97470   \n",
              "1996-01-01   265228572  13493863  1688540  11805300   19650          96250   \n",
              "1997-01-01   267637000  13194571  1634770  11558175   18208          96153   \n",
              "1998-01-01   270296000  12475634  1531044  10944590   16914          93103   \n",
              "1999-01-01   272690813  11634378  1426044  10208334   15522          89411   \n",
              "2000-01-01   281421906  11608072  1425486  10182586   15586          90178   \n",
              "2001-01-01   285317559  11876669  1439480  10437480   16037          90863   \n",
              "2002-01-01   287973924  11878954  1423677  10455277   16229          95235   \n",
              "2003-01-01   290690788  11826538  1383676  10442862   16528          93883   \n",
              "2004-01-01   293656842  11679474  1360088  10319386   16148          95089   \n",
              "2005-01-01   296507061  11565499  1390745  10174754   16740          94347   \n",
              "2006-01-01   299398484  11401511  1418043   9983568   17030          92757   \n",
              "2007-01-01   301621157  11251828  1408337   9843481   16929          90427   \n",
              "2008-01-01   304374846  11160543  1392628   9767915   16442          90479   \n",
              "2009-01-01   307006550  10762956  1325896   9337060   15399          89241   \n",
              "2010-01-01   309330219  10363873  1251248   9112625   14772          85593   \n",
              "2011-01-01   311587816  10258774  1206031   9052743   14661          84175   \n",
              "2012-01-01   313873685  10219059  1217067   9001992   14866          85141   \n",
              "2013-01-01   316497531   9850445  1199684   8650761   14319          82109   \n",
              "2014-01-01   318857056   9475816  1197987   8277829   14249          84041   \n",
              "\n",
              "            Robbery  Aggravated_assault  Burglary  Larceny_Theft  \\\n",
              "Year                                                               \n",
              "1960-01-01   107840              154320    912100        1855400   \n",
              "1961-01-01   106670              156760    949600        1913000   \n",
              "1962-01-01   110860              164570    994300        2089600   \n",
              "1963-01-01   116470              174210   1086400        2297800   \n",
              "1964-01-01   130390              203050   1213200        2514400   \n",
              "1965-01-01   138690              215330   1282500        2572600   \n",
              "1966-01-01   157990              235330   1410100        2822000   \n",
              "1967-01-01   202910              257160   1632100        3111600   \n",
              "1968-01-01   262840              286700   1858900        3482700   \n",
              "1969-01-01   298850              311090   1981900        3888600   \n",
              "1970-01-01   349860              334970   2205000        4225800   \n",
              "1971-01-01   387700              368760   2399300        4424200   \n",
              "1972-01-01   376290              393090   2375500        4151200   \n",
              "1973-01-01   384220              420650   2565500        4347900   \n",
              "1974-01-01   442400              456210   3039200        5262500   \n",
              "1975-01-01   470500              492620   3265300        5977700   \n",
              "1976-01-01   427810              500530   3108700        6270800   \n",
              "1977-01-01   412610              534350   3071500        5905700   \n",
              "1978-01-01   426930              571460   3128300        5991000   \n",
              "1979-01-01   480700              629480   3327700        6601000   \n",
              "1980-01-01   565840              672650   3795200        7136900   \n",
              "1981-01-01   592910              663900   3779700        7194400   \n",
              "1982-01-01   553130              669480   3447100        7142500   \n",
              "1983-01-01   506570              653290   3129900        6712800   \n",
              "1984-01-01   485010              685350   2984400        6591900   \n",
              "1985-01-01   497870              723250   3073300        6926400   \n",
              "1986-01-01   542775              834322   3241410        7257153   \n",
              "1987-01-01   517704              855088   3236184        7499900   \n",
              "1988-01-01   542970              910090   3218100        7705900   \n",
              "1989-01-01   578330              951710   3168200        7872400   \n",
              "1990-01-01   639270             1054860   3073900        7945700   \n",
              "1991-01-01   687730             1092740   3157200        8142200   \n",
              "1992-01-01   672480             1126970   2979900        7915200   \n",
              "1993-01-01   659870             1135610   2834800        7820900   \n",
              "1994-01-01   618950             1113180   2712800        7879800   \n",
              "1995-01-01   580510             1099210   2593800        7997700   \n",
              "1996-01-01   535590             1037050   2506400        7904700   \n",
              "1997-01-01   498534             1023201   2460526        7743760   \n",
              "1998-01-01   446625              974402   2329950        7373886   \n",
              "1999-01-01   409371              911740   2100739        6955520   \n",
              "2000-01-01   408016              911706   2050992        6971590   \n",
              "2001-01-01   423557              909023   2116531        7092267   \n",
              "2002-01-01   420806              891407   2151252        7057370   \n",
              "2003-01-01   414235              859030   2154834        7026802   \n",
              "2004-01-01   401470              847381   2144446        6937089   \n",
              "2005-01-01   417438              862220   2155448        6783447   \n",
              "2006-01-01   447403              860853   2183746        6607013   \n",
              "2007-01-01   445125              855856   2176140        6568572   \n",
              "2008-01-01   443574              842134   2228474        6588046   \n",
              "2009-01-01   408742              812514   2203313        6338095   \n",
              "2010-01-01   369089              781844   2168457        6204601   \n",
              "2011-01-01   354772              752423   2185140        6151095   \n",
              "2012-01-01   355051              762009   2109932        6168874   \n",
              "2013-01-01   345095              726575   1931835        6018632   \n",
              "2014-01-01   325802              741291   1729806        5858496   \n",
              "\n",
              "            Vehicle_Theft  \n",
              "Year                       \n",
              "1960-01-01         328200  \n",
              "1961-01-01         336000  \n",
              "1962-01-01         366800  \n",
              "1963-01-01         408300  \n",
              "1964-01-01         472800  \n",
              "1965-01-01         496900  \n",
              "1966-01-01         561200  \n",
              "1967-01-01         659800  \n",
              "1968-01-01         783600  \n",
              "1969-01-01         878500  \n",
              "1970-01-01         928400  \n",
              "1971-01-01         948200  \n",
              "1972-01-01         887200  \n",
              "1973-01-01         928800  \n",
              "1974-01-01         977100  \n",
              "1975-01-01        1009600  \n",
              "1976-01-01         966000  \n",
              "1977-01-01         977700  \n",
              "1978-01-01        1004100  \n",
              "1979-01-01        1112800  \n",
              "1980-01-01        1131700  \n",
              "1981-01-01        1087800  \n",
              "1982-01-01        1062400  \n",
              "1983-01-01        1007900  \n",
              "1984-01-01        1032200  \n",
              "1985-01-01        1102900  \n",
              "1986-01-01        1224137  \n",
              "1987-01-01        1288674  \n",
              "1988-01-01        1432900  \n",
              "1989-01-01        1564800  \n",
              "1990-01-01        1635900  \n",
              "1991-01-01        1661700  \n",
              "1992-01-01        1610800  \n",
              "1993-01-01        1563100  \n",
              "1994-01-01        1539300  \n",
              "1995-01-01        1472400  \n",
              "1996-01-01        1394200  \n",
              "1997-01-01        1354189  \n",
              "1998-01-01        1240754  \n",
              "1999-01-01        1152075  \n",
              "2000-01-01        1160002  \n",
              "2001-01-01        1228391  \n",
              "2002-01-01        1246646  \n",
              "2003-01-01        1261226  \n",
              "2004-01-01        1237851  \n",
              "2005-01-01        1235859  \n",
              "2006-01-01        1192809  \n",
              "2007-01-01        1095769  \n",
              "2008-01-01         958629  \n",
              "2009-01-01         795652  \n",
              "2010-01-01         739565  \n",
              "2011-01-01         716508  \n",
              "2012-01-01         723186  \n",
              "2013-01-01         700294  \n",
              "2014-01-01         689527  "
            ],
            "text/html": [
              "\n",
              "  <div id=\"df-fb72cec0-2d19-4ad0-ba0d-0016cf67ffbd\">\n",
              "    <div class=\"colab-df-container\">\n",
              "      <div>\n",
              "<style scoped>\n",
              "    .dataframe tbody tr th:only-of-type {\n",
              "        vertical-align: middle;\n",
              "    }\n",
              "\n",
              "    .dataframe tbody tr th {\n",
              "        vertical-align: top;\n",
              "    }\n",
              "\n",
              "    .dataframe thead th {\n",
              "        text-align: right;\n",
              "    }\n",
              "</style>\n",
              "<table border=\"1\" class=\"dataframe\">\n",
              "  <thead>\n",
              "    <tr style=\"text-align: right;\">\n",
              "      <th></th>\n",
              "      <th>Population</th>\n",
              "      <th>Total</th>\n",
              "      <th>Violent</th>\n",
              "      <th>Property</th>\n",
              "      <th>Murder</th>\n",
              "      <th>Forcible_Rape</th>\n",
              "      <th>Robbery</th>\n",
              "      <th>Aggravated_assault</th>\n",
              "      <th>Burglary</th>\n",
              "      <th>Larceny_Theft</th>\n",
              "      <th>Vehicle_Theft</th>\n",
              "    </tr>\n",
              "    <tr>\n",
              "      <th>Year</th>\n",
              "      <th></th>\n",
              "      <th></th>\n",
              "      <th></th>\n",
              "      <th></th>\n",
              "      <th></th>\n",
              "      <th></th>\n",
              "      <th></th>\n",
              "      <th></th>\n",
              "      <th></th>\n",
              "      <th></th>\n",
              "      <th></th>\n",
              "    </tr>\n",
              "  </thead>\n",
              "  <tbody>\n",
              "    <tr>\n",
              "      <th>1960-01-01</th>\n",
              "      <td>179323175</td>\n",
              "      <td>3384200</td>\n",
              "      <td>288460</td>\n",
              "      <td>3095700</td>\n",
              "      <td>9110</td>\n",
              "      <td>17190</td>\n",
              "      <td>107840</td>\n",
              "      <td>154320</td>\n",
              "      <td>912100</td>\n",
              "      <td>1855400</td>\n",
              "      <td>328200</td>\n",
              "    </tr>\n",
              "    <tr>\n",
              "      <th>1961-01-01</th>\n",
              "      <td>182992000</td>\n",
              "      <td>3488000</td>\n",
              "      <td>289390</td>\n",
              "      <td>3198600</td>\n",
              "      <td>8740</td>\n",
              "      <td>17220</td>\n",
              "      <td>106670</td>\n",
              "      <td>156760</td>\n",
              "      <td>949600</td>\n",
              "      <td>1913000</td>\n",
              "      <td>336000</td>\n",
              "    </tr>\n",
              "    <tr>\n",
              "      <th>1962-01-01</th>\n",
              "      <td>185771000</td>\n",
              "      <td>3752200</td>\n",
              "      <td>301510</td>\n",
              "      <td>3450700</td>\n",
              "      <td>8530</td>\n",
              "      <td>17550</td>\n",
              "      <td>110860</td>\n",
              "      <td>164570</td>\n",
              "      <td>994300</td>\n",
              "      <td>2089600</td>\n",
              "      <td>366800</td>\n",
              "    </tr>\n",
              "    <tr>\n",
              "      <th>1963-01-01</th>\n",
              "      <td>188483000</td>\n",
              "      <td>4109500</td>\n",
              "      <td>316970</td>\n",
              "      <td>3792500</td>\n",
              "      <td>8640</td>\n",
              "      <td>17650</td>\n",
              "      <td>116470</td>\n",
              "      <td>174210</td>\n",
              "      <td>1086400</td>\n",
              "      <td>2297800</td>\n",
              "      <td>408300</td>\n",
              "    </tr>\n",
              "    <tr>\n",
              "      <th>1964-01-01</th>\n",
              "      <td>191141000</td>\n",
              "      <td>4564600</td>\n",
              "      <td>364220</td>\n",
              "      <td>4200400</td>\n",
              "      <td>9360</td>\n",
              "      <td>21420</td>\n",
              "      <td>130390</td>\n",
              "      <td>203050</td>\n",
              "      <td>1213200</td>\n",
              "      <td>2514400</td>\n",
              "      <td>472800</td>\n",
              "    </tr>\n",
              "    <tr>\n",
              "      <th>1965-01-01</th>\n",
              "      <td>193526000</td>\n",
              "      <td>4739400</td>\n",
              "      <td>387390</td>\n",
              "      <td>4352000</td>\n",
              "      <td>9960</td>\n",
              "      <td>23410</td>\n",
              "      <td>138690</td>\n",
              "      <td>215330</td>\n",
              "      <td>1282500</td>\n",
              "      <td>2572600</td>\n",
              "      <td>496900</td>\n",
              "    </tr>\n",
              "    <tr>\n",
              "      <th>1966-01-01</th>\n",
              "      <td>195576000</td>\n",
              "      <td>5223500</td>\n",
              "      <td>430180</td>\n",
              "      <td>4793300</td>\n",
              "      <td>11040</td>\n",
              "      <td>25820</td>\n",
              "      <td>157990</td>\n",
              "      <td>235330</td>\n",
              "      <td>1410100</td>\n",
              "      <td>2822000</td>\n",
              "      <td>561200</td>\n",
              "    </tr>\n",
              "    <tr>\n",
              "      <th>1967-01-01</th>\n",
              "      <td>197457000</td>\n",
              "      <td>5903400</td>\n",
              "      <td>499930</td>\n",
              "      <td>5403500</td>\n",
              "      <td>12240</td>\n",
              "      <td>27620</td>\n",
              "      <td>202910</td>\n",
              "      <td>257160</td>\n",
              "      <td>1632100</td>\n",
              "      <td>3111600</td>\n",
              "      <td>659800</td>\n",
              "    </tr>\n",
              "    <tr>\n",
              "      <th>1968-01-01</th>\n",
              "      <td>199399000</td>\n",
              "      <td>6720200</td>\n",
              "      <td>595010</td>\n",
              "      <td>6125200</td>\n",
              "      <td>13800</td>\n",
              "      <td>31670</td>\n",
              "      <td>262840</td>\n",
              "      <td>286700</td>\n",
              "      <td>1858900</td>\n",
              "      <td>3482700</td>\n",
              "      <td>783600</td>\n",
              "    </tr>\n",
              "    <tr>\n",
              "      <th>1969-01-01</th>\n",
              "      <td>201385000</td>\n",
              "      <td>7410900</td>\n",
              "      <td>661870</td>\n",
              "      <td>6749000</td>\n",
              "      <td>14760</td>\n",
              "      <td>37170</td>\n",
              "      <td>298850</td>\n",
              "      <td>311090</td>\n",
              "      <td>1981900</td>\n",
              "      <td>3888600</td>\n",
              "      <td>878500</td>\n",
              "    </tr>\n",
              "    <tr>\n",
              "      <th>1970-01-01</th>\n",
              "      <td>203235298</td>\n",
              "      <td>8098000</td>\n",
              "      <td>738820</td>\n",
              "      <td>7359200</td>\n",
              "      <td>16000</td>\n",
              "      <td>37990</td>\n",
              "      <td>349860</td>\n",
              "      <td>334970</td>\n",
              "      <td>2205000</td>\n",
              "      <td>4225800</td>\n",
              "      <td>928400</td>\n",
              "    </tr>\n",
              "    <tr>\n",
              "      <th>1971-01-01</th>\n",
              "      <td>206212000</td>\n",
              "      <td>8588200</td>\n",
              "      <td>816500</td>\n",
              "      <td>7771700</td>\n",
              "      <td>17780</td>\n",
              "      <td>42260</td>\n",
              "      <td>387700</td>\n",
              "      <td>368760</td>\n",
              "      <td>2399300</td>\n",
              "      <td>4424200</td>\n",
              "      <td>948200</td>\n",
              "    </tr>\n",
              "    <tr>\n",
              "      <th>1972-01-01</th>\n",
              "      <td>208230000</td>\n",
              "      <td>8248800</td>\n",
              "      <td>834900</td>\n",
              "      <td>7413900</td>\n",
              "      <td>18670</td>\n",
              "      <td>46850</td>\n",
              "      <td>376290</td>\n",
              "      <td>393090</td>\n",
              "      <td>2375500</td>\n",
              "      <td>4151200</td>\n",
              "      <td>887200</td>\n",
              "    </tr>\n",
              "    <tr>\n",
              "      <th>1973-01-01</th>\n",
              "      <td>209851000</td>\n",
              "      <td>8718100</td>\n",
              "      <td>875910</td>\n",
              "      <td>7842200</td>\n",
              "      <td>19640</td>\n",
              "      <td>51400</td>\n",
              "      <td>384220</td>\n",
              "      <td>420650</td>\n",
              "      <td>2565500</td>\n",
              "      <td>4347900</td>\n",
              "      <td>928800</td>\n",
              "    </tr>\n",
              "    <tr>\n",
              "      <th>1974-01-01</th>\n",
              "      <td>211392000</td>\n",
              "      <td>10253400</td>\n",
              "      <td>974720</td>\n",
              "      <td>9278700</td>\n",
              "      <td>20710</td>\n",
              "      <td>55400</td>\n",
              "      <td>442400</td>\n",
              "      <td>456210</td>\n",
              "      <td>3039200</td>\n",
              "      <td>5262500</td>\n",
              "      <td>977100</td>\n",
              "    </tr>\n",
              "    <tr>\n",
              "      <th>1975-01-01</th>\n",
              "      <td>213124000</td>\n",
              "      <td>11292400</td>\n",
              "      <td>1039710</td>\n",
              "      <td>10252700</td>\n",
              "      <td>20510</td>\n",
              "      <td>56090</td>\n",
              "      <td>470500</td>\n",
              "      <td>492620</td>\n",
              "      <td>3265300</td>\n",
              "      <td>5977700</td>\n",
              "      <td>1009600</td>\n",
              "    </tr>\n",
              "    <tr>\n",
              "      <th>1976-01-01</th>\n",
              "      <td>214659000</td>\n",
              "      <td>11349700</td>\n",
              "      <td>1004210</td>\n",
              "      <td>10345500</td>\n",
              "      <td>18780</td>\n",
              "      <td>57080</td>\n",
              "      <td>427810</td>\n",
              "      <td>500530</td>\n",
              "      <td>3108700</td>\n",
              "      <td>6270800</td>\n",
              "      <td>966000</td>\n",
              "    </tr>\n",
              "    <tr>\n",
              "      <th>1977-01-01</th>\n",
              "      <td>216332000</td>\n",
              "      <td>10984500</td>\n",
              "      <td>1029580</td>\n",
              "      <td>9955000</td>\n",
              "      <td>19120</td>\n",
              "      <td>63500</td>\n",
              "      <td>412610</td>\n",
              "      <td>534350</td>\n",
              "      <td>3071500</td>\n",
              "      <td>5905700</td>\n",
              "      <td>977700</td>\n",
              "    </tr>\n",
              "    <tr>\n",
              "      <th>1978-01-01</th>\n",
              "      <td>218059000</td>\n",
              "      <td>11209000</td>\n",
              "      <td>1085550</td>\n",
              "      <td>10123400</td>\n",
              "      <td>19560</td>\n",
              "      <td>67610</td>\n",
              "      <td>426930</td>\n",
              "      <td>571460</td>\n",
              "      <td>3128300</td>\n",
              "      <td>5991000</td>\n",
              "      <td>1004100</td>\n",
              "    </tr>\n",
              "    <tr>\n",
              "      <th>1979-01-01</th>\n",
              "      <td>220099000</td>\n",
              "      <td>12249500</td>\n",
              "      <td>1208030</td>\n",
              "      <td>11041500</td>\n",
              "      <td>21460</td>\n",
              "      <td>76390</td>\n",
              "      <td>480700</td>\n",
              "      <td>629480</td>\n",
              "      <td>3327700</td>\n",
              "      <td>6601000</td>\n",
              "      <td>1112800</td>\n",
              "    </tr>\n",
              "    <tr>\n",
              "      <th>1980-01-01</th>\n",
              "      <td>225349264</td>\n",
              "      <td>13408300</td>\n",
              "      <td>1344520</td>\n",
              "      <td>12063700</td>\n",
              "      <td>23040</td>\n",
              "      <td>82990</td>\n",
              "      <td>565840</td>\n",
              "      <td>672650</td>\n",
              "      <td>3795200</td>\n",
              "      <td>7136900</td>\n",
              "      <td>1131700</td>\n",
              "    </tr>\n",
              "    <tr>\n",
              "      <th>1981-01-01</th>\n",
              "      <td>229146000</td>\n",
              "      <td>13423800</td>\n",
              "      <td>1361820</td>\n",
              "      <td>12061900</td>\n",
              "      <td>22520</td>\n",
              "      <td>82500</td>\n",
              "      <td>592910</td>\n",
              "      <td>663900</td>\n",
              "      <td>3779700</td>\n",
              "      <td>7194400</td>\n",
              "      <td>1087800</td>\n",
              "    </tr>\n",
              "    <tr>\n",
              "      <th>1982-01-01</th>\n",
              "      <td>231534000</td>\n",
              "      <td>12974400</td>\n",
              "      <td>1322390</td>\n",
              "      <td>11652000</td>\n",
              "      <td>21010</td>\n",
              "      <td>78770</td>\n",
              "      <td>553130</td>\n",
              "      <td>669480</td>\n",
              "      <td>3447100</td>\n",
              "      <td>7142500</td>\n",
              "      <td>1062400</td>\n",
              "    </tr>\n",
              "    <tr>\n",
              "      <th>1983-01-01</th>\n",
              "      <td>233981000</td>\n",
              "      <td>12108600</td>\n",
              "      <td>1258090</td>\n",
              "      <td>10850500</td>\n",
              "      <td>19310</td>\n",
              "      <td>78920</td>\n",
              "      <td>506570</td>\n",
              "      <td>653290</td>\n",
              "      <td>3129900</td>\n",
              "      <td>6712800</td>\n",
              "      <td>1007900</td>\n",
              "    </tr>\n",
              "    <tr>\n",
              "      <th>1984-01-01</th>\n",
              "      <td>236158000</td>\n",
              "      <td>11881800</td>\n",
              "      <td>1273280</td>\n",
              "      <td>10608500</td>\n",
              "      <td>18690</td>\n",
              "      <td>84230</td>\n",
              "      <td>485010</td>\n",
              "      <td>685350</td>\n",
              "      <td>2984400</td>\n",
              "      <td>6591900</td>\n",
              "      <td>1032200</td>\n",
              "    </tr>\n",
              "    <tr>\n",
              "      <th>1985-01-01</th>\n",
              "      <td>238740000</td>\n",
              "      <td>12431400</td>\n",
              "      <td>1328800</td>\n",
              "      <td>11102600</td>\n",
              "      <td>18980</td>\n",
              "      <td>88670</td>\n",
              "      <td>497870</td>\n",
              "      <td>723250</td>\n",
              "      <td>3073300</td>\n",
              "      <td>6926400</td>\n",
              "      <td>1102900</td>\n",
              "    </tr>\n",
              "    <tr>\n",
              "      <th>1986-01-01</th>\n",
              "      <td>240132887</td>\n",
              "      <td>13211869</td>\n",
              "      <td>1489169</td>\n",
              "      <td>11722700</td>\n",
              "      <td>20613</td>\n",
              "      <td>91459</td>\n",
              "      <td>542775</td>\n",
              "      <td>834322</td>\n",
              "      <td>3241410</td>\n",
              "      <td>7257153</td>\n",
              "      <td>1224137</td>\n",
              "    </tr>\n",
              "    <tr>\n",
              "      <th>1987-01-01</th>\n",
              "      <td>242282918</td>\n",
              "      <td>13508700</td>\n",
              "      <td>1483999</td>\n",
              "      <td>12024700</td>\n",
              "      <td>20096</td>\n",
              "      <td>91110</td>\n",
              "      <td>517704</td>\n",
              "      <td>855088</td>\n",
              "      <td>3236184</td>\n",
              "      <td>7499900</td>\n",
              "      <td>1288674</td>\n",
              "    </tr>\n",
              "    <tr>\n",
              "      <th>1988-01-01</th>\n",
              "      <td>245807000</td>\n",
              "      <td>13923100</td>\n",
              "      <td>1566220</td>\n",
              "      <td>12356900</td>\n",
              "      <td>20680</td>\n",
              "      <td>92490</td>\n",
              "      <td>542970</td>\n",
              "      <td>910090</td>\n",
              "      <td>3218100</td>\n",
              "      <td>7705900</td>\n",
              "      <td>1432900</td>\n",
              "    </tr>\n",
              "    <tr>\n",
              "      <th>1989-01-01</th>\n",
              "      <td>248239000</td>\n",
              "      <td>14251400</td>\n",
              "      <td>1646040</td>\n",
              "      <td>12605400</td>\n",
              "      <td>21500</td>\n",
              "      <td>94500</td>\n",
              "      <td>578330</td>\n",
              "      <td>951710</td>\n",
              "      <td>3168200</td>\n",
              "      <td>7872400</td>\n",
              "      <td>1564800</td>\n",
              "    </tr>\n",
              "    <tr>\n",
              "      <th>1990-01-01</th>\n",
              "      <td>248709873</td>\n",
              "      <td>14475600</td>\n",
              "      <td>1820130</td>\n",
              "      <td>12655500</td>\n",
              "      <td>23440</td>\n",
              "      <td>102560</td>\n",
              "      <td>639270</td>\n",
              "      <td>1054860</td>\n",
              "      <td>3073900</td>\n",
              "      <td>7945700</td>\n",
              "      <td>1635900</td>\n",
              "    </tr>\n",
              "    <tr>\n",
              "      <th>1991-01-01</th>\n",
              "      <td>252177000</td>\n",
              "      <td>14872900</td>\n",
              "      <td>1911770</td>\n",
              "      <td>12961100</td>\n",
              "      <td>24700</td>\n",
              "      <td>106590</td>\n",
              "      <td>687730</td>\n",
              "      <td>1092740</td>\n",
              "      <td>3157200</td>\n",
              "      <td>8142200</td>\n",
              "      <td>1661700</td>\n",
              "    </tr>\n",
              "    <tr>\n",
              "      <th>1992-01-01</th>\n",
              "      <td>255082000</td>\n",
              "      <td>14438200</td>\n",
              "      <td>1932270</td>\n",
              "      <td>12505900</td>\n",
              "      <td>23760</td>\n",
              "      <td>109060</td>\n",
              "      <td>672480</td>\n",
              "      <td>1126970</td>\n",
              "      <td>2979900</td>\n",
              "      <td>7915200</td>\n",
              "      <td>1610800</td>\n",
              "    </tr>\n",
              "    <tr>\n",
              "      <th>1993-01-01</th>\n",
              "      <td>257908000</td>\n",
              "      <td>14144800</td>\n",
              "      <td>1926020</td>\n",
              "      <td>12218800</td>\n",
              "      <td>24530</td>\n",
              "      <td>106010</td>\n",
              "      <td>659870</td>\n",
              "      <td>1135610</td>\n",
              "      <td>2834800</td>\n",
              "      <td>7820900</td>\n",
              "      <td>1563100</td>\n",
              "    </tr>\n",
              "    <tr>\n",
              "      <th>1994-01-01</th>\n",
              "      <td>260341000</td>\n",
              "      <td>13989500</td>\n",
              "      <td>1857670</td>\n",
              "      <td>12131900</td>\n",
              "      <td>23330</td>\n",
              "      <td>102220</td>\n",
              "      <td>618950</td>\n",
              "      <td>1113180</td>\n",
              "      <td>2712800</td>\n",
              "      <td>7879800</td>\n",
              "      <td>1539300</td>\n",
              "    </tr>\n",
              "    <tr>\n",
              "      <th>1995-01-01</th>\n",
              "      <td>262755000</td>\n",
              "      <td>13862700</td>\n",
              "      <td>1798790</td>\n",
              "      <td>12063900</td>\n",
              "      <td>21610</td>\n",
              "      <td>97470</td>\n",
              "      <td>580510</td>\n",
              "      <td>1099210</td>\n",
              "      <td>2593800</td>\n",
              "      <td>7997700</td>\n",
              "      <td>1472400</td>\n",
              "    </tr>\n",
              "    <tr>\n",
              "      <th>1996-01-01</th>\n",
              "      <td>265228572</td>\n",
              "      <td>13493863</td>\n",
              "      <td>1688540</td>\n",
              "      <td>11805300</td>\n",
              "      <td>19650</td>\n",
              "      <td>96250</td>\n",
              "      <td>535590</td>\n",
              "      <td>1037050</td>\n",
              "      <td>2506400</td>\n",
              "      <td>7904700</td>\n",
              "      <td>1394200</td>\n",
              "    </tr>\n",
              "    <tr>\n",
              "      <th>1997-01-01</th>\n",
              "      <td>267637000</td>\n",
              "      <td>13194571</td>\n",
              "      <td>1634770</td>\n",
              "      <td>11558175</td>\n",
              "      <td>18208</td>\n",
              "      <td>96153</td>\n",
              "      <td>498534</td>\n",
              "      <td>1023201</td>\n",
              "      <td>2460526</td>\n",
              "      <td>7743760</td>\n",
              "      <td>1354189</td>\n",
              "    </tr>\n",
              "    <tr>\n",
              "      <th>1998-01-01</th>\n",
              "      <td>270296000</td>\n",
              "      <td>12475634</td>\n",
              "      <td>1531044</td>\n",
              "      <td>10944590</td>\n",
              "      <td>16914</td>\n",
              "      <td>93103</td>\n",
              "      <td>446625</td>\n",
              "      <td>974402</td>\n",
              "      <td>2329950</td>\n",
              "      <td>7373886</td>\n",
              "      <td>1240754</td>\n",
              "    </tr>\n",
              "    <tr>\n",
              "      <th>1999-01-01</th>\n",
              "      <td>272690813</td>\n",
              "      <td>11634378</td>\n",
              "      <td>1426044</td>\n",
              "      <td>10208334</td>\n",
              "      <td>15522</td>\n",
              "      <td>89411</td>\n",
              "      <td>409371</td>\n",
              "      <td>911740</td>\n",
              "      <td>2100739</td>\n",
              "      <td>6955520</td>\n",
              "      <td>1152075</td>\n",
              "    </tr>\n",
              "    <tr>\n",
              "      <th>2000-01-01</th>\n",
              "      <td>281421906</td>\n",
              "      <td>11608072</td>\n",
              "      <td>1425486</td>\n",
              "      <td>10182586</td>\n",
              "      <td>15586</td>\n",
              "      <td>90178</td>\n",
              "      <td>408016</td>\n",
              "      <td>911706</td>\n",
              "      <td>2050992</td>\n",
              "      <td>6971590</td>\n",
              "      <td>1160002</td>\n",
              "    </tr>\n",
              "    <tr>\n",
              "      <th>2001-01-01</th>\n",
              "      <td>285317559</td>\n",
              "      <td>11876669</td>\n",
              "      <td>1439480</td>\n",
              "      <td>10437480</td>\n",
              "      <td>16037</td>\n",
              "      <td>90863</td>\n",
              "      <td>423557</td>\n",
              "      <td>909023</td>\n",
              "      <td>2116531</td>\n",
              "      <td>7092267</td>\n",
              "      <td>1228391</td>\n",
              "    </tr>\n",
              "    <tr>\n",
              "      <th>2002-01-01</th>\n",
              "      <td>287973924</td>\n",
              "      <td>11878954</td>\n",
              "      <td>1423677</td>\n",
              "      <td>10455277</td>\n",
              "      <td>16229</td>\n",
              "      <td>95235</td>\n",
              "      <td>420806</td>\n",
              "      <td>891407</td>\n",
              "      <td>2151252</td>\n",
              "      <td>7057370</td>\n",
              "      <td>1246646</td>\n",
              "    </tr>\n",
              "    <tr>\n",
              "      <th>2003-01-01</th>\n",
              "      <td>290690788</td>\n",
              "      <td>11826538</td>\n",
              "      <td>1383676</td>\n",
              "      <td>10442862</td>\n",
              "      <td>16528</td>\n",
              "      <td>93883</td>\n",
              "      <td>414235</td>\n",
              "      <td>859030</td>\n",
              "      <td>2154834</td>\n",
              "      <td>7026802</td>\n",
              "      <td>1261226</td>\n",
              "    </tr>\n",
              "    <tr>\n",
              "      <th>2004-01-01</th>\n",
              "      <td>293656842</td>\n",
              "      <td>11679474</td>\n",
              "      <td>1360088</td>\n",
              "      <td>10319386</td>\n",
              "      <td>16148</td>\n",
              "      <td>95089</td>\n",
              "      <td>401470</td>\n",
              "      <td>847381</td>\n",
              "      <td>2144446</td>\n",
              "      <td>6937089</td>\n",
              "      <td>1237851</td>\n",
              "    </tr>\n",
              "    <tr>\n",
              "      <th>2005-01-01</th>\n",
              "      <td>296507061</td>\n",
              "      <td>11565499</td>\n",
              "      <td>1390745</td>\n",
              "      <td>10174754</td>\n",
              "      <td>16740</td>\n",
              "      <td>94347</td>\n",
              "      <td>417438</td>\n",
              "      <td>862220</td>\n",
              "      <td>2155448</td>\n",
              "      <td>6783447</td>\n",
              "      <td>1235859</td>\n",
              "    </tr>\n",
              "    <tr>\n",
              "      <th>2006-01-01</th>\n",
              "      <td>299398484</td>\n",
              "      <td>11401511</td>\n",
              "      <td>1418043</td>\n",
              "      <td>9983568</td>\n",
              "      <td>17030</td>\n",
              "      <td>92757</td>\n",
              "      <td>447403</td>\n",
              "      <td>860853</td>\n",
              "      <td>2183746</td>\n",
              "      <td>6607013</td>\n",
              "      <td>1192809</td>\n",
              "    </tr>\n",
              "    <tr>\n",
              "      <th>2007-01-01</th>\n",
              "      <td>301621157</td>\n",
              "      <td>11251828</td>\n",
              "      <td>1408337</td>\n",
              "      <td>9843481</td>\n",
              "      <td>16929</td>\n",
              "      <td>90427</td>\n",
              "      <td>445125</td>\n",
              "      <td>855856</td>\n",
              "      <td>2176140</td>\n",
              "      <td>6568572</td>\n",
              "      <td>1095769</td>\n",
              "    </tr>\n",
              "    <tr>\n",
              "      <th>2008-01-01</th>\n",
              "      <td>304374846</td>\n",
              "      <td>11160543</td>\n",
              "      <td>1392628</td>\n",
              "      <td>9767915</td>\n",
              "      <td>16442</td>\n",
              "      <td>90479</td>\n",
              "      <td>443574</td>\n",
              "      <td>842134</td>\n",
              "      <td>2228474</td>\n",
              "      <td>6588046</td>\n",
              "      <td>958629</td>\n",
              "    </tr>\n",
              "    <tr>\n",
              "      <th>2009-01-01</th>\n",
              "      <td>307006550</td>\n",
              "      <td>10762956</td>\n",
              "      <td>1325896</td>\n",
              "      <td>9337060</td>\n",
              "      <td>15399</td>\n",
              "      <td>89241</td>\n",
              "      <td>408742</td>\n",
              "      <td>812514</td>\n",
              "      <td>2203313</td>\n",
              "      <td>6338095</td>\n",
              "      <td>795652</td>\n",
              "    </tr>\n",
              "    <tr>\n",
              "      <th>2010-01-01</th>\n",
              "      <td>309330219</td>\n",
              "      <td>10363873</td>\n",
              "      <td>1251248</td>\n",
              "      <td>9112625</td>\n",
              "      <td>14772</td>\n",
              "      <td>85593</td>\n",
              "      <td>369089</td>\n",
              "      <td>781844</td>\n",
              "      <td>2168457</td>\n",
              "      <td>6204601</td>\n",
              "      <td>739565</td>\n",
              "    </tr>\n",
              "    <tr>\n",
              "      <th>2011-01-01</th>\n",
              "      <td>311587816</td>\n",
              "      <td>10258774</td>\n",
              "      <td>1206031</td>\n",
              "      <td>9052743</td>\n",
              "      <td>14661</td>\n",
              "      <td>84175</td>\n",
              "      <td>354772</td>\n",
              "      <td>752423</td>\n",
              "      <td>2185140</td>\n",
              "      <td>6151095</td>\n",
              "      <td>716508</td>\n",
              "    </tr>\n",
              "    <tr>\n",
              "      <th>2012-01-01</th>\n",
              "      <td>313873685</td>\n",
              "      <td>10219059</td>\n",
              "      <td>1217067</td>\n",
              "      <td>9001992</td>\n",
              "      <td>14866</td>\n",
              "      <td>85141</td>\n",
              "      <td>355051</td>\n",
              "      <td>762009</td>\n",
              "      <td>2109932</td>\n",
              "      <td>6168874</td>\n",
              "      <td>723186</td>\n",
              "    </tr>\n",
              "    <tr>\n",
              "      <th>2013-01-01</th>\n",
              "      <td>316497531</td>\n",
              "      <td>9850445</td>\n",
              "      <td>1199684</td>\n",
              "      <td>8650761</td>\n",
              "      <td>14319</td>\n",
              "      <td>82109</td>\n",
              "      <td>345095</td>\n",
              "      <td>726575</td>\n",
              "      <td>1931835</td>\n",
              "      <td>6018632</td>\n",
              "      <td>700294</td>\n",
              "    </tr>\n",
              "    <tr>\n",
              "      <th>2014-01-01</th>\n",
              "      <td>318857056</td>\n",
              "      <td>9475816</td>\n",
              "      <td>1197987</td>\n",
              "      <td>8277829</td>\n",
              "      <td>14249</td>\n",
              "      <td>84041</td>\n",
              "      <td>325802</td>\n",
              "      <td>741291</td>\n",
              "      <td>1729806</td>\n",
              "      <td>5858496</td>\n",
              "      <td>689527</td>\n",
              "    </tr>\n",
              "  </tbody>\n",
              "</table>\n",
              "</div>\n",
              "      <button class=\"colab-df-convert\" onclick=\"convertToInteractive('df-fb72cec0-2d19-4ad0-ba0d-0016cf67ffbd')\"\n",
              "              title=\"Convert this dataframe to an interactive table.\"\n",
              "              style=\"display:none;\">\n",
              "        \n",
              "  <svg xmlns=\"http://www.w3.org/2000/svg\" height=\"24px\"viewBox=\"0 0 24 24\"\n",
              "       width=\"24px\">\n",
              "    <path d=\"M0 0h24v24H0V0z\" fill=\"none\"/>\n",
              "    <path d=\"M18.56 5.44l.94 2.06.94-2.06 2.06-.94-2.06-.94-.94-2.06-.94 2.06-2.06.94zm-11 1L8.5 8.5l.94-2.06 2.06-.94-2.06-.94L8.5 2.5l-.94 2.06-2.06.94zm10 10l.94 2.06.94-2.06 2.06-.94-2.06-.94-.94-2.06-.94 2.06-2.06.94z\"/><path d=\"M17.41 7.96l-1.37-1.37c-.4-.4-.92-.59-1.43-.59-.52 0-1.04.2-1.43.59L10.3 9.45l-7.72 7.72c-.78.78-.78 2.05 0 2.83L4 21.41c.39.39.9.59 1.41.59.51 0 1.02-.2 1.41-.59l7.78-7.78 2.81-2.81c.8-.78.8-2.07 0-2.86zM5.41 20L4 18.59l7.72-7.72 1.47 1.35L5.41 20z\"/>\n",
              "  </svg>\n",
              "      </button>\n",
              "      \n",
              "  <style>\n",
              "    .colab-df-container {\n",
              "      display:flex;\n",
              "      flex-wrap:wrap;\n",
              "      gap: 12px;\n",
              "    }\n",
              "\n",
              "    .colab-df-convert {\n",
              "      background-color: #E8F0FE;\n",
              "      border: none;\n",
              "      border-radius: 50%;\n",
              "      cursor: pointer;\n",
              "      display: none;\n",
              "      fill: #1967D2;\n",
              "      height: 32px;\n",
              "      padding: 0 0 0 0;\n",
              "      width: 32px;\n",
              "    }\n",
              "\n",
              "    .colab-df-convert:hover {\n",
              "      background-color: #E2EBFA;\n",
              "      box-shadow: 0px 1px 2px rgba(60, 64, 67, 0.3), 0px 1px 3px 1px rgba(60, 64, 67, 0.15);\n",
              "      fill: #174EA6;\n",
              "    }\n",
              "\n",
              "    [theme=dark] .colab-df-convert {\n",
              "      background-color: #3B4455;\n",
              "      fill: #D2E3FC;\n",
              "    }\n",
              "\n",
              "    [theme=dark] .colab-df-convert:hover {\n",
              "      background-color: #434B5C;\n",
              "      box-shadow: 0px 1px 3px 1px rgba(0, 0, 0, 0.15);\n",
              "      filter: drop-shadow(0px 1px 2px rgba(0, 0, 0, 0.3));\n",
              "      fill: #FFFFFF;\n",
              "    }\n",
              "  </style>\n",
              "\n",
              "      <script>\n",
              "        const buttonEl =\n",
              "          document.querySelector('#df-fb72cec0-2d19-4ad0-ba0d-0016cf67ffbd button.colab-df-convert');\n",
              "        buttonEl.style.display =\n",
              "          google.colab.kernel.accessAllowed ? 'block' : 'none';\n",
              "\n",
              "        async function convertToInteractive(key) {\n",
              "          const element = document.querySelector('#df-fb72cec0-2d19-4ad0-ba0d-0016cf67ffbd');\n",
              "          const dataTable =\n",
              "            await google.colab.kernel.invokeFunction('convertToInteractive',\n",
              "                                                     [key], {});\n",
              "          if (!dataTable) return;\n",
              "\n",
              "          const docLinkHtml = 'Like what you see? Visit the ' +\n",
              "            '<a target=\"_blank\" href=https://colab.research.google.com/notebooks/data_table.ipynb>data table notebook</a>'\n",
              "            + ' to learn more about interactive tables.';\n",
              "          element.innerHTML = '';\n",
              "          dataTable['output_type'] = 'display_data';\n",
              "          await google.colab.output.renderOutput(dataTable, element);\n",
              "          const docLink = document.createElement('div');\n",
              "          docLink.innerHTML = docLinkHtml;\n",
              "          element.appendChild(docLink);\n",
              "        }\n",
              "      </script>\n",
              "    </div>\n",
              "  </div>\n",
              "  "
            ]
          },
          "metadata": {},
          "execution_count": 177
        }
      ],
      "source": [
        "crime.set_index('Year')"
      ]
    },
    {
      "cell_type": "markdown",
      "id": "f206d331",
      "metadata": {
        "id": "f206d331"
      },
      "source": [
        "### Step 7. Delete the Total column"
      ]
    },
    {
      "cell_type": "code",
      "execution_count": null,
      "id": "1375fbfa",
      "metadata": {
        "colab": {
          "base_uri": "https://localhost:8080/",
          "height": 1000
        },
        "id": "1375fbfa",
        "outputId": "c908c573-b93e-45dc-e3fe-1ef186020535"
      },
      "outputs": [
        {
          "output_type": "execute_result",
          "data": {
            "text/plain": [
              "         Year  Population  Violent  Property  Murder  Forcible_Rape  Robbery  \\\n",
              "0  1960-01-01   179323175   288460   3095700    9110          17190   107840   \n",
              "1  1961-01-01   182992000   289390   3198600    8740          17220   106670   \n",
              "2  1962-01-01   185771000   301510   3450700    8530          17550   110860   \n",
              "3  1963-01-01   188483000   316970   3792500    8640          17650   116470   \n",
              "4  1964-01-01   191141000   364220   4200400    9360          21420   130390   \n",
              "5  1965-01-01   193526000   387390   4352000    9960          23410   138690   \n",
              "6  1966-01-01   195576000   430180   4793300   11040          25820   157990   \n",
              "7  1967-01-01   197457000   499930   5403500   12240          27620   202910   \n",
              "8  1968-01-01   199399000   595010   6125200   13800          31670   262840   \n",
              "9  1969-01-01   201385000   661870   6749000   14760          37170   298850   \n",
              "10 1970-01-01   203235298   738820   7359200   16000          37990   349860   \n",
              "11 1971-01-01   206212000   816500   7771700   17780          42260   387700   \n",
              "12 1972-01-01   208230000   834900   7413900   18670          46850   376290   \n",
              "13 1973-01-01   209851000   875910   7842200   19640          51400   384220   \n",
              "14 1974-01-01   211392000   974720   9278700   20710          55400   442400   \n",
              "15 1975-01-01   213124000  1039710  10252700   20510          56090   470500   \n",
              "16 1976-01-01   214659000  1004210  10345500   18780          57080   427810   \n",
              "17 1977-01-01   216332000  1029580   9955000   19120          63500   412610   \n",
              "18 1978-01-01   218059000  1085550  10123400   19560          67610   426930   \n",
              "19 1979-01-01   220099000  1208030  11041500   21460          76390   480700   \n",
              "20 1980-01-01   225349264  1344520  12063700   23040          82990   565840   \n",
              "21 1981-01-01   229146000  1361820  12061900   22520          82500   592910   \n",
              "22 1982-01-01   231534000  1322390  11652000   21010          78770   553130   \n",
              "23 1983-01-01   233981000  1258090  10850500   19310          78920   506570   \n",
              "24 1984-01-01   236158000  1273280  10608500   18690          84230   485010   \n",
              "25 1985-01-01   238740000  1328800  11102600   18980          88670   497870   \n",
              "26 1986-01-01   240132887  1489169  11722700   20613          91459   542775   \n",
              "27 1987-01-01   242282918  1483999  12024700   20096          91110   517704   \n",
              "28 1988-01-01   245807000  1566220  12356900   20680          92490   542970   \n",
              "29 1989-01-01   248239000  1646040  12605400   21500          94500   578330   \n",
              "30 1990-01-01   248709873  1820130  12655500   23440         102560   639270   \n",
              "31 1991-01-01   252177000  1911770  12961100   24700         106590   687730   \n",
              "32 1992-01-01   255082000  1932270  12505900   23760         109060   672480   \n",
              "33 1993-01-01   257908000  1926020  12218800   24530         106010   659870   \n",
              "34 1994-01-01   260341000  1857670  12131900   23330         102220   618950   \n",
              "35 1995-01-01   262755000  1798790  12063900   21610          97470   580510   \n",
              "36 1996-01-01   265228572  1688540  11805300   19650          96250   535590   \n",
              "37 1997-01-01   267637000  1634770  11558175   18208          96153   498534   \n",
              "38 1998-01-01   270296000  1531044  10944590   16914          93103   446625   \n",
              "39 1999-01-01   272690813  1426044  10208334   15522          89411   409371   \n",
              "40 2000-01-01   281421906  1425486  10182586   15586          90178   408016   \n",
              "41 2001-01-01   285317559  1439480  10437480   16037          90863   423557   \n",
              "42 2002-01-01   287973924  1423677  10455277   16229          95235   420806   \n",
              "43 2003-01-01   290690788  1383676  10442862   16528          93883   414235   \n",
              "44 2004-01-01   293656842  1360088  10319386   16148          95089   401470   \n",
              "45 2005-01-01   296507061  1390745  10174754   16740          94347   417438   \n",
              "46 2006-01-01   299398484  1418043   9983568   17030          92757   447403   \n",
              "47 2007-01-01   301621157  1408337   9843481   16929          90427   445125   \n",
              "48 2008-01-01   304374846  1392628   9767915   16442          90479   443574   \n",
              "49 2009-01-01   307006550  1325896   9337060   15399          89241   408742   \n",
              "50 2010-01-01   309330219  1251248   9112625   14772          85593   369089   \n",
              "51 2011-01-01   311587816  1206031   9052743   14661          84175   354772   \n",
              "52 2012-01-01   313873685  1217067   9001992   14866          85141   355051   \n",
              "53 2013-01-01   316497531  1199684   8650761   14319          82109   345095   \n",
              "54 2014-01-01   318857056  1197987   8277829   14249          84041   325802   \n",
              "\n",
              "    Aggravated_assault  Burglary  Larceny_Theft  Vehicle_Theft  \n",
              "0               154320    912100        1855400         328200  \n",
              "1               156760    949600        1913000         336000  \n",
              "2               164570    994300        2089600         366800  \n",
              "3               174210   1086400        2297800         408300  \n",
              "4               203050   1213200        2514400         472800  \n",
              "5               215330   1282500        2572600         496900  \n",
              "6               235330   1410100        2822000         561200  \n",
              "7               257160   1632100        3111600         659800  \n",
              "8               286700   1858900        3482700         783600  \n",
              "9               311090   1981900        3888600         878500  \n",
              "10              334970   2205000        4225800         928400  \n",
              "11              368760   2399300        4424200         948200  \n",
              "12              393090   2375500        4151200         887200  \n",
              "13              420650   2565500        4347900         928800  \n",
              "14              456210   3039200        5262500         977100  \n",
              "15              492620   3265300        5977700        1009600  \n",
              "16              500530   3108700        6270800         966000  \n",
              "17              534350   3071500        5905700         977700  \n",
              "18              571460   3128300        5991000        1004100  \n",
              "19              629480   3327700        6601000        1112800  \n",
              "20              672650   3795200        7136900        1131700  \n",
              "21              663900   3779700        7194400        1087800  \n",
              "22              669480   3447100        7142500        1062400  \n",
              "23              653290   3129900        6712800        1007900  \n",
              "24              685350   2984400        6591900        1032200  \n",
              "25              723250   3073300        6926400        1102900  \n",
              "26              834322   3241410        7257153        1224137  \n",
              "27              855088   3236184        7499900        1288674  \n",
              "28              910090   3218100        7705900        1432900  \n",
              "29              951710   3168200        7872400        1564800  \n",
              "30             1054860   3073900        7945700        1635900  \n",
              "31             1092740   3157200        8142200        1661700  \n",
              "32             1126970   2979900        7915200        1610800  \n",
              "33             1135610   2834800        7820900        1563100  \n",
              "34             1113180   2712800        7879800        1539300  \n",
              "35             1099210   2593800        7997700        1472400  \n",
              "36             1037050   2506400        7904700        1394200  \n",
              "37             1023201   2460526        7743760        1354189  \n",
              "38              974402   2329950        7373886        1240754  \n",
              "39              911740   2100739        6955520        1152075  \n",
              "40              911706   2050992        6971590        1160002  \n",
              "41              909023   2116531        7092267        1228391  \n",
              "42              891407   2151252        7057370        1246646  \n",
              "43              859030   2154834        7026802        1261226  \n",
              "44              847381   2144446        6937089        1237851  \n",
              "45              862220   2155448        6783447        1235859  \n",
              "46              860853   2183746        6607013        1192809  \n",
              "47              855856   2176140        6568572        1095769  \n",
              "48              842134   2228474        6588046         958629  \n",
              "49              812514   2203313        6338095         795652  \n",
              "50              781844   2168457        6204601         739565  \n",
              "51              752423   2185140        6151095         716508  \n",
              "52              762009   2109932        6168874         723186  \n",
              "53              726575   1931835        6018632         700294  \n",
              "54              741291   1729806        5858496         689527  "
            ],
            "text/html": [
              "\n",
              "  <div id=\"df-46953660-6432-4a45-8fa6-029531af88b9\">\n",
              "    <div class=\"colab-df-container\">\n",
              "      <div>\n",
              "<style scoped>\n",
              "    .dataframe tbody tr th:only-of-type {\n",
              "        vertical-align: middle;\n",
              "    }\n",
              "\n",
              "    .dataframe tbody tr th {\n",
              "        vertical-align: top;\n",
              "    }\n",
              "\n",
              "    .dataframe thead th {\n",
              "        text-align: right;\n",
              "    }\n",
              "</style>\n",
              "<table border=\"1\" class=\"dataframe\">\n",
              "  <thead>\n",
              "    <tr style=\"text-align: right;\">\n",
              "      <th></th>\n",
              "      <th>Year</th>\n",
              "      <th>Population</th>\n",
              "      <th>Violent</th>\n",
              "      <th>Property</th>\n",
              "      <th>Murder</th>\n",
              "      <th>Forcible_Rape</th>\n",
              "      <th>Robbery</th>\n",
              "      <th>Aggravated_assault</th>\n",
              "      <th>Burglary</th>\n",
              "      <th>Larceny_Theft</th>\n",
              "      <th>Vehicle_Theft</th>\n",
              "    </tr>\n",
              "  </thead>\n",
              "  <tbody>\n",
              "    <tr>\n",
              "      <th>0</th>\n",
              "      <td>1960-01-01</td>\n",
              "      <td>179323175</td>\n",
              "      <td>288460</td>\n",
              "      <td>3095700</td>\n",
              "      <td>9110</td>\n",
              "      <td>17190</td>\n",
              "      <td>107840</td>\n",
              "      <td>154320</td>\n",
              "      <td>912100</td>\n",
              "      <td>1855400</td>\n",
              "      <td>328200</td>\n",
              "    </tr>\n",
              "    <tr>\n",
              "      <th>1</th>\n",
              "      <td>1961-01-01</td>\n",
              "      <td>182992000</td>\n",
              "      <td>289390</td>\n",
              "      <td>3198600</td>\n",
              "      <td>8740</td>\n",
              "      <td>17220</td>\n",
              "      <td>106670</td>\n",
              "      <td>156760</td>\n",
              "      <td>949600</td>\n",
              "      <td>1913000</td>\n",
              "      <td>336000</td>\n",
              "    </tr>\n",
              "    <tr>\n",
              "      <th>2</th>\n",
              "      <td>1962-01-01</td>\n",
              "      <td>185771000</td>\n",
              "      <td>301510</td>\n",
              "      <td>3450700</td>\n",
              "      <td>8530</td>\n",
              "      <td>17550</td>\n",
              "      <td>110860</td>\n",
              "      <td>164570</td>\n",
              "      <td>994300</td>\n",
              "      <td>2089600</td>\n",
              "      <td>366800</td>\n",
              "    </tr>\n",
              "    <tr>\n",
              "      <th>3</th>\n",
              "      <td>1963-01-01</td>\n",
              "      <td>188483000</td>\n",
              "      <td>316970</td>\n",
              "      <td>3792500</td>\n",
              "      <td>8640</td>\n",
              "      <td>17650</td>\n",
              "      <td>116470</td>\n",
              "      <td>174210</td>\n",
              "      <td>1086400</td>\n",
              "      <td>2297800</td>\n",
              "      <td>408300</td>\n",
              "    </tr>\n",
              "    <tr>\n",
              "      <th>4</th>\n",
              "      <td>1964-01-01</td>\n",
              "      <td>191141000</td>\n",
              "      <td>364220</td>\n",
              "      <td>4200400</td>\n",
              "      <td>9360</td>\n",
              "      <td>21420</td>\n",
              "      <td>130390</td>\n",
              "      <td>203050</td>\n",
              "      <td>1213200</td>\n",
              "      <td>2514400</td>\n",
              "      <td>472800</td>\n",
              "    </tr>\n",
              "    <tr>\n",
              "      <th>5</th>\n",
              "      <td>1965-01-01</td>\n",
              "      <td>193526000</td>\n",
              "      <td>387390</td>\n",
              "      <td>4352000</td>\n",
              "      <td>9960</td>\n",
              "      <td>23410</td>\n",
              "      <td>138690</td>\n",
              "      <td>215330</td>\n",
              "      <td>1282500</td>\n",
              "      <td>2572600</td>\n",
              "      <td>496900</td>\n",
              "    </tr>\n",
              "    <tr>\n",
              "      <th>6</th>\n",
              "      <td>1966-01-01</td>\n",
              "      <td>195576000</td>\n",
              "      <td>430180</td>\n",
              "      <td>4793300</td>\n",
              "      <td>11040</td>\n",
              "      <td>25820</td>\n",
              "      <td>157990</td>\n",
              "      <td>235330</td>\n",
              "      <td>1410100</td>\n",
              "      <td>2822000</td>\n",
              "      <td>561200</td>\n",
              "    </tr>\n",
              "    <tr>\n",
              "      <th>7</th>\n",
              "      <td>1967-01-01</td>\n",
              "      <td>197457000</td>\n",
              "      <td>499930</td>\n",
              "      <td>5403500</td>\n",
              "      <td>12240</td>\n",
              "      <td>27620</td>\n",
              "      <td>202910</td>\n",
              "      <td>257160</td>\n",
              "      <td>1632100</td>\n",
              "      <td>3111600</td>\n",
              "      <td>659800</td>\n",
              "    </tr>\n",
              "    <tr>\n",
              "      <th>8</th>\n",
              "      <td>1968-01-01</td>\n",
              "      <td>199399000</td>\n",
              "      <td>595010</td>\n",
              "      <td>6125200</td>\n",
              "      <td>13800</td>\n",
              "      <td>31670</td>\n",
              "      <td>262840</td>\n",
              "      <td>286700</td>\n",
              "      <td>1858900</td>\n",
              "      <td>3482700</td>\n",
              "      <td>783600</td>\n",
              "    </tr>\n",
              "    <tr>\n",
              "      <th>9</th>\n",
              "      <td>1969-01-01</td>\n",
              "      <td>201385000</td>\n",
              "      <td>661870</td>\n",
              "      <td>6749000</td>\n",
              "      <td>14760</td>\n",
              "      <td>37170</td>\n",
              "      <td>298850</td>\n",
              "      <td>311090</td>\n",
              "      <td>1981900</td>\n",
              "      <td>3888600</td>\n",
              "      <td>878500</td>\n",
              "    </tr>\n",
              "    <tr>\n",
              "      <th>10</th>\n",
              "      <td>1970-01-01</td>\n",
              "      <td>203235298</td>\n",
              "      <td>738820</td>\n",
              "      <td>7359200</td>\n",
              "      <td>16000</td>\n",
              "      <td>37990</td>\n",
              "      <td>349860</td>\n",
              "      <td>334970</td>\n",
              "      <td>2205000</td>\n",
              "      <td>4225800</td>\n",
              "      <td>928400</td>\n",
              "    </tr>\n",
              "    <tr>\n",
              "      <th>11</th>\n",
              "      <td>1971-01-01</td>\n",
              "      <td>206212000</td>\n",
              "      <td>816500</td>\n",
              "      <td>7771700</td>\n",
              "      <td>17780</td>\n",
              "      <td>42260</td>\n",
              "      <td>387700</td>\n",
              "      <td>368760</td>\n",
              "      <td>2399300</td>\n",
              "      <td>4424200</td>\n",
              "      <td>948200</td>\n",
              "    </tr>\n",
              "    <tr>\n",
              "      <th>12</th>\n",
              "      <td>1972-01-01</td>\n",
              "      <td>208230000</td>\n",
              "      <td>834900</td>\n",
              "      <td>7413900</td>\n",
              "      <td>18670</td>\n",
              "      <td>46850</td>\n",
              "      <td>376290</td>\n",
              "      <td>393090</td>\n",
              "      <td>2375500</td>\n",
              "      <td>4151200</td>\n",
              "      <td>887200</td>\n",
              "    </tr>\n",
              "    <tr>\n",
              "      <th>13</th>\n",
              "      <td>1973-01-01</td>\n",
              "      <td>209851000</td>\n",
              "      <td>875910</td>\n",
              "      <td>7842200</td>\n",
              "      <td>19640</td>\n",
              "      <td>51400</td>\n",
              "      <td>384220</td>\n",
              "      <td>420650</td>\n",
              "      <td>2565500</td>\n",
              "      <td>4347900</td>\n",
              "      <td>928800</td>\n",
              "    </tr>\n",
              "    <tr>\n",
              "      <th>14</th>\n",
              "      <td>1974-01-01</td>\n",
              "      <td>211392000</td>\n",
              "      <td>974720</td>\n",
              "      <td>9278700</td>\n",
              "      <td>20710</td>\n",
              "      <td>55400</td>\n",
              "      <td>442400</td>\n",
              "      <td>456210</td>\n",
              "      <td>3039200</td>\n",
              "      <td>5262500</td>\n",
              "      <td>977100</td>\n",
              "    </tr>\n",
              "    <tr>\n",
              "      <th>15</th>\n",
              "      <td>1975-01-01</td>\n",
              "      <td>213124000</td>\n",
              "      <td>1039710</td>\n",
              "      <td>10252700</td>\n",
              "      <td>20510</td>\n",
              "      <td>56090</td>\n",
              "      <td>470500</td>\n",
              "      <td>492620</td>\n",
              "      <td>3265300</td>\n",
              "      <td>5977700</td>\n",
              "      <td>1009600</td>\n",
              "    </tr>\n",
              "    <tr>\n",
              "      <th>16</th>\n",
              "      <td>1976-01-01</td>\n",
              "      <td>214659000</td>\n",
              "      <td>1004210</td>\n",
              "      <td>10345500</td>\n",
              "      <td>18780</td>\n",
              "      <td>57080</td>\n",
              "      <td>427810</td>\n",
              "      <td>500530</td>\n",
              "      <td>3108700</td>\n",
              "      <td>6270800</td>\n",
              "      <td>966000</td>\n",
              "    </tr>\n",
              "    <tr>\n",
              "      <th>17</th>\n",
              "      <td>1977-01-01</td>\n",
              "      <td>216332000</td>\n",
              "      <td>1029580</td>\n",
              "      <td>9955000</td>\n",
              "      <td>19120</td>\n",
              "      <td>63500</td>\n",
              "      <td>412610</td>\n",
              "      <td>534350</td>\n",
              "      <td>3071500</td>\n",
              "      <td>5905700</td>\n",
              "      <td>977700</td>\n",
              "    </tr>\n",
              "    <tr>\n",
              "      <th>18</th>\n",
              "      <td>1978-01-01</td>\n",
              "      <td>218059000</td>\n",
              "      <td>1085550</td>\n",
              "      <td>10123400</td>\n",
              "      <td>19560</td>\n",
              "      <td>67610</td>\n",
              "      <td>426930</td>\n",
              "      <td>571460</td>\n",
              "      <td>3128300</td>\n",
              "      <td>5991000</td>\n",
              "      <td>1004100</td>\n",
              "    </tr>\n",
              "    <tr>\n",
              "      <th>19</th>\n",
              "      <td>1979-01-01</td>\n",
              "      <td>220099000</td>\n",
              "      <td>1208030</td>\n",
              "      <td>11041500</td>\n",
              "      <td>21460</td>\n",
              "      <td>76390</td>\n",
              "      <td>480700</td>\n",
              "      <td>629480</td>\n",
              "      <td>3327700</td>\n",
              "      <td>6601000</td>\n",
              "      <td>1112800</td>\n",
              "    </tr>\n",
              "    <tr>\n",
              "      <th>20</th>\n",
              "      <td>1980-01-01</td>\n",
              "      <td>225349264</td>\n",
              "      <td>1344520</td>\n",
              "      <td>12063700</td>\n",
              "      <td>23040</td>\n",
              "      <td>82990</td>\n",
              "      <td>565840</td>\n",
              "      <td>672650</td>\n",
              "      <td>3795200</td>\n",
              "      <td>7136900</td>\n",
              "      <td>1131700</td>\n",
              "    </tr>\n",
              "    <tr>\n",
              "      <th>21</th>\n",
              "      <td>1981-01-01</td>\n",
              "      <td>229146000</td>\n",
              "      <td>1361820</td>\n",
              "      <td>12061900</td>\n",
              "      <td>22520</td>\n",
              "      <td>82500</td>\n",
              "      <td>592910</td>\n",
              "      <td>663900</td>\n",
              "      <td>3779700</td>\n",
              "      <td>7194400</td>\n",
              "      <td>1087800</td>\n",
              "    </tr>\n",
              "    <tr>\n",
              "      <th>22</th>\n",
              "      <td>1982-01-01</td>\n",
              "      <td>231534000</td>\n",
              "      <td>1322390</td>\n",
              "      <td>11652000</td>\n",
              "      <td>21010</td>\n",
              "      <td>78770</td>\n",
              "      <td>553130</td>\n",
              "      <td>669480</td>\n",
              "      <td>3447100</td>\n",
              "      <td>7142500</td>\n",
              "      <td>1062400</td>\n",
              "    </tr>\n",
              "    <tr>\n",
              "      <th>23</th>\n",
              "      <td>1983-01-01</td>\n",
              "      <td>233981000</td>\n",
              "      <td>1258090</td>\n",
              "      <td>10850500</td>\n",
              "      <td>19310</td>\n",
              "      <td>78920</td>\n",
              "      <td>506570</td>\n",
              "      <td>653290</td>\n",
              "      <td>3129900</td>\n",
              "      <td>6712800</td>\n",
              "      <td>1007900</td>\n",
              "    </tr>\n",
              "    <tr>\n",
              "      <th>24</th>\n",
              "      <td>1984-01-01</td>\n",
              "      <td>236158000</td>\n",
              "      <td>1273280</td>\n",
              "      <td>10608500</td>\n",
              "      <td>18690</td>\n",
              "      <td>84230</td>\n",
              "      <td>485010</td>\n",
              "      <td>685350</td>\n",
              "      <td>2984400</td>\n",
              "      <td>6591900</td>\n",
              "      <td>1032200</td>\n",
              "    </tr>\n",
              "    <tr>\n",
              "      <th>25</th>\n",
              "      <td>1985-01-01</td>\n",
              "      <td>238740000</td>\n",
              "      <td>1328800</td>\n",
              "      <td>11102600</td>\n",
              "      <td>18980</td>\n",
              "      <td>88670</td>\n",
              "      <td>497870</td>\n",
              "      <td>723250</td>\n",
              "      <td>3073300</td>\n",
              "      <td>6926400</td>\n",
              "      <td>1102900</td>\n",
              "    </tr>\n",
              "    <tr>\n",
              "      <th>26</th>\n",
              "      <td>1986-01-01</td>\n",
              "      <td>240132887</td>\n",
              "      <td>1489169</td>\n",
              "      <td>11722700</td>\n",
              "      <td>20613</td>\n",
              "      <td>91459</td>\n",
              "      <td>542775</td>\n",
              "      <td>834322</td>\n",
              "      <td>3241410</td>\n",
              "      <td>7257153</td>\n",
              "      <td>1224137</td>\n",
              "    </tr>\n",
              "    <tr>\n",
              "      <th>27</th>\n",
              "      <td>1987-01-01</td>\n",
              "      <td>242282918</td>\n",
              "      <td>1483999</td>\n",
              "      <td>12024700</td>\n",
              "      <td>20096</td>\n",
              "      <td>91110</td>\n",
              "      <td>517704</td>\n",
              "      <td>855088</td>\n",
              "      <td>3236184</td>\n",
              "      <td>7499900</td>\n",
              "      <td>1288674</td>\n",
              "    </tr>\n",
              "    <tr>\n",
              "      <th>28</th>\n",
              "      <td>1988-01-01</td>\n",
              "      <td>245807000</td>\n",
              "      <td>1566220</td>\n",
              "      <td>12356900</td>\n",
              "      <td>20680</td>\n",
              "      <td>92490</td>\n",
              "      <td>542970</td>\n",
              "      <td>910090</td>\n",
              "      <td>3218100</td>\n",
              "      <td>7705900</td>\n",
              "      <td>1432900</td>\n",
              "    </tr>\n",
              "    <tr>\n",
              "      <th>29</th>\n",
              "      <td>1989-01-01</td>\n",
              "      <td>248239000</td>\n",
              "      <td>1646040</td>\n",
              "      <td>12605400</td>\n",
              "      <td>21500</td>\n",
              "      <td>94500</td>\n",
              "      <td>578330</td>\n",
              "      <td>951710</td>\n",
              "      <td>3168200</td>\n",
              "      <td>7872400</td>\n",
              "      <td>1564800</td>\n",
              "    </tr>\n",
              "    <tr>\n",
              "      <th>30</th>\n",
              "      <td>1990-01-01</td>\n",
              "      <td>248709873</td>\n",
              "      <td>1820130</td>\n",
              "      <td>12655500</td>\n",
              "      <td>23440</td>\n",
              "      <td>102560</td>\n",
              "      <td>639270</td>\n",
              "      <td>1054860</td>\n",
              "      <td>3073900</td>\n",
              "      <td>7945700</td>\n",
              "      <td>1635900</td>\n",
              "    </tr>\n",
              "    <tr>\n",
              "      <th>31</th>\n",
              "      <td>1991-01-01</td>\n",
              "      <td>252177000</td>\n",
              "      <td>1911770</td>\n",
              "      <td>12961100</td>\n",
              "      <td>24700</td>\n",
              "      <td>106590</td>\n",
              "      <td>687730</td>\n",
              "      <td>1092740</td>\n",
              "      <td>3157200</td>\n",
              "      <td>8142200</td>\n",
              "      <td>1661700</td>\n",
              "    </tr>\n",
              "    <tr>\n",
              "      <th>32</th>\n",
              "      <td>1992-01-01</td>\n",
              "      <td>255082000</td>\n",
              "      <td>1932270</td>\n",
              "      <td>12505900</td>\n",
              "      <td>23760</td>\n",
              "      <td>109060</td>\n",
              "      <td>672480</td>\n",
              "      <td>1126970</td>\n",
              "      <td>2979900</td>\n",
              "      <td>7915200</td>\n",
              "      <td>1610800</td>\n",
              "    </tr>\n",
              "    <tr>\n",
              "      <th>33</th>\n",
              "      <td>1993-01-01</td>\n",
              "      <td>257908000</td>\n",
              "      <td>1926020</td>\n",
              "      <td>12218800</td>\n",
              "      <td>24530</td>\n",
              "      <td>106010</td>\n",
              "      <td>659870</td>\n",
              "      <td>1135610</td>\n",
              "      <td>2834800</td>\n",
              "      <td>7820900</td>\n",
              "      <td>1563100</td>\n",
              "    </tr>\n",
              "    <tr>\n",
              "      <th>34</th>\n",
              "      <td>1994-01-01</td>\n",
              "      <td>260341000</td>\n",
              "      <td>1857670</td>\n",
              "      <td>12131900</td>\n",
              "      <td>23330</td>\n",
              "      <td>102220</td>\n",
              "      <td>618950</td>\n",
              "      <td>1113180</td>\n",
              "      <td>2712800</td>\n",
              "      <td>7879800</td>\n",
              "      <td>1539300</td>\n",
              "    </tr>\n",
              "    <tr>\n",
              "      <th>35</th>\n",
              "      <td>1995-01-01</td>\n",
              "      <td>262755000</td>\n",
              "      <td>1798790</td>\n",
              "      <td>12063900</td>\n",
              "      <td>21610</td>\n",
              "      <td>97470</td>\n",
              "      <td>580510</td>\n",
              "      <td>1099210</td>\n",
              "      <td>2593800</td>\n",
              "      <td>7997700</td>\n",
              "      <td>1472400</td>\n",
              "    </tr>\n",
              "    <tr>\n",
              "      <th>36</th>\n",
              "      <td>1996-01-01</td>\n",
              "      <td>265228572</td>\n",
              "      <td>1688540</td>\n",
              "      <td>11805300</td>\n",
              "      <td>19650</td>\n",
              "      <td>96250</td>\n",
              "      <td>535590</td>\n",
              "      <td>1037050</td>\n",
              "      <td>2506400</td>\n",
              "      <td>7904700</td>\n",
              "      <td>1394200</td>\n",
              "    </tr>\n",
              "    <tr>\n",
              "      <th>37</th>\n",
              "      <td>1997-01-01</td>\n",
              "      <td>267637000</td>\n",
              "      <td>1634770</td>\n",
              "      <td>11558175</td>\n",
              "      <td>18208</td>\n",
              "      <td>96153</td>\n",
              "      <td>498534</td>\n",
              "      <td>1023201</td>\n",
              "      <td>2460526</td>\n",
              "      <td>7743760</td>\n",
              "      <td>1354189</td>\n",
              "    </tr>\n",
              "    <tr>\n",
              "      <th>38</th>\n",
              "      <td>1998-01-01</td>\n",
              "      <td>270296000</td>\n",
              "      <td>1531044</td>\n",
              "      <td>10944590</td>\n",
              "      <td>16914</td>\n",
              "      <td>93103</td>\n",
              "      <td>446625</td>\n",
              "      <td>974402</td>\n",
              "      <td>2329950</td>\n",
              "      <td>7373886</td>\n",
              "      <td>1240754</td>\n",
              "    </tr>\n",
              "    <tr>\n",
              "      <th>39</th>\n",
              "      <td>1999-01-01</td>\n",
              "      <td>272690813</td>\n",
              "      <td>1426044</td>\n",
              "      <td>10208334</td>\n",
              "      <td>15522</td>\n",
              "      <td>89411</td>\n",
              "      <td>409371</td>\n",
              "      <td>911740</td>\n",
              "      <td>2100739</td>\n",
              "      <td>6955520</td>\n",
              "      <td>1152075</td>\n",
              "    </tr>\n",
              "    <tr>\n",
              "      <th>40</th>\n",
              "      <td>2000-01-01</td>\n",
              "      <td>281421906</td>\n",
              "      <td>1425486</td>\n",
              "      <td>10182586</td>\n",
              "      <td>15586</td>\n",
              "      <td>90178</td>\n",
              "      <td>408016</td>\n",
              "      <td>911706</td>\n",
              "      <td>2050992</td>\n",
              "      <td>6971590</td>\n",
              "      <td>1160002</td>\n",
              "    </tr>\n",
              "    <tr>\n",
              "      <th>41</th>\n",
              "      <td>2001-01-01</td>\n",
              "      <td>285317559</td>\n",
              "      <td>1439480</td>\n",
              "      <td>10437480</td>\n",
              "      <td>16037</td>\n",
              "      <td>90863</td>\n",
              "      <td>423557</td>\n",
              "      <td>909023</td>\n",
              "      <td>2116531</td>\n",
              "      <td>7092267</td>\n",
              "      <td>1228391</td>\n",
              "    </tr>\n",
              "    <tr>\n",
              "      <th>42</th>\n",
              "      <td>2002-01-01</td>\n",
              "      <td>287973924</td>\n",
              "      <td>1423677</td>\n",
              "      <td>10455277</td>\n",
              "      <td>16229</td>\n",
              "      <td>95235</td>\n",
              "      <td>420806</td>\n",
              "      <td>891407</td>\n",
              "      <td>2151252</td>\n",
              "      <td>7057370</td>\n",
              "      <td>1246646</td>\n",
              "    </tr>\n",
              "    <tr>\n",
              "      <th>43</th>\n",
              "      <td>2003-01-01</td>\n",
              "      <td>290690788</td>\n",
              "      <td>1383676</td>\n",
              "      <td>10442862</td>\n",
              "      <td>16528</td>\n",
              "      <td>93883</td>\n",
              "      <td>414235</td>\n",
              "      <td>859030</td>\n",
              "      <td>2154834</td>\n",
              "      <td>7026802</td>\n",
              "      <td>1261226</td>\n",
              "    </tr>\n",
              "    <tr>\n",
              "      <th>44</th>\n",
              "      <td>2004-01-01</td>\n",
              "      <td>293656842</td>\n",
              "      <td>1360088</td>\n",
              "      <td>10319386</td>\n",
              "      <td>16148</td>\n",
              "      <td>95089</td>\n",
              "      <td>401470</td>\n",
              "      <td>847381</td>\n",
              "      <td>2144446</td>\n",
              "      <td>6937089</td>\n",
              "      <td>1237851</td>\n",
              "    </tr>\n",
              "    <tr>\n",
              "      <th>45</th>\n",
              "      <td>2005-01-01</td>\n",
              "      <td>296507061</td>\n",
              "      <td>1390745</td>\n",
              "      <td>10174754</td>\n",
              "      <td>16740</td>\n",
              "      <td>94347</td>\n",
              "      <td>417438</td>\n",
              "      <td>862220</td>\n",
              "      <td>2155448</td>\n",
              "      <td>6783447</td>\n",
              "      <td>1235859</td>\n",
              "    </tr>\n",
              "    <tr>\n",
              "      <th>46</th>\n",
              "      <td>2006-01-01</td>\n",
              "      <td>299398484</td>\n",
              "      <td>1418043</td>\n",
              "      <td>9983568</td>\n",
              "      <td>17030</td>\n",
              "      <td>92757</td>\n",
              "      <td>447403</td>\n",
              "      <td>860853</td>\n",
              "      <td>2183746</td>\n",
              "      <td>6607013</td>\n",
              "      <td>1192809</td>\n",
              "    </tr>\n",
              "    <tr>\n",
              "      <th>47</th>\n",
              "      <td>2007-01-01</td>\n",
              "      <td>301621157</td>\n",
              "      <td>1408337</td>\n",
              "      <td>9843481</td>\n",
              "      <td>16929</td>\n",
              "      <td>90427</td>\n",
              "      <td>445125</td>\n",
              "      <td>855856</td>\n",
              "      <td>2176140</td>\n",
              "      <td>6568572</td>\n",
              "      <td>1095769</td>\n",
              "    </tr>\n",
              "    <tr>\n",
              "      <th>48</th>\n",
              "      <td>2008-01-01</td>\n",
              "      <td>304374846</td>\n",
              "      <td>1392628</td>\n",
              "      <td>9767915</td>\n",
              "      <td>16442</td>\n",
              "      <td>90479</td>\n",
              "      <td>443574</td>\n",
              "      <td>842134</td>\n",
              "      <td>2228474</td>\n",
              "      <td>6588046</td>\n",
              "      <td>958629</td>\n",
              "    </tr>\n",
              "    <tr>\n",
              "      <th>49</th>\n",
              "      <td>2009-01-01</td>\n",
              "      <td>307006550</td>\n",
              "      <td>1325896</td>\n",
              "      <td>9337060</td>\n",
              "      <td>15399</td>\n",
              "      <td>89241</td>\n",
              "      <td>408742</td>\n",
              "      <td>812514</td>\n",
              "      <td>2203313</td>\n",
              "      <td>6338095</td>\n",
              "      <td>795652</td>\n",
              "    </tr>\n",
              "    <tr>\n",
              "      <th>50</th>\n",
              "      <td>2010-01-01</td>\n",
              "      <td>309330219</td>\n",
              "      <td>1251248</td>\n",
              "      <td>9112625</td>\n",
              "      <td>14772</td>\n",
              "      <td>85593</td>\n",
              "      <td>369089</td>\n",
              "      <td>781844</td>\n",
              "      <td>2168457</td>\n",
              "      <td>6204601</td>\n",
              "      <td>739565</td>\n",
              "    </tr>\n",
              "    <tr>\n",
              "      <th>51</th>\n",
              "      <td>2011-01-01</td>\n",
              "      <td>311587816</td>\n",
              "      <td>1206031</td>\n",
              "      <td>9052743</td>\n",
              "      <td>14661</td>\n",
              "      <td>84175</td>\n",
              "      <td>354772</td>\n",
              "      <td>752423</td>\n",
              "      <td>2185140</td>\n",
              "      <td>6151095</td>\n",
              "      <td>716508</td>\n",
              "    </tr>\n",
              "    <tr>\n",
              "      <th>52</th>\n",
              "      <td>2012-01-01</td>\n",
              "      <td>313873685</td>\n",
              "      <td>1217067</td>\n",
              "      <td>9001992</td>\n",
              "      <td>14866</td>\n",
              "      <td>85141</td>\n",
              "      <td>355051</td>\n",
              "      <td>762009</td>\n",
              "      <td>2109932</td>\n",
              "      <td>6168874</td>\n",
              "      <td>723186</td>\n",
              "    </tr>\n",
              "    <tr>\n",
              "      <th>53</th>\n",
              "      <td>2013-01-01</td>\n",
              "      <td>316497531</td>\n",
              "      <td>1199684</td>\n",
              "      <td>8650761</td>\n",
              "      <td>14319</td>\n",
              "      <td>82109</td>\n",
              "      <td>345095</td>\n",
              "      <td>726575</td>\n",
              "      <td>1931835</td>\n",
              "      <td>6018632</td>\n",
              "      <td>700294</td>\n",
              "    </tr>\n",
              "    <tr>\n",
              "      <th>54</th>\n",
              "      <td>2014-01-01</td>\n",
              "      <td>318857056</td>\n",
              "      <td>1197987</td>\n",
              "      <td>8277829</td>\n",
              "      <td>14249</td>\n",
              "      <td>84041</td>\n",
              "      <td>325802</td>\n",
              "      <td>741291</td>\n",
              "      <td>1729806</td>\n",
              "      <td>5858496</td>\n",
              "      <td>689527</td>\n",
              "    </tr>\n",
              "  </tbody>\n",
              "</table>\n",
              "</div>\n",
              "      <button class=\"colab-df-convert\" onclick=\"convertToInteractive('df-46953660-6432-4a45-8fa6-029531af88b9')\"\n",
              "              title=\"Convert this dataframe to an interactive table.\"\n",
              "              style=\"display:none;\">\n",
              "        \n",
              "  <svg xmlns=\"http://www.w3.org/2000/svg\" height=\"24px\"viewBox=\"0 0 24 24\"\n",
              "       width=\"24px\">\n",
              "    <path d=\"M0 0h24v24H0V0z\" fill=\"none\"/>\n",
              "    <path d=\"M18.56 5.44l.94 2.06.94-2.06 2.06-.94-2.06-.94-.94-2.06-.94 2.06-2.06.94zm-11 1L8.5 8.5l.94-2.06 2.06-.94-2.06-.94L8.5 2.5l-.94 2.06-2.06.94zm10 10l.94 2.06.94-2.06 2.06-.94-2.06-.94-.94-2.06-.94 2.06-2.06.94z\"/><path d=\"M17.41 7.96l-1.37-1.37c-.4-.4-.92-.59-1.43-.59-.52 0-1.04.2-1.43.59L10.3 9.45l-7.72 7.72c-.78.78-.78 2.05 0 2.83L4 21.41c.39.39.9.59 1.41.59.51 0 1.02-.2 1.41-.59l7.78-7.78 2.81-2.81c.8-.78.8-2.07 0-2.86zM5.41 20L4 18.59l7.72-7.72 1.47 1.35L5.41 20z\"/>\n",
              "  </svg>\n",
              "      </button>\n",
              "      \n",
              "  <style>\n",
              "    .colab-df-container {\n",
              "      display:flex;\n",
              "      flex-wrap:wrap;\n",
              "      gap: 12px;\n",
              "    }\n",
              "\n",
              "    .colab-df-convert {\n",
              "      background-color: #E8F0FE;\n",
              "      border: none;\n",
              "      border-radius: 50%;\n",
              "      cursor: pointer;\n",
              "      display: none;\n",
              "      fill: #1967D2;\n",
              "      height: 32px;\n",
              "      padding: 0 0 0 0;\n",
              "      width: 32px;\n",
              "    }\n",
              "\n",
              "    .colab-df-convert:hover {\n",
              "      background-color: #E2EBFA;\n",
              "      box-shadow: 0px 1px 2px rgba(60, 64, 67, 0.3), 0px 1px 3px 1px rgba(60, 64, 67, 0.15);\n",
              "      fill: #174EA6;\n",
              "    }\n",
              "\n",
              "    [theme=dark] .colab-df-convert {\n",
              "      background-color: #3B4455;\n",
              "      fill: #D2E3FC;\n",
              "    }\n",
              "\n",
              "    [theme=dark] .colab-df-convert:hover {\n",
              "      background-color: #434B5C;\n",
              "      box-shadow: 0px 1px 3px 1px rgba(0, 0, 0, 0.15);\n",
              "      filter: drop-shadow(0px 1px 2px rgba(0, 0, 0, 0.3));\n",
              "      fill: #FFFFFF;\n",
              "    }\n",
              "  </style>\n",
              "\n",
              "      <script>\n",
              "        const buttonEl =\n",
              "          document.querySelector('#df-46953660-6432-4a45-8fa6-029531af88b9 button.colab-df-convert');\n",
              "        buttonEl.style.display =\n",
              "          google.colab.kernel.accessAllowed ? 'block' : 'none';\n",
              "\n",
              "        async function convertToInteractive(key) {\n",
              "          const element = document.querySelector('#df-46953660-6432-4a45-8fa6-029531af88b9');\n",
              "          const dataTable =\n",
              "            await google.colab.kernel.invokeFunction('convertToInteractive',\n",
              "                                                     [key], {});\n",
              "          if (!dataTable) return;\n",
              "\n",
              "          const docLinkHtml = 'Like what you see? Visit the ' +\n",
              "            '<a target=\"_blank\" href=https://colab.research.google.com/notebooks/data_table.ipynb>data table notebook</a>'\n",
              "            + ' to learn more about interactive tables.';\n",
              "          element.innerHTML = '';\n",
              "          dataTable['output_type'] = 'display_data';\n",
              "          await google.colab.output.renderOutput(dataTable, element);\n",
              "          const docLink = document.createElement('div');\n",
              "          docLink.innerHTML = docLinkHtml;\n",
              "          element.appendChild(docLink);\n",
              "        }\n",
              "      </script>\n",
              "    </div>\n",
              "  </div>\n",
              "  "
            ]
          },
          "metadata": {},
          "execution_count": 178
        }
      ],
      "source": [
        "crime.drop('Total', axis=1)"
      ]
    },
    {
      "cell_type": "markdown",
      "id": "218ea4cc",
      "metadata": {
        "id": "218ea4cc"
      },
      "source": [
        "### Step 8. Group the year by decades and sum the values\n",
        "\n",
        "#### Pay attention to the Population column number, summing this column is a mistake"
      ]
    },
    {
      "cell_type": "code",
      "execution_count": null,
      "id": "614d78e5",
      "metadata": {
        "id": "614d78e5",
        "scrolled": true,
        "outputId": "e958d70f-f68e-4ba2-c679-2f0bb349ad60",
        "colab": {
          "base_uri": "https://localhost:8080/"
        }
      },
      "outputs": [
        {
          "output_type": "stream",
          "name": "stdout",
          "text": [
            "       Violent   Property  Murder  Forcible_Rape  Robbery  Aggravated_assault  \\\n",
            "Year                                                                            \n",
            "1960   4134930   45160900  106180         236720  1633510             2158520   \n",
            "1970   9607930   91383800  192230         554570  4159020             4702120   \n",
            "1980  14074328  117048900  206439         865639  5383109             7619130   \n",
            "1990  17527048  119053499  211664         998827  5748930            10568963   \n",
            "2000  13968056  100944369  163068         922499  4230366             8652124   \n",
            "2010   6072017   44095950   72867         421059  1749809             3764142   \n",
            "\n",
            "      Burglary  Larceny_Theft  Vehicle_Theft  \n",
            "Year                                          \n",
            "1960  13321100       26547700        5292100  \n",
            "1970  28486000       53157800        9739900  \n",
            "1980  33073494       72040253       11935411  \n",
            "1990  26750015       77679366       14624418  \n",
            "2000  21565176       67970291       11412834  \n",
            "2010  10125170       30401698        3569080  \n"
          ]
        }
      ],
      "source": [
        "decade_crime = crime.groupby((crime['Year'].dt.year // 10) * 10)[[ 'Violent', 'Property', 'Murder', 'Forcible_Rape', 'Robbery', 'Aggravated_assault', 'Burglary', 'Larceny_Theft', 'Vehicle_Theft']].agg('sum')\n",
        "print(decade_crime)"
      ]
    },
    {
      "cell_type": "markdown",
      "id": "0558e87e",
      "metadata": {
        "id": "0558e87e"
      },
      "source": [
        "### Step 9. What is the most dangerous decade to live in the US?"
      ]
    },
    {
      "cell_type": "code",
      "execution_count": null,
      "id": "12d8aa07",
      "metadata": {
        "id": "12d8aa07",
        "outputId": "223e61c3-808d-4076-e3e9-fcc7f14b7679",
        "colab": {
          "base_uri": "https://localhost:8080/"
        }
      },
      "outputs": [
        {
          "output_type": "stream",
          "name": "stdout",
          "text": [
            "1990\n"
          ]
        }
      ],
      "source": [
        "total_crimes = decade_crime.sum(axis=1)\n",
        "print(total_crimes.idxmax())"
      ]
    },
    {
      "cell_type": "markdown",
      "id": "0f788d9d",
      "metadata": {
        "id": "0f788d9d"
      },
      "source": [
        "## Section 5: Merge"
      ]
    },
    {
      "cell_type": "markdown",
      "id": "be4a96db",
      "metadata": {
        "id": "be4a96db"
      },
      "source": [
        "### Step 1. Import the necessary libraries"
      ]
    },
    {
      "cell_type": "code",
      "execution_count": null,
      "id": "f5f41559",
      "metadata": {
        "id": "f5f41559"
      },
      "outputs": [],
      "source": [
        "import pandas as pd\n"
      ]
    },
    {
      "cell_type": "markdown",
      "id": "d3e9fe0a",
      "metadata": {
        "id": "d3e9fe0a"
      },
      "source": [
        "### Step 2. Create the 3 DataFrames based on the following raw data"
      ]
    },
    {
      "cell_type": "code",
      "execution_count": null,
      "id": "e821cbfa",
      "metadata": {
        "collapsed": true,
        "id": "e821cbfa"
      },
      "outputs": [],
      "source": [
        "raw_data_1 = {\n",
        "        'subject_id': ['1', '2', '3', '4', '5'],\n",
        "        'first_name': ['Alex', 'Amy', 'Allen', 'Alice', 'Ayoung'], \n",
        "        'last_name': ['Anderson', 'Ackerman', 'Ali', 'Aoni', 'Atiches']}\n",
        "\n",
        "raw_data_2 = {\n",
        "        'subject_id': ['4', '5', '6', '7', '8'],\n",
        "        'first_name': ['Billy', 'Brian', 'Bran', 'Bryce', 'Betty'], \n",
        "        'last_name': ['Bonder', 'Black', 'Balwner', 'Brice', 'Btisan']}\n",
        "\n",
        "raw_data_3 = {\n",
        "        'subject_id': ['1', '2', '3', '4', '5', '7', '8', '9', '10', '11'],\n",
        "        'test_id': [51, 15, 15, 61, 16, 14, 15, 1, 61, 16]}"
      ]
    },
    {
      "cell_type": "markdown",
      "id": "18fe3342",
      "metadata": {
        "id": "18fe3342"
      },
      "source": [
        "### Step 3. Assign each to a variable called data1, data2, data3"
      ]
    },
    {
      "cell_type": "code",
      "execution_count": null,
      "id": "90da0468",
      "metadata": {
        "id": "90da0468"
      },
      "outputs": [],
      "source": [
        "data1 = pd.DataFrame(raw_data_1)\n",
        "data2 = pd.DataFrame(raw_data_2)\n",
        "data3 = pd.DataFrame(raw_data_3)"
      ]
    },
    {
      "cell_type": "markdown",
      "id": "3b793c7d",
      "metadata": {
        "id": "3b793c7d"
      },
      "source": [
        "### Step 4. Join the two dataframes along rows and assign all_data"
      ]
    },
    {
      "cell_type": "code",
      "execution_count": null,
      "id": "41fdbc61",
      "metadata": {
        "id": "41fdbc61",
        "outputId": "11046eea-02d1-4417-c322-a20de6b9f68e",
        "colab": {
          "base_uri": "https://localhost:8080/"
        }
      },
      "outputs": [
        {
          "output_type": "stream",
          "name": "stdout",
          "text": [
            "  subject_id first_name last_name\n",
            "0          1       Alex  Anderson\n",
            "1          2        Amy  Ackerman\n",
            "2          3      Allen       Ali\n",
            "3          4      Alice      Aoni\n",
            "4          5     Ayoung   Atiches\n",
            "0          4      Billy    Bonder\n",
            "1          5      Brian     Black\n",
            "2          6       Bran   Balwner\n",
            "3          7      Bryce     Brice\n",
            "4          8      Betty    Btisan\n"
          ]
        }
      ],
      "source": [
        "all_data = pd.concat([data1, data2])\n",
        "print(all_data)"
      ]
    },
    {
      "cell_type": "markdown",
      "id": "fc8c6f86",
      "metadata": {
        "id": "fc8c6f86"
      },
      "source": [
        "### Step 5. Join the two dataframes along columns and assing to all_data_col"
      ]
    },
    {
      "cell_type": "code",
      "execution_count": null,
      "id": "41459117",
      "metadata": {
        "id": "41459117",
        "outputId": "47501c15-6fff-419b-8ebd-855bb045a0aa",
        "colab": {
          "base_uri": "https://localhost:8080/"
        }
      },
      "outputs": [
        {
          "output_type": "stream",
          "name": "stdout",
          "text": [
            "  subject_id first_name_x last_name_x first_name_y last_name_y\n",
            "0          4        Alice        Aoni        Billy      Bonder\n",
            "1          5       Ayoung     Atiches        Brian       Black\n"
          ]
        }
      ],
      "source": [
        "all_data_col = pd.merge(data1, data2, on='subject_id')\n",
        "print(all_data_col)"
      ]
    },
    {
      "cell_type": "markdown",
      "id": "9f09f1c3",
      "metadata": {
        "id": "9f09f1c3"
      },
      "source": [
        "### Step 6. Print data3"
      ]
    },
    {
      "cell_type": "code",
      "execution_count": null,
      "id": "2cea8f6e",
      "metadata": {
        "id": "2cea8f6e",
        "outputId": "9887cd4f-aa14-481f-f3cf-1bf7a0021212",
        "colab": {
          "base_uri": "https://localhost:8080/"
        }
      },
      "outputs": [
        {
          "output_type": "stream",
          "name": "stdout",
          "text": [
            "  subject_id  test_id\n",
            "0          1       51\n",
            "1          2       15\n",
            "2          3       15\n",
            "3          4       61\n",
            "4          5       16\n",
            "5          7       14\n",
            "6          8       15\n",
            "7          9        1\n",
            "8         10       61\n",
            "9         11       16\n"
          ]
        }
      ],
      "source": [
        "print(data3)"
      ]
    },
    {
      "cell_type": "markdown",
      "id": "ac4b35a7",
      "metadata": {
        "id": "ac4b35a7"
      },
      "source": [
        "### Step 7. Merge all_data and data3 along the subject_id value"
      ]
    },
    {
      "cell_type": "code",
      "execution_count": null,
      "id": "21f2115e",
      "metadata": {
        "id": "21f2115e",
        "outputId": "1c89f0fc-83c5-4679-c961-106c12367770",
        "colab": {
          "base_uri": "https://localhost:8080/"
        }
      },
      "outputs": [
        {
          "output_type": "stream",
          "name": "stdout",
          "text": [
            "  subject_id first_name last_name  test_id\n",
            "0          1       Alex  Anderson       51\n",
            "1          2        Amy  Ackerman       15\n",
            "2          3      Allen       Ali       15\n",
            "3          4      Alice      Aoni       61\n",
            "4          4      Billy    Bonder       61\n",
            "5          5     Ayoung   Atiches       16\n",
            "6          5      Brian     Black       16\n",
            "7          7      Bryce     Brice       14\n",
            "8          8      Betty    Btisan       15\n"
          ]
        }
      ],
      "source": [
        "merged_df = pd.merge(all_data, data3, on='subject_id')\n",
        "print(merged_df)"
      ]
    },
    {
      "cell_type": "markdown",
      "id": "12c4da3e",
      "metadata": {
        "id": "12c4da3e"
      },
      "source": [
        "### Step 8. Merge only the data that has the same 'subject_id' on both data1 and data2"
      ]
    },
    {
      "cell_type": "code",
      "execution_count": null,
      "id": "db6200fe",
      "metadata": {
        "id": "db6200fe",
        "outputId": "4909b273-ebd5-460f-882c-137098af9626",
        "colab": {
          "base_uri": "https://localhost:8080/"
        }
      },
      "outputs": [
        {
          "output_type": "stream",
          "name": "stdout",
          "text": [
            "  subject_id first_name_x last_name_x first_name_y last_name_y\n",
            "0          4        Alice        Aoni        Billy      Bonder\n",
            "1          5       Ayoung     Atiches        Brian       Black\n"
          ]
        }
      ],
      "source": [
        "merged_df = pd.merge(data1, data2, on='subject_id', how='inner')\n",
        "print(merged_df)"
      ]
    },
    {
      "cell_type": "markdown",
      "id": "b3105684",
      "metadata": {
        "id": "b3105684"
      },
      "source": [
        "### Step 9. Merge all values in data1 and data2, with matching records from both sides where available."
      ]
    },
    {
      "cell_type": "code",
      "execution_count": null,
      "id": "a6bfa0e9",
      "metadata": {
        "id": "a6bfa0e9",
        "outputId": "0c127a64-cc58-4c3f-a248-53add4820ef0",
        "colab": {
          "base_uri": "https://localhost:8080/"
        }
      },
      "outputs": [
        {
          "output_type": "stream",
          "name": "stdout",
          "text": [
            "  subject_id first_name_x last_name_x first_name_y last_name_y\n",
            "0          1         Alex    Anderson          NaN         NaN\n",
            "1          2          Amy    Ackerman          NaN         NaN\n",
            "2          3        Allen         Ali          NaN         NaN\n",
            "3          4        Alice        Aoni        Billy      Bonder\n",
            "4          5       Ayoung     Atiches        Brian       Black\n",
            "5          6          NaN         NaN         Bran     Balwner\n",
            "6          7          NaN         NaN        Bryce       Brice\n",
            "7          8          NaN         NaN        Betty      Btisan\n"
          ]
        }
      ],
      "source": [
        "merged_df = pd.merge(data1, data2, on='subject_id', how='outer')\n",
        "print(merged_df)"
      ]
    },
    {
      "cell_type": "markdown",
      "id": "f37cc51a",
      "metadata": {
        "id": "f37cc51a"
      },
      "source": [
        "## Section 6: Stats"
      ]
    },
    {
      "cell_type": "markdown",
      "id": "7e1f46ce",
      "metadata": {
        "id": "7e1f46ce"
      },
      "source": [
        "### Introduction:\n",
        "\n",
        "The data have been modified to contain some missing values, identified by NaN.  \n",
        "Using pandas should make this exercise\n",
        "easier, in particular for the bonus question.\n",
        "\n",
        "You should be able to perform all of these operations without using\n",
        "a for loop or other looping construct.\n",
        "\n",
        "\n",
        "1. The data in 'wind.data' has the following format:"
      ]
    },
    {
      "cell_type": "code",
      "execution_count": null,
      "id": "b8473328",
      "metadata": {
        "id": "b8473328",
        "outputId": "38ecaae6-d811-4c06-a9e0-07d2852a55b0",
        "colab": {
          "base_uri": "https://localhost:8080/",
          "height": 55
        }
      },
      "outputs": [
        {
          "output_type": "execute_result",
          "data": {
            "text/plain": [
              "'\\nYr Mo Dy   RPT   VAL   ROS   KIL   SHA   BIR   DUB   CLA   MUL   CLO   BEL   MAL\\n61  1  1 15.04 14.96 13.17  9.29   NaN  9.87 13.67 10.25 10.83 12.58 18.50 15.04\\n61  1  2 14.71   NaN 10.83  6.50 12.62  7.67 11.50 10.04  9.79  9.67 17.54 13.83\\n61  1  3 18.50 16.88 12.33 10.13 11.17  6.17 11.25   NaN  8.50  7.67 12.75 12.71\\n'"
            ],
            "application/vnd.google.colaboratory.intrinsic+json": {
              "type": "string"
            }
          },
          "metadata": {},
          "execution_count": 190
        }
      ],
      "source": [
        "\"\"\"\n",
        "Yr Mo Dy   RPT   VAL   ROS   KIL   SHA   BIR   DUB   CLA   MUL   CLO   BEL   MAL\n",
        "61  1  1 15.04 14.96 13.17  9.29   NaN  9.87 13.67 10.25 10.83 12.58 18.50 15.04\n",
        "61  1  2 14.71   NaN 10.83  6.50 12.62  7.67 11.50 10.04  9.79  9.67 17.54 13.83\n",
        "61  1  3 18.50 16.88 12.33 10.13 11.17  6.17 11.25   NaN  8.50  7.67 12.75 12.71\n",
        "\"\"\""
      ]
    },
    {
      "cell_type": "markdown",
      "id": "c6498c2f",
      "metadata": {
        "id": "c6498c2f"
      },
      "source": [
        "   The first three columns are year, month and day.  The\n",
        "   remaining 12 columns are average windspeeds in knots at 12\n",
        "   locations in Ireland on that day.   \n",
        "\n",
        "   More information about the dataset go [here](wind.desc)."
      ]
    },
    {
      "cell_type": "markdown",
      "id": "c8dfa894",
      "metadata": {
        "id": "c8dfa894"
      },
      "source": [
        "### Step 1. Import the necessary libraries"
      ]
    },
    {
      "cell_type": "code",
      "execution_count": null,
      "id": "651c1fe9",
      "metadata": {
        "id": "651c1fe9"
      },
      "outputs": [],
      "source": [
        "import pandas as pd\n",
        "url = 'https://raw.githubusercontent.com/guipsamora/pandas_exercises/master/06_Stats/Wind_Stats/wind.data'"
      ]
    },
    {
      "cell_type": "markdown",
      "id": "75ea3454",
      "metadata": {
        "id": "75ea3454"
      },
      "source": [
        "### Step 2. Import the dataset from this [address](https://raw.githubusercontent.com/guipsamora/pandas_exercises/master/06_Stats/Wind_Stats/wind.data)"
      ]
    },
    {
      "cell_type": "markdown",
      "id": "30ef3fe0",
      "metadata": {
        "id": "30ef3fe0"
      },
      "source": [
        "### Step 3. Assign it to a variable called data and replace the first 3 columns by a proper datetime index."
      ]
    },
    {
      "cell_type": "code",
      "execution_count": null,
      "id": "838f1f8c",
      "metadata": {
        "id": "838f1f8c"
      },
      "outputs": [],
      "source": [
        "data = pd.read_csv(url, delim_whitespace=True)\n",
        "data[\"date\"] = data[\"Yr\"].astype(str) + \"/\" + data[\"Mo\"].astype(str) + \"/\" + data[\"Dy\"].astype(str)\n",
        "date_index = pd.to_datetime(data[\"date\"], format='%y/%m/%d')\n",
        "data = data.set_index(date_index)\n",
        "data = data.drop(['Yr', 'Mo', 'Dy'], axis=1)\n"
      ]
    },
    {
      "cell_type": "markdown",
      "id": "8ef2ebcb",
      "metadata": {
        "id": "8ef2ebcb"
      },
      "source": [
        "### Step 4. Year 2061? Do we really have data from this year? Create a function to fix it and apply it."
      ]
    },
    {
      "cell_type": "code",
      "execution_count": null,
      "id": "6626a513",
      "metadata": {
        "id": "6626a513"
      },
      "outputs": [],
      "source": [
        "def fix_year_index(df):\n",
        "    df.index = pd.to_datetime(df.index, format='%y-%m-%d')\n",
        "    df.index = df.index.where(df.index.year <= 2060, df.index - pd.DateOffset(years=100))\n",
        "    return df\n",
        "\n",
        "data = fix_year_index(data)"
      ]
    },
    {
      "cell_type": "markdown",
      "id": "e3c19cc5",
      "metadata": {
        "id": "e3c19cc5"
      },
      "source": [
        "### Step 5. Set the right dates as the index. Pay attention at the data type, it should be datetime64[ns]."
      ]
    },
    {
      "cell_type": "code",
      "execution_count": null,
      "id": "b169ca16",
      "metadata": {
        "id": "b169ca16",
        "outputId": "b6518a66-bfb8-42eb-8309-1c3ee3a51e43",
        "colab": {
          "base_uri": "https://localhost:8080/",
          "height": 455
        }
      },
      "outputs": [
        {
          "output_type": "execute_result",
          "data": {
            "text/plain": [
              "              RPT    VAL    ROS    KIL    SHA    BIR    DUB    CLA    MUL  \\\n",
              "date                                                                        \n",
              "1961-01-01  15.04  14.96  13.17   9.29    NaN   9.87  13.67  10.25  10.83   \n",
              "1961-01-02  14.71    NaN  10.83   6.50  12.62   7.67  11.50  10.04   9.79   \n",
              "1961-01-03  18.50  16.88  12.33  10.13  11.17   6.17  11.25    NaN   8.50   \n",
              "1961-01-04  10.58   6.63  11.75   4.58   4.54   2.88   8.63   1.79   5.83   \n",
              "1961-01-05  13.33  13.25  11.42   6.17  10.71   8.21  11.92   6.54  10.92   \n",
              "...           ...    ...    ...    ...    ...    ...    ...    ...    ...   \n",
              "1978-12-27  17.58  16.96  17.62   8.08  13.21  11.67  14.46  15.59  14.04   \n",
              "1978-12-28  13.21   5.46  13.46   5.00   8.12   9.42  14.33  16.25  15.25   \n",
              "1978-12-29  14.00  10.29  14.42   8.71   9.71  10.54  19.17  12.46  14.50   \n",
              "1978-12-30  18.50  14.04  21.29   9.13  12.75   9.71  18.08  12.87  12.46   \n",
              "1978-12-31  20.33  17.41  27.29   9.59  12.08  10.13  19.25  11.63  11.58   \n",
              "\n",
              "              CLO    BEL    MAL      date  \n",
              "date                                       \n",
              "1961-01-01  12.58  18.50  15.04    61/1/1  \n",
              "1961-01-02   9.67  17.54  13.83    61/1/2  \n",
              "1961-01-03   7.67  12.75  12.71    61/1/3  \n",
              "1961-01-04   5.88   5.46  10.88    61/1/4  \n",
              "1961-01-05  10.34  12.92  11.83    61/1/5  \n",
              "...           ...    ...    ...       ...  \n",
              "1978-12-27  14.00  17.21  40.08  78/12/27  \n",
              "1978-12-28  18.05  21.79  41.46  78/12/28  \n",
              "1978-12-29  16.42  18.88  29.58  78/12/29  \n",
              "1978-12-30  12.12  14.67  28.79  78/12/30  \n",
              "1978-12-31  11.38  12.08  22.08  78/12/31  \n",
              "\n",
              "[6574 rows x 13 columns]"
            ],
            "text/html": [
              "\n",
              "  <div id=\"df-9f51fd1a-cc59-46c0-9e6c-f9b104158527\">\n",
              "    <div class=\"colab-df-container\">\n",
              "      <div>\n",
              "<style scoped>\n",
              "    .dataframe tbody tr th:only-of-type {\n",
              "        vertical-align: middle;\n",
              "    }\n",
              "\n",
              "    .dataframe tbody tr th {\n",
              "        vertical-align: top;\n",
              "    }\n",
              "\n",
              "    .dataframe thead th {\n",
              "        text-align: right;\n",
              "    }\n",
              "</style>\n",
              "<table border=\"1\" class=\"dataframe\">\n",
              "  <thead>\n",
              "    <tr style=\"text-align: right;\">\n",
              "      <th></th>\n",
              "      <th>RPT</th>\n",
              "      <th>VAL</th>\n",
              "      <th>ROS</th>\n",
              "      <th>KIL</th>\n",
              "      <th>SHA</th>\n",
              "      <th>BIR</th>\n",
              "      <th>DUB</th>\n",
              "      <th>CLA</th>\n",
              "      <th>MUL</th>\n",
              "      <th>CLO</th>\n",
              "      <th>BEL</th>\n",
              "      <th>MAL</th>\n",
              "      <th>date</th>\n",
              "    </tr>\n",
              "    <tr>\n",
              "      <th>date</th>\n",
              "      <th></th>\n",
              "      <th></th>\n",
              "      <th></th>\n",
              "      <th></th>\n",
              "      <th></th>\n",
              "      <th></th>\n",
              "      <th></th>\n",
              "      <th></th>\n",
              "      <th></th>\n",
              "      <th></th>\n",
              "      <th></th>\n",
              "      <th></th>\n",
              "      <th></th>\n",
              "    </tr>\n",
              "  </thead>\n",
              "  <tbody>\n",
              "    <tr>\n",
              "      <th>1961-01-01</th>\n",
              "      <td>15.04</td>\n",
              "      <td>14.96</td>\n",
              "      <td>13.17</td>\n",
              "      <td>9.29</td>\n",
              "      <td>NaN</td>\n",
              "      <td>9.87</td>\n",
              "      <td>13.67</td>\n",
              "      <td>10.25</td>\n",
              "      <td>10.83</td>\n",
              "      <td>12.58</td>\n",
              "      <td>18.50</td>\n",
              "      <td>15.04</td>\n",
              "      <td>61/1/1</td>\n",
              "    </tr>\n",
              "    <tr>\n",
              "      <th>1961-01-02</th>\n",
              "      <td>14.71</td>\n",
              "      <td>NaN</td>\n",
              "      <td>10.83</td>\n",
              "      <td>6.50</td>\n",
              "      <td>12.62</td>\n",
              "      <td>7.67</td>\n",
              "      <td>11.50</td>\n",
              "      <td>10.04</td>\n",
              "      <td>9.79</td>\n",
              "      <td>9.67</td>\n",
              "      <td>17.54</td>\n",
              "      <td>13.83</td>\n",
              "      <td>61/1/2</td>\n",
              "    </tr>\n",
              "    <tr>\n",
              "      <th>1961-01-03</th>\n",
              "      <td>18.50</td>\n",
              "      <td>16.88</td>\n",
              "      <td>12.33</td>\n",
              "      <td>10.13</td>\n",
              "      <td>11.17</td>\n",
              "      <td>6.17</td>\n",
              "      <td>11.25</td>\n",
              "      <td>NaN</td>\n",
              "      <td>8.50</td>\n",
              "      <td>7.67</td>\n",
              "      <td>12.75</td>\n",
              "      <td>12.71</td>\n",
              "      <td>61/1/3</td>\n",
              "    </tr>\n",
              "    <tr>\n",
              "      <th>1961-01-04</th>\n",
              "      <td>10.58</td>\n",
              "      <td>6.63</td>\n",
              "      <td>11.75</td>\n",
              "      <td>4.58</td>\n",
              "      <td>4.54</td>\n",
              "      <td>2.88</td>\n",
              "      <td>8.63</td>\n",
              "      <td>1.79</td>\n",
              "      <td>5.83</td>\n",
              "      <td>5.88</td>\n",
              "      <td>5.46</td>\n",
              "      <td>10.88</td>\n",
              "      <td>61/1/4</td>\n",
              "    </tr>\n",
              "    <tr>\n",
              "      <th>1961-01-05</th>\n",
              "      <td>13.33</td>\n",
              "      <td>13.25</td>\n",
              "      <td>11.42</td>\n",
              "      <td>6.17</td>\n",
              "      <td>10.71</td>\n",
              "      <td>8.21</td>\n",
              "      <td>11.92</td>\n",
              "      <td>6.54</td>\n",
              "      <td>10.92</td>\n",
              "      <td>10.34</td>\n",
              "      <td>12.92</td>\n",
              "      <td>11.83</td>\n",
              "      <td>61/1/5</td>\n",
              "    </tr>\n",
              "    <tr>\n",
              "      <th>...</th>\n",
              "      <td>...</td>\n",
              "      <td>...</td>\n",
              "      <td>...</td>\n",
              "      <td>...</td>\n",
              "      <td>...</td>\n",
              "      <td>...</td>\n",
              "      <td>...</td>\n",
              "      <td>...</td>\n",
              "      <td>...</td>\n",
              "      <td>...</td>\n",
              "      <td>...</td>\n",
              "      <td>...</td>\n",
              "      <td>...</td>\n",
              "    </tr>\n",
              "    <tr>\n",
              "      <th>1978-12-27</th>\n",
              "      <td>17.58</td>\n",
              "      <td>16.96</td>\n",
              "      <td>17.62</td>\n",
              "      <td>8.08</td>\n",
              "      <td>13.21</td>\n",
              "      <td>11.67</td>\n",
              "      <td>14.46</td>\n",
              "      <td>15.59</td>\n",
              "      <td>14.04</td>\n",
              "      <td>14.00</td>\n",
              "      <td>17.21</td>\n",
              "      <td>40.08</td>\n",
              "      <td>78/12/27</td>\n",
              "    </tr>\n",
              "    <tr>\n",
              "      <th>1978-12-28</th>\n",
              "      <td>13.21</td>\n",
              "      <td>5.46</td>\n",
              "      <td>13.46</td>\n",
              "      <td>5.00</td>\n",
              "      <td>8.12</td>\n",
              "      <td>9.42</td>\n",
              "      <td>14.33</td>\n",
              "      <td>16.25</td>\n",
              "      <td>15.25</td>\n",
              "      <td>18.05</td>\n",
              "      <td>21.79</td>\n",
              "      <td>41.46</td>\n",
              "      <td>78/12/28</td>\n",
              "    </tr>\n",
              "    <tr>\n",
              "      <th>1978-12-29</th>\n",
              "      <td>14.00</td>\n",
              "      <td>10.29</td>\n",
              "      <td>14.42</td>\n",
              "      <td>8.71</td>\n",
              "      <td>9.71</td>\n",
              "      <td>10.54</td>\n",
              "      <td>19.17</td>\n",
              "      <td>12.46</td>\n",
              "      <td>14.50</td>\n",
              "      <td>16.42</td>\n",
              "      <td>18.88</td>\n",
              "      <td>29.58</td>\n",
              "      <td>78/12/29</td>\n",
              "    </tr>\n",
              "    <tr>\n",
              "      <th>1978-12-30</th>\n",
              "      <td>18.50</td>\n",
              "      <td>14.04</td>\n",
              "      <td>21.29</td>\n",
              "      <td>9.13</td>\n",
              "      <td>12.75</td>\n",
              "      <td>9.71</td>\n",
              "      <td>18.08</td>\n",
              "      <td>12.87</td>\n",
              "      <td>12.46</td>\n",
              "      <td>12.12</td>\n",
              "      <td>14.67</td>\n",
              "      <td>28.79</td>\n",
              "      <td>78/12/30</td>\n",
              "    </tr>\n",
              "    <tr>\n",
              "      <th>1978-12-31</th>\n",
              "      <td>20.33</td>\n",
              "      <td>17.41</td>\n",
              "      <td>27.29</td>\n",
              "      <td>9.59</td>\n",
              "      <td>12.08</td>\n",
              "      <td>10.13</td>\n",
              "      <td>19.25</td>\n",
              "      <td>11.63</td>\n",
              "      <td>11.58</td>\n",
              "      <td>11.38</td>\n",
              "      <td>12.08</td>\n",
              "      <td>22.08</td>\n",
              "      <td>78/12/31</td>\n",
              "    </tr>\n",
              "  </tbody>\n",
              "</table>\n",
              "<p>6574 rows × 13 columns</p>\n",
              "</div>\n",
              "      <button class=\"colab-df-convert\" onclick=\"convertToInteractive('df-9f51fd1a-cc59-46c0-9e6c-f9b104158527')\"\n",
              "              title=\"Convert this dataframe to an interactive table.\"\n",
              "              style=\"display:none;\">\n",
              "        \n",
              "  <svg xmlns=\"http://www.w3.org/2000/svg\" height=\"24px\"viewBox=\"0 0 24 24\"\n",
              "       width=\"24px\">\n",
              "    <path d=\"M0 0h24v24H0V0z\" fill=\"none\"/>\n",
              "    <path d=\"M18.56 5.44l.94 2.06.94-2.06 2.06-.94-2.06-.94-.94-2.06-.94 2.06-2.06.94zm-11 1L8.5 8.5l.94-2.06 2.06-.94-2.06-.94L8.5 2.5l-.94 2.06-2.06.94zm10 10l.94 2.06.94-2.06 2.06-.94-2.06-.94-.94-2.06-.94 2.06-2.06.94z\"/><path d=\"M17.41 7.96l-1.37-1.37c-.4-.4-.92-.59-1.43-.59-.52 0-1.04.2-1.43.59L10.3 9.45l-7.72 7.72c-.78.78-.78 2.05 0 2.83L4 21.41c.39.39.9.59 1.41.59.51 0 1.02-.2 1.41-.59l7.78-7.78 2.81-2.81c.8-.78.8-2.07 0-2.86zM5.41 20L4 18.59l7.72-7.72 1.47 1.35L5.41 20z\"/>\n",
              "  </svg>\n",
              "      </button>\n",
              "      \n",
              "  <style>\n",
              "    .colab-df-container {\n",
              "      display:flex;\n",
              "      flex-wrap:wrap;\n",
              "      gap: 12px;\n",
              "    }\n",
              "\n",
              "    .colab-df-convert {\n",
              "      background-color: #E8F0FE;\n",
              "      border: none;\n",
              "      border-radius: 50%;\n",
              "      cursor: pointer;\n",
              "      display: none;\n",
              "      fill: #1967D2;\n",
              "      height: 32px;\n",
              "      padding: 0 0 0 0;\n",
              "      width: 32px;\n",
              "    }\n",
              "\n",
              "    .colab-df-convert:hover {\n",
              "      background-color: #E2EBFA;\n",
              "      box-shadow: 0px 1px 2px rgba(60, 64, 67, 0.3), 0px 1px 3px 1px rgba(60, 64, 67, 0.15);\n",
              "      fill: #174EA6;\n",
              "    }\n",
              "\n",
              "    [theme=dark] .colab-df-convert {\n",
              "      background-color: #3B4455;\n",
              "      fill: #D2E3FC;\n",
              "    }\n",
              "\n",
              "    [theme=dark] .colab-df-convert:hover {\n",
              "      background-color: #434B5C;\n",
              "      box-shadow: 0px 1px 3px 1px rgba(0, 0, 0, 0.15);\n",
              "      filter: drop-shadow(0px 1px 2px rgba(0, 0, 0, 0.3));\n",
              "      fill: #FFFFFF;\n",
              "    }\n",
              "  </style>\n",
              "\n",
              "      <script>\n",
              "        const buttonEl =\n",
              "          document.querySelector('#df-9f51fd1a-cc59-46c0-9e6c-f9b104158527 button.colab-df-convert');\n",
              "        buttonEl.style.display =\n",
              "          google.colab.kernel.accessAllowed ? 'block' : 'none';\n",
              "\n",
              "        async function convertToInteractive(key) {\n",
              "          const element = document.querySelector('#df-9f51fd1a-cc59-46c0-9e6c-f9b104158527');\n",
              "          const dataTable =\n",
              "            await google.colab.kernel.invokeFunction('convertToInteractive',\n",
              "                                                     [key], {});\n",
              "          if (!dataTable) return;\n",
              "\n",
              "          const docLinkHtml = 'Like what you see? Visit the ' +\n",
              "            '<a target=\"_blank\" href=https://colab.research.google.com/notebooks/data_table.ipynb>data table notebook</a>'\n",
              "            + ' to learn more about interactive tables.';\n",
              "          element.innerHTML = '';\n",
              "          dataTable['output_type'] = 'display_data';\n",
              "          await google.colab.output.renderOutput(dataTable, element);\n",
              "          const docLink = document.createElement('div');\n",
              "          docLink.innerHTML = docLinkHtml;\n",
              "          element.appendChild(docLink);\n",
              "        }\n",
              "      </script>\n",
              "    </div>\n",
              "  </div>\n",
              "  "
            ]
          },
          "metadata": {},
          "execution_count": 194
        }
      ],
      "source": [
        "data"
      ]
    },
    {
      "cell_type": "markdown",
      "id": "906915e6",
      "metadata": {
        "id": "906915e6"
      },
      "source": [
        "### Step 6. Compute how many values are missing for each location over the entire record.  \n",
        "#### They should be ignored in all calculations below. "
      ]
    },
    {
      "cell_type": "code",
      "execution_count": null,
      "id": "14aee622",
      "metadata": {
        "id": "14aee622",
        "outputId": "b1fc79c4-76bc-4147-b73c-34d89f9936d0",
        "colab": {
          "base_uri": "https://localhost:8080/"
        }
      },
      "outputs": [
        {
          "output_type": "stream",
          "name": "stdout",
          "text": [
            "31\n"
          ]
        }
      ],
      "source": [
        "missing_counts = data.isnull().sum().sum()\n",
        "print(missing_counts)"
      ]
    },
    {
      "cell_type": "markdown",
      "id": "6aa712c4",
      "metadata": {
        "id": "6aa712c4"
      },
      "source": [
        "### Step 7. Compute how many non-missing values there are in total."
      ]
    },
    {
      "cell_type": "code",
      "execution_count": null,
      "id": "fbcbeb24",
      "metadata": {
        "id": "fbcbeb24",
        "scrolled": true,
        "outputId": "44728294-d5bf-45fa-975b-3a44e32ad7d0",
        "colab": {
          "base_uri": "https://localhost:8080/"
        }
      },
      "outputs": [
        {
          "output_type": "stream",
          "name": "stdout",
          "text": [
            "85431\n"
          ]
        }
      ],
      "source": [
        "print(data.count().sum())"
      ]
    },
    {
      "cell_type": "markdown",
      "id": "483b349d",
      "metadata": {
        "id": "483b349d"
      },
      "source": [
        "### Step 8. Calculate the mean windspeeds of the windspeeds over all the locations and all the times.\n",
        "#### A single number for the entire dataset."
      ]
    },
    {
      "cell_type": "code",
      "execution_count": null,
      "id": "a2a230e0",
      "metadata": {
        "id": "a2a230e0",
        "outputId": "0b8a14a9-1cea-4db8-95a6-a2e8443eb804",
        "colab": {
          "base_uri": "https://localhost:8080/"
        }
      },
      "outputs": [
        {
          "output_type": "stream",
          "name": "stdout",
          "text": [
            "10.227982360836938\n"
          ]
        },
        {
          "output_type": "stream",
          "name": "stderr",
          "text": [
            "<ipython-input-197-23a8ced61425>:1: FutureWarning: Dropping of nuisance columns in DataFrame reductions (with 'numeric_only=None') is deprecated; in a future version this will raise TypeError.  Select only valid columns before calling the reduction.\n",
            "  print(data.mean().mean())\n"
          ]
        }
      ],
      "source": [
        "print(data.mean().mean())"
      ]
    },
    {
      "cell_type": "markdown",
      "id": "8c9b33d4",
      "metadata": {
        "id": "8c9b33d4"
      },
      "source": [
        "    ### Step 9. Create a DataFrame called loc_stats and calculate the min, max and mean windspeeds and standard deviations of the windspeeds at each location over all the days \n",
        "\n",
        "    #### A different set of numbers for each location."
      ]
    },
    {
      "cell_type": "code",
      "execution_count": null,
      "id": "51d75d2b",
      "metadata": {
        "id": "51d75d2b",
        "outputId": "0cac58ac-383b-4386-8792-06f5e3230dba",
        "colab": {
          "base_uri": "https://localhost:8080/",
          "height": 425
        }
      },
      "outputs": [
        {
          "output_type": "execute_result",
          "data": {
            "text/plain": [
              "      min    max       mean       std\n",
              "RPT  0.67  35.80  12.362987  5.618413\n",
              "VAL  0.21  33.37  10.644314  5.267356\n",
              "ROS  1.50  33.84  11.660526  5.008450\n",
              "KIL  0.00  28.46   6.306468  3.605811\n",
              "SHA  0.13  37.54  10.455834  4.936125\n",
              "BIR  0.00  26.16   7.092254  3.968683\n",
              "DUB  0.00  30.37   9.797343  4.977555\n",
              "CLA  0.00  31.08   8.495053  4.499449\n",
              "MUL  0.00  25.88   8.493590  4.166872\n",
              "CLO  0.04  28.21   8.707332  4.503954\n",
              "BEL  0.13  42.38  13.121007  5.835037\n",
              "MAL  0.67  42.54  15.599079  6.699794"
            ],
            "text/html": [
              "\n",
              "  <div id=\"df-cda4d7ac-42b7-4c9b-a327-aae53a6da116\">\n",
              "    <div class=\"colab-df-container\">\n",
              "      <div>\n",
              "<style scoped>\n",
              "    .dataframe tbody tr th:only-of-type {\n",
              "        vertical-align: middle;\n",
              "    }\n",
              "\n",
              "    .dataframe tbody tr th {\n",
              "        vertical-align: top;\n",
              "    }\n",
              "\n",
              "    .dataframe thead th {\n",
              "        text-align: right;\n",
              "    }\n",
              "</style>\n",
              "<table border=\"1\" class=\"dataframe\">\n",
              "  <thead>\n",
              "    <tr style=\"text-align: right;\">\n",
              "      <th></th>\n",
              "      <th>min</th>\n",
              "      <th>max</th>\n",
              "      <th>mean</th>\n",
              "      <th>std</th>\n",
              "    </tr>\n",
              "  </thead>\n",
              "  <tbody>\n",
              "    <tr>\n",
              "      <th>RPT</th>\n",
              "      <td>0.67</td>\n",
              "      <td>35.80</td>\n",
              "      <td>12.362987</td>\n",
              "      <td>5.618413</td>\n",
              "    </tr>\n",
              "    <tr>\n",
              "      <th>VAL</th>\n",
              "      <td>0.21</td>\n",
              "      <td>33.37</td>\n",
              "      <td>10.644314</td>\n",
              "      <td>5.267356</td>\n",
              "    </tr>\n",
              "    <tr>\n",
              "      <th>ROS</th>\n",
              "      <td>1.50</td>\n",
              "      <td>33.84</td>\n",
              "      <td>11.660526</td>\n",
              "      <td>5.008450</td>\n",
              "    </tr>\n",
              "    <tr>\n",
              "      <th>KIL</th>\n",
              "      <td>0.00</td>\n",
              "      <td>28.46</td>\n",
              "      <td>6.306468</td>\n",
              "      <td>3.605811</td>\n",
              "    </tr>\n",
              "    <tr>\n",
              "      <th>SHA</th>\n",
              "      <td>0.13</td>\n",
              "      <td>37.54</td>\n",
              "      <td>10.455834</td>\n",
              "      <td>4.936125</td>\n",
              "    </tr>\n",
              "    <tr>\n",
              "      <th>BIR</th>\n",
              "      <td>0.00</td>\n",
              "      <td>26.16</td>\n",
              "      <td>7.092254</td>\n",
              "      <td>3.968683</td>\n",
              "    </tr>\n",
              "    <tr>\n",
              "      <th>DUB</th>\n",
              "      <td>0.00</td>\n",
              "      <td>30.37</td>\n",
              "      <td>9.797343</td>\n",
              "      <td>4.977555</td>\n",
              "    </tr>\n",
              "    <tr>\n",
              "      <th>CLA</th>\n",
              "      <td>0.00</td>\n",
              "      <td>31.08</td>\n",
              "      <td>8.495053</td>\n",
              "      <td>4.499449</td>\n",
              "    </tr>\n",
              "    <tr>\n",
              "      <th>MUL</th>\n",
              "      <td>0.00</td>\n",
              "      <td>25.88</td>\n",
              "      <td>8.493590</td>\n",
              "      <td>4.166872</td>\n",
              "    </tr>\n",
              "    <tr>\n",
              "      <th>CLO</th>\n",
              "      <td>0.04</td>\n",
              "      <td>28.21</td>\n",
              "      <td>8.707332</td>\n",
              "      <td>4.503954</td>\n",
              "    </tr>\n",
              "    <tr>\n",
              "      <th>BEL</th>\n",
              "      <td>0.13</td>\n",
              "      <td>42.38</td>\n",
              "      <td>13.121007</td>\n",
              "      <td>5.835037</td>\n",
              "    </tr>\n",
              "    <tr>\n",
              "      <th>MAL</th>\n",
              "      <td>0.67</td>\n",
              "      <td>42.54</td>\n",
              "      <td>15.599079</td>\n",
              "      <td>6.699794</td>\n",
              "    </tr>\n",
              "  </tbody>\n",
              "</table>\n",
              "</div>\n",
              "      <button class=\"colab-df-convert\" onclick=\"convertToInteractive('df-cda4d7ac-42b7-4c9b-a327-aae53a6da116')\"\n",
              "              title=\"Convert this dataframe to an interactive table.\"\n",
              "              style=\"display:none;\">\n",
              "        \n",
              "  <svg xmlns=\"http://www.w3.org/2000/svg\" height=\"24px\"viewBox=\"0 0 24 24\"\n",
              "       width=\"24px\">\n",
              "    <path d=\"M0 0h24v24H0V0z\" fill=\"none\"/>\n",
              "    <path d=\"M18.56 5.44l.94 2.06.94-2.06 2.06-.94-2.06-.94-.94-2.06-.94 2.06-2.06.94zm-11 1L8.5 8.5l.94-2.06 2.06-.94-2.06-.94L8.5 2.5l-.94 2.06-2.06.94zm10 10l.94 2.06.94-2.06 2.06-.94-2.06-.94-.94-2.06-.94 2.06-2.06.94z\"/><path d=\"M17.41 7.96l-1.37-1.37c-.4-.4-.92-.59-1.43-.59-.52 0-1.04.2-1.43.59L10.3 9.45l-7.72 7.72c-.78.78-.78 2.05 0 2.83L4 21.41c.39.39.9.59 1.41.59.51 0 1.02-.2 1.41-.59l7.78-7.78 2.81-2.81c.8-.78.8-2.07 0-2.86zM5.41 20L4 18.59l7.72-7.72 1.47 1.35L5.41 20z\"/>\n",
              "  </svg>\n",
              "      </button>\n",
              "      \n",
              "  <style>\n",
              "    .colab-df-container {\n",
              "      display:flex;\n",
              "      flex-wrap:wrap;\n",
              "      gap: 12px;\n",
              "    }\n",
              "\n",
              "    .colab-df-convert {\n",
              "      background-color: #E8F0FE;\n",
              "      border: none;\n",
              "      border-radius: 50%;\n",
              "      cursor: pointer;\n",
              "      display: none;\n",
              "      fill: #1967D2;\n",
              "      height: 32px;\n",
              "      padding: 0 0 0 0;\n",
              "      width: 32px;\n",
              "    }\n",
              "\n",
              "    .colab-df-convert:hover {\n",
              "      background-color: #E2EBFA;\n",
              "      box-shadow: 0px 1px 2px rgba(60, 64, 67, 0.3), 0px 1px 3px 1px rgba(60, 64, 67, 0.15);\n",
              "      fill: #174EA6;\n",
              "    }\n",
              "\n",
              "    [theme=dark] .colab-df-convert {\n",
              "      background-color: #3B4455;\n",
              "      fill: #D2E3FC;\n",
              "    }\n",
              "\n",
              "    [theme=dark] .colab-df-convert:hover {\n",
              "      background-color: #434B5C;\n",
              "      box-shadow: 0px 1px 3px 1px rgba(0, 0, 0, 0.15);\n",
              "      filter: drop-shadow(0px 1px 2px rgba(0, 0, 0, 0.3));\n",
              "      fill: #FFFFFF;\n",
              "    }\n",
              "  </style>\n",
              "\n",
              "      <script>\n",
              "        const buttonEl =\n",
              "          document.querySelector('#df-cda4d7ac-42b7-4c9b-a327-aae53a6da116 button.colab-df-convert');\n",
              "        buttonEl.style.display =\n",
              "          google.colab.kernel.accessAllowed ? 'block' : 'none';\n",
              "\n",
              "        async function convertToInteractive(key) {\n",
              "          const element = document.querySelector('#df-cda4d7ac-42b7-4c9b-a327-aae53a6da116');\n",
              "          const dataTable =\n",
              "            await google.colab.kernel.invokeFunction('convertToInteractive',\n",
              "                                                     [key], {});\n",
              "          if (!dataTable) return;\n",
              "\n",
              "          const docLinkHtml = 'Like what you see? Visit the ' +\n",
              "            '<a target=\"_blank\" href=https://colab.research.google.com/notebooks/data_table.ipynb>data table notebook</a>'\n",
              "            + ' to learn more about interactive tables.';\n",
              "          element.innerHTML = '';\n",
              "          dataTable['output_type'] = 'display_data';\n",
              "          await google.colab.output.renderOutput(dataTable, element);\n",
              "          const docLink = document.createElement('div');\n",
              "          docLink.innerHTML = docLinkHtml;\n",
              "          element.appendChild(docLink);\n",
              "        }\n",
              "      </script>\n",
              "    </div>\n",
              "  </div>\n",
              "  "
            ]
          },
          "metadata": {},
          "execution_count": 198
        }
      ],
      "source": [
        "loc_stats = data.describe().transpose()[['min', 'max', 'mean', 'std']]\n",
        "loc_stats"
      ]
    },
    {
      "cell_type": "markdown",
      "id": "91e00153",
      "metadata": {
        "id": "91e00153"
      },
      "source": [
        "### Step 10. Create a DataFrame called day_stats and calculate the min, max and mean windspeed and standard deviations of the windspeeds across all the locations at each day.\n",
        "\n",
        "#### A different set of numbers for each day."
      ]
    },
    {
      "cell_type": "code",
      "execution_count": null,
      "id": "bdf6c30f",
      "metadata": {
        "id": "bdf6c30f",
        "outputId": "b2a991f2-fe81-427e-c876-cf48626f4d82",
        "colab": {
          "base_uri": "https://localhost:8080/",
          "height": 602
        }
      },
      "outputs": [
        {
          "output_type": "stream",
          "name": "stderr",
          "text": [
            "<ipython-input-199-ccd20f5224a9>:2: FutureWarning: Dropping of nuisance columns in DataFrame reductions (with 'numeric_only=None') is deprecated; in a future version this will raise TypeError.  Select only valid columns before calling the reduction.\n",
            "  day_stats['min'] = data.min(axis=1, skipna=True)\n",
            "<ipython-input-199-ccd20f5224a9>:3: FutureWarning: Dropping of nuisance columns in DataFrame reductions (with 'numeric_only=None') is deprecated; in a future version this will raise TypeError.  Select only valid columns before calling the reduction.\n",
            "  day_stats['max'] = data.max(axis=1, skipna=True)\n",
            "<ipython-input-199-ccd20f5224a9>:4: FutureWarning: Dropping of nuisance columns in DataFrame reductions (with 'numeric_only=None') is deprecated; in a future version this will raise TypeError.  Select only valid columns before calling the reduction.\n",
            "  day_stats['mean'] = data.mean(axis=1, skipna=True)\n",
            "<ipython-input-199-ccd20f5224a9>:5: FutureWarning: Dropping of nuisance columns in DataFrame reductions (with 'numeric_only=None') is deprecated; in a future version this will raise TypeError.  Select only valid columns before calling the reduction.\n",
            "  day_stats['std'] = data.std(axis=1, skipna=True)\n"
          ]
        },
        {
          "output_type": "execute_result",
          "data": {
            "text/plain": [
              "             min    max       mean       std\n",
              "date                                        \n",
              "1961-01-01  9.29  18.50  13.018182  2.808875\n",
              "1961-01-02  6.50  17.54  11.336364  3.188994\n",
              "1961-01-03  6.17  18.50  11.641818  3.681912\n",
              "1961-01-04  1.79  11.75   6.619167  3.198126\n",
              "1961-01-05  6.17  13.33  10.630000  2.445356\n",
              "...          ...    ...        ...       ...\n",
              "1978-12-27  8.08  40.08  16.708333  7.868076\n",
              "1978-12-28  5.00  41.46  15.150000  9.687857\n",
              "1978-12-29  8.71  29.58  14.890000  5.756836\n",
              "1978-12-30  9.13  28.79  15.367500  5.540437\n",
              "1978-12-31  9.59  27.29  15.402500  5.702483\n",
              "\n",
              "[6574 rows x 4 columns]"
            ],
            "text/html": [
              "\n",
              "  <div id=\"df-70e4a76e-375b-4927-8aab-c973af9acfec\">\n",
              "    <div class=\"colab-df-container\">\n",
              "      <div>\n",
              "<style scoped>\n",
              "    .dataframe tbody tr th:only-of-type {\n",
              "        vertical-align: middle;\n",
              "    }\n",
              "\n",
              "    .dataframe tbody tr th {\n",
              "        vertical-align: top;\n",
              "    }\n",
              "\n",
              "    .dataframe thead th {\n",
              "        text-align: right;\n",
              "    }\n",
              "</style>\n",
              "<table border=\"1\" class=\"dataframe\">\n",
              "  <thead>\n",
              "    <tr style=\"text-align: right;\">\n",
              "      <th></th>\n",
              "      <th>min</th>\n",
              "      <th>max</th>\n",
              "      <th>mean</th>\n",
              "      <th>std</th>\n",
              "    </tr>\n",
              "    <tr>\n",
              "      <th>date</th>\n",
              "      <th></th>\n",
              "      <th></th>\n",
              "      <th></th>\n",
              "      <th></th>\n",
              "    </tr>\n",
              "  </thead>\n",
              "  <tbody>\n",
              "    <tr>\n",
              "      <th>1961-01-01</th>\n",
              "      <td>9.29</td>\n",
              "      <td>18.50</td>\n",
              "      <td>13.018182</td>\n",
              "      <td>2.808875</td>\n",
              "    </tr>\n",
              "    <tr>\n",
              "      <th>1961-01-02</th>\n",
              "      <td>6.50</td>\n",
              "      <td>17.54</td>\n",
              "      <td>11.336364</td>\n",
              "      <td>3.188994</td>\n",
              "    </tr>\n",
              "    <tr>\n",
              "      <th>1961-01-03</th>\n",
              "      <td>6.17</td>\n",
              "      <td>18.50</td>\n",
              "      <td>11.641818</td>\n",
              "      <td>3.681912</td>\n",
              "    </tr>\n",
              "    <tr>\n",
              "      <th>1961-01-04</th>\n",
              "      <td>1.79</td>\n",
              "      <td>11.75</td>\n",
              "      <td>6.619167</td>\n",
              "      <td>3.198126</td>\n",
              "    </tr>\n",
              "    <tr>\n",
              "      <th>1961-01-05</th>\n",
              "      <td>6.17</td>\n",
              "      <td>13.33</td>\n",
              "      <td>10.630000</td>\n",
              "      <td>2.445356</td>\n",
              "    </tr>\n",
              "    <tr>\n",
              "      <th>...</th>\n",
              "      <td>...</td>\n",
              "      <td>...</td>\n",
              "      <td>...</td>\n",
              "      <td>...</td>\n",
              "    </tr>\n",
              "    <tr>\n",
              "      <th>1978-12-27</th>\n",
              "      <td>8.08</td>\n",
              "      <td>40.08</td>\n",
              "      <td>16.708333</td>\n",
              "      <td>7.868076</td>\n",
              "    </tr>\n",
              "    <tr>\n",
              "      <th>1978-12-28</th>\n",
              "      <td>5.00</td>\n",
              "      <td>41.46</td>\n",
              "      <td>15.150000</td>\n",
              "      <td>9.687857</td>\n",
              "    </tr>\n",
              "    <tr>\n",
              "      <th>1978-12-29</th>\n",
              "      <td>8.71</td>\n",
              "      <td>29.58</td>\n",
              "      <td>14.890000</td>\n",
              "      <td>5.756836</td>\n",
              "    </tr>\n",
              "    <tr>\n",
              "      <th>1978-12-30</th>\n",
              "      <td>9.13</td>\n",
              "      <td>28.79</td>\n",
              "      <td>15.367500</td>\n",
              "      <td>5.540437</td>\n",
              "    </tr>\n",
              "    <tr>\n",
              "      <th>1978-12-31</th>\n",
              "      <td>9.59</td>\n",
              "      <td>27.29</td>\n",
              "      <td>15.402500</td>\n",
              "      <td>5.702483</td>\n",
              "    </tr>\n",
              "  </tbody>\n",
              "</table>\n",
              "<p>6574 rows × 4 columns</p>\n",
              "</div>\n",
              "      <button class=\"colab-df-convert\" onclick=\"convertToInteractive('df-70e4a76e-375b-4927-8aab-c973af9acfec')\"\n",
              "              title=\"Convert this dataframe to an interactive table.\"\n",
              "              style=\"display:none;\">\n",
              "        \n",
              "  <svg xmlns=\"http://www.w3.org/2000/svg\" height=\"24px\"viewBox=\"0 0 24 24\"\n",
              "       width=\"24px\">\n",
              "    <path d=\"M0 0h24v24H0V0z\" fill=\"none\"/>\n",
              "    <path d=\"M18.56 5.44l.94 2.06.94-2.06 2.06-.94-2.06-.94-.94-2.06-.94 2.06-2.06.94zm-11 1L8.5 8.5l.94-2.06 2.06-.94-2.06-.94L8.5 2.5l-.94 2.06-2.06.94zm10 10l.94 2.06.94-2.06 2.06-.94-2.06-.94-.94-2.06-.94 2.06-2.06.94z\"/><path d=\"M17.41 7.96l-1.37-1.37c-.4-.4-.92-.59-1.43-.59-.52 0-1.04.2-1.43.59L10.3 9.45l-7.72 7.72c-.78.78-.78 2.05 0 2.83L4 21.41c.39.39.9.59 1.41.59.51 0 1.02-.2 1.41-.59l7.78-7.78 2.81-2.81c.8-.78.8-2.07 0-2.86zM5.41 20L4 18.59l7.72-7.72 1.47 1.35L5.41 20z\"/>\n",
              "  </svg>\n",
              "      </button>\n",
              "      \n",
              "  <style>\n",
              "    .colab-df-container {\n",
              "      display:flex;\n",
              "      flex-wrap:wrap;\n",
              "      gap: 12px;\n",
              "    }\n",
              "\n",
              "    .colab-df-convert {\n",
              "      background-color: #E8F0FE;\n",
              "      border: none;\n",
              "      border-radius: 50%;\n",
              "      cursor: pointer;\n",
              "      display: none;\n",
              "      fill: #1967D2;\n",
              "      height: 32px;\n",
              "      padding: 0 0 0 0;\n",
              "      width: 32px;\n",
              "    }\n",
              "\n",
              "    .colab-df-convert:hover {\n",
              "      background-color: #E2EBFA;\n",
              "      box-shadow: 0px 1px 2px rgba(60, 64, 67, 0.3), 0px 1px 3px 1px rgba(60, 64, 67, 0.15);\n",
              "      fill: #174EA6;\n",
              "    }\n",
              "\n",
              "    [theme=dark] .colab-df-convert {\n",
              "      background-color: #3B4455;\n",
              "      fill: #D2E3FC;\n",
              "    }\n",
              "\n",
              "    [theme=dark] .colab-df-convert:hover {\n",
              "      background-color: #434B5C;\n",
              "      box-shadow: 0px 1px 3px 1px rgba(0, 0, 0, 0.15);\n",
              "      filter: drop-shadow(0px 1px 2px rgba(0, 0, 0, 0.3));\n",
              "      fill: #FFFFFF;\n",
              "    }\n",
              "  </style>\n",
              "\n",
              "      <script>\n",
              "        const buttonEl =\n",
              "          document.querySelector('#df-70e4a76e-375b-4927-8aab-c973af9acfec button.colab-df-convert');\n",
              "        buttonEl.style.display =\n",
              "          google.colab.kernel.accessAllowed ? 'block' : 'none';\n",
              "\n",
              "        async function convertToInteractive(key) {\n",
              "          const element = document.querySelector('#df-70e4a76e-375b-4927-8aab-c973af9acfec');\n",
              "          const dataTable =\n",
              "            await google.colab.kernel.invokeFunction('convertToInteractive',\n",
              "                                                     [key], {});\n",
              "          if (!dataTable) return;\n",
              "\n",
              "          const docLinkHtml = 'Like what you see? Visit the ' +\n",
              "            '<a target=\"_blank\" href=https://colab.research.google.com/notebooks/data_table.ipynb>data table notebook</a>'\n",
              "            + ' to learn more about interactive tables.';\n",
              "          element.innerHTML = '';\n",
              "          dataTable['output_type'] = 'display_data';\n",
              "          await google.colab.output.renderOutput(dataTable, element);\n",
              "          const docLink = document.createElement('div');\n",
              "          docLink.innerHTML = docLinkHtml;\n",
              "          element.appendChild(docLink);\n",
              "        }\n",
              "      </script>\n",
              "    </div>\n",
              "  </div>\n",
              "  "
            ]
          },
          "metadata": {},
          "execution_count": 199
        }
      ],
      "source": [
        "day_stats = pd.DataFrame()\n",
        "day_stats['min'] = data.min(axis=1, skipna=True)\n",
        "day_stats['max'] = data.max(axis=1, skipna=True)\n",
        "day_stats['mean'] = data.mean(axis=1, skipna=True)\n",
        "day_stats['std'] = data.std(axis=1, skipna=True)\n",
        "day_stats"
      ]
    },
    {
      "cell_type": "markdown",
      "id": "7c432fea",
      "metadata": {
        "id": "7c432fea"
      },
      "source": [
        "### Step 11. Find the average windspeed in January for each location.  \n",
        "#### Treat January 1961 and January 1962 both as January."
      ]
    },
    {
      "cell_type": "code",
      "execution_count": null,
      "id": "846c08c1",
      "metadata": {
        "id": "846c08c1",
        "outputId": "8298dccc-fb8c-49b2-919f-f0082a9b9178",
        "colab": {
          "base_uri": "https://localhost:8080/"
        }
      },
      "outputs": [
        {
          "output_type": "stream",
          "name": "stdout",
          "text": [
            "RPT    14.847325\n",
            "VAL    12.914560\n",
            "ROS    13.299624\n",
            "KIL     7.199498\n",
            "SHA    11.667734\n",
            "BIR     8.054839\n",
            "DUB    11.819355\n",
            "CLA     9.512047\n",
            "MUL     9.543208\n",
            "CLO    10.053566\n",
            "BEL    14.550520\n",
            "MAL    18.028763\n",
            "dtype: float64\n"
          ]
        },
        {
          "output_type": "stream",
          "name": "stderr",
          "text": [
            "<ipython-input-200-48c0b311533a>:2: FutureWarning: Dropping of nuisance columns in DataFrame reductions (with 'numeric_only=None') is deprecated; in a future version this will raise TypeError.  Select only valid columns before calling the reduction.\n",
            "  january_mean = january_data.mean(skipna=True)\n"
          ]
        }
      ],
      "source": [
        "january_data = data.loc[data.index.month == 1]\n",
        "january_mean = january_data.mean(skipna=True)\n",
        "print(january_mean)\n"
      ]
    },
    {
      "cell_type": "markdown",
      "id": "d1c85939",
      "metadata": {
        "id": "d1c85939"
      },
      "source": [
        "### Step 12. Downsample the record to a yearly frequency for each location."
      ]
    },
    {
      "cell_type": "code",
      "execution_count": null,
      "id": "9d68bbdb",
      "metadata": {
        "id": "9d68bbdb",
        "outputId": "bc595bf2-778a-4635-e6bc-98acbc0e2a71",
        "colab": {
          "base_uri": "https://localhost:8080/"
        }
      },
      "outputs": [
        {
          "output_type": "stream",
          "name": "stdout",
          "text": [
            "                  RPT        VAL        ROS       KIL        SHA       BIR  \\\n",
            "date                                                                         \n",
            "1961-12-31  12.299583  10.351796  11.362369  6.958227  10.881763  7.729726   \n",
            "1962-12-31  12.246923  10.110438  11.732712  6.960440  10.657918  7.393068   \n",
            "1963-12-31  12.813452  10.836986  12.541151  7.330055  11.724110  8.434712   \n",
            "1964-12-31  12.363661  10.920164  12.104372  6.787787  11.454481  7.570874   \n",
            "1965-12-31  12.451370  11.075534  11.848767  6.858466  11.024795  7.478110   \n",
            "1966-12-31  13.461973  11.557205  12.020630  7.345726  11.805041  7.793671   \n",
            "1967-12-31  12.737151  10.990986  11.739397  7.143425  11.630740  7.368164   \n",
            "1968-12-31  11.835628  10.468197  11.409754  6.477678  10.760765  6.067322   \n",
            "1969-12-31  11.166356   9.723699  10.902000  5.767973   9.873918  6.189973   \n",
            "1970-12-31  12.600329  10.726932  11.730247  6.217178  10.567370  7.609452   \n",
            "1971-12-31  11.273123   9.095178  11.088329  5.241507   9.440329  6.097151   \n",
            "1972-12-31  12.463962  10.561311  12.058333  5.929699   9.430410  6.358825   \n",
            "1973-12-31  11.828466  10.680493  10.680493  5.547863   9.640877  6.548740   \n",
            "1974-12-31  13.643096  11.811781  12.336356  6.427041  11.110986  6.809781   \n",
            "1975-12-31  12.008575  10.293836  11.564712  5.269096   9.190082  5.668521   \n",
            "1976-12-31  11.737842  10.203115  10.761230  5.109426   8.846339  6.311038   \n",
            "1977-12-31  13.099616  11.144493  12.627836  6.073945  10.003836  8.586438   \n",
            "1978-12-31  12.504356  11.044274  11.380000  6.082356  10.167233  7.650658   \n",
            "\n",
            "                  DUB        CLA       MUL        CLO        BEL        MAL  \n",
            "date                                                                         \n",
            "1961-12-31   9.733923   8.858788  8.647652   9.835577  13.502795  13.680773  \n",
            "1962-12-31  11.020712   8.793753  8.316822   9.676247  12.930685  14.323956  \n",
            "1963-12-31  11.075699  10.336548  8.903589  10.224438  13.638877  14.999014  \n",
            "1964-12-31  10.259153   9.467350  7.789016  10.207951  13.740546  14.910301  \n",
            "1965-12-31  10.618712   8.879918  7.907425   9.918082  12.964247  15.591644  \n",
            "1966-12-31  10.579808   8.835096  8.514438   9.768959  14.265836  16.307260  \n",
            "1967-12-31  10.652027   9.325616  8.645014   9.547425  14.774548  17.135945  \n",
            "1968-12-31   8.859180   8.255519  7.224945   7.832978  12.808634  15.017486  \n",
            "1969-12-31   8.564493   7.711397  7.924521   7.754384  12.621233  15.762904  \n",
            "1970-12-31   9.609890   8.334630  9.297616   8.289808  13.183644  16.456027  \n",
            "1971-12-31   8.385890   6.757315  7.915370   7.229753  12.208932  15.025233  \n",
            "1972-12-31   9.704508   7.680792  8.357295   7.515273  12.727377  15.028716  \n",
            "1973-12-31   8.482110   7.614274  8.245534   7.812411  12.169699  15.441096  \n",
            "1974-12-31  10.084603   9.896986  9.331753   8.736356  13.252959  16.947671  \n",
            "1975-12-31   8.562603   7.843836  8.797945   7.382822  12.631671  15.307863  \n",
            "1976-12-31   9.149126   7.146202  8.883716   7.883087  12.332377  15.471448  \n",
            "1977-12-31  11.523205   8.378384  9.098192   8.821616  13.459068  16.590849  \n",
            "1978-12-31   9.489342   8.800466  9.089753   8.301699  12.967397  16.771370  \n"
          ]
        }
      ],
      "source": [
        "yearly_data = data.resample('Y').mean()\n",
        "print(yearly_data)"
      ]
    },
    {
      "cell_type": "markdown",
      "id": "5e051d90",
      "metadata": {
        "id": "5e051d90"
      },
      "source": [
        "### Step 13. Downsample the record to a monthly frequency for each location."
      ]
    },
    {
      "cell_type": "code",
      "execution_count": null,
      "id": "0e63f4d5",
      "metadata": {
        "id": "0e63f4d5",
        "outputId": "f488c924-6fd7-4915-a209-34142f54149b",
        "colab": {
          "base_uri": "https://localhost:8080/"
        }
      },
      "outputs": [
        {
          "output_type": "stream",
          "name": "stdout",
          "text": [
            "                  RPT        VAL        ROS       KIL        SHA        BIR  \\\n",
            "date                                                                          \n",
            "1961-01-31  14.841333  11.988333  13.431613  7.736774  11.072759   8.588065   \n",
            "1961-02-28  16.269286  14.975357  14.441481  9.230741  13.852143  10.937500   \n",
            "1961-03-31  10.890000  11.296452  10.752903  7.284000  10.509355   8.866774   \n",
            "1961-04-30  10.722667   9.427667   9.998000  5.830667   8.435000   6.495000   \n",
            "1961-05-31   9.860968   8.850000  10.818065  5.905333   9.490323   6.574839   \n",
            "...               ...        ...        ...       ...        ...        ...   \n",
            "1978-08-31   9.645161   8.259355   9.032258  4.502903   7.368065   5.935161   \n",
            "1978-09-30  10.913667  10.895000  10.635000  5.725000  10.372000   9.278333   \n",
            "1978-10-31   9.897742   8.670968   9.295806  4.721290   8.525161   6.774194   \n",
            "1978-11-30  16.151667  14.802667  13.508000  7.317333  11.475000   8.743000   \n",
            "1978-12-31  16.175484  13.748065  15.635161  7.094839  11.398710   9.241613   \n",
            "\n",
            "                  DUB        CLA        MUL        CLO        BEL        MAL  \n",
            "date                                                                          \n",
            "1961-01-31  11.184839   9.245333   9.085806  10.107419  13.880968  14.703226  \n",
            "1961-02-28  11.890714  11.846071  11.821429  12.714286  18.583214  15.411786  \n",
            "1961-03-31   9.644194   9.829677  10.294138  11.251935  16.410968  15.720000  \n",
            "1961-04-30   6.925333   7.094667   7.342333   7.237000  11.147333  10.278333  \n",
            "1961-05-31   7.604000   8.177097   8.039355   8.499355  11.900323  12.011613  \n",
            "...               ...        ...        ...        ...        ...        ...  \n",
            "1978-08-31   5.650323   5.417742   7.241290   5.536774  10.466774  12.054194  \n",
            "1978-09-30  10.790333   9.583000  10.069333   8.939000  15.680333  19.391333  \n",
            "1978-10-31   8.115484   7.337742   8.297742   8.243871  13.776774  17.150000  \n",
            "1978-11-30  11.492333   9.657333  10.701333  10.676000  17.404667  20.723000  \n",
            "1978-12-31  12.077419  10.194839  10.616774  11.028710  13.859677  21.371613  \n",
            "\n",
            "[216 rows x 12 columns]\n"
          ]
        }
      ],
      "source": [
        "monthly_data = data.resample('M').mean()\n",
        "print(monthly_data)"
      ]
    },
    {
      "cell_type": "markdown",
      "id": "b63246a8",
      "metadata": {
        "id": "b63246a8"
      },
      "source": [
        "### Step 14. Downsample the record to a weekly frequency for each location."
      ]
    },
    {
      "cell_type": "code",
      "execution_count": null,
      "id": "7bcf916b",
      "metadata": {
        "id": "7bcf916b",
        "outputId": "6ef433bd-d1bf-4ae4-a72b-462b72255e0e",
        "colab": {
          "base_uri": "https://localhost:8080/"
        }
      },
      "outputs": [
        {
          "output_type": "stream",
          "name": "stdout",
          "text": [
            "                  RPT        VAL        ROS        KIL        SHA        BIR  \\\n",
            "date                                                                           \n",
            "1961-01-01  15.040000  14.960000  13.170000   9.290000        NaN   9.870000   \n",
            "1961-01-08  13.541429  11.486667  10.487143   6.417143   9.474286   6.435714   \n",
            "1961-01-15  12.468571   8.967143  11.958571   4.630000   7.351429   5.072857   \n",
            "1961-01-22  13.204286   9.862857  12.982857   6.328571   8.966667   7.417143   \n",
            "1961-01-29  19.880000  16.141429  18.225714  12.720000  17.432857  14.828571   \n",
            "...               ...        ...        ...        ...        ...        ...   \n",
            "1978-12-03  14.934286  11.232857  13.941429   5.565714  10.215714   8.618571   \n",
            "1978-12-10  20.740000  19.190000  17.034286   9.777143  15.287143  12.774286   \n",
            "1978-12-17  16.758571  14.692857  14.987143   6.917143  11.397143   7.272857   \n",
            "1978-12-24  11.155714   8.008571  13.172857   4.004286   7.825714   6.290000   \n",
            "1978-12-31  14.951429  11.801429  16.035714   6.507143   9.660000   8.620000   \n",
            "\n",
            "                  DUB        CLA        MUL        CLO        BEL        MAL  \n",
            "date                                                                          \n",
            "1961-01-01  13.670000  10.250000  10.830000  12.580000  18.500000  15.040000  \n",
            "1961-01-08  11.061429   6.616667   8.434286   8.497143  12.481429  13.238571  \n",
            "1961-01-15   7.535714   6.820000   5.712857   7.571429  11.125714  11.024286  \n",
            "1961-01-22   9.257143   7.875714   7.145714   8.124286   9.821429  11.434286  \n",
            "1961-01-29  15.528571  15.160000  14.480000  15.640000  20.930000  22.530000  \n",
            "...               ...        ...        ...        ...        ...        ...  \n",
            "1978-12-03   9.642857   7.685714   9.011429   9.547143  11.835714  18.728571  \n",
            "1978-12-10  14.437143  12.488571  13.870000  14.082857  18.517143  23.061429  \n",
            "1978-12-17  10.208571   7.967143   9.168571   8.565714  11.102857  15.562857  \n",
            "1978-12-24   7.798571   8.667143   7.151429   8.072857  11.845714  18.977143  \n",
            "1978-12-31  13.708571  10.477143  10.868571  11.471429  12.947143  26.844286  \n",
            "\n",
            "[940 rows x 12 columns]\n"
          ]
        }
      ],
      "source": [
        "weekly_data = data.resample('W').mean()\n",
        "print(weekly_data)"
      ]
    },
    {
      "cell_type": "markdown",
      "id": "13417df1",
      "metadata": {
        "id": "13417df1"
      },
      "source": [
        "### Step 15. Calculate the min, max and mean windspeeds and standard deviations of the windspeeds across all locations for each week (assume that the first week starts on January 2 1961) for the first 52 weeks."
      ]
    },
    {
      "cell_type": "code",
      "execution_count": null,
      "id": "2af6b19a",
      "metadata": {
        "id": "2af6b19a"
      },
      "outputs": [],
      "source": []
    },
    {
      "cell_type": "markdown",
      "id": "2964d3ae",
      "metadata": {
        "id": "2964d3ae"
      },
      "source": [
        "## Section 7: Visualization"
      ]
    },
    {
      "cell_type": "markdown",
      "id": "b31f3d2a",
      "metadata": {
        "id": "b31f3d2a"
      },
      "source": [
        "### Introduction:\n",
        "\n",
        "This exercise is based on the titanic Disaster dataset avaiable at [Kaggle](https://www.kaggle.com/c/titanic).  \n",
        "To know more about the variables check [here](https://www.kaggle.com/c/titanic/data)\n",
        "\n",
        "\n",
        "### Step 1. Import the necessary libraries"
      ]
    },
    {
      "cell_type": "code",
      "execution_count": null,
      "id": "af7f3be3",
      "metadata": {
        "id": "af7f3be3"
      },
      "outputs": [],
      "source": [
        "from matplotlib import pyplot as plt\n",
        "import pandas as pd\n",
        "import seaborn as sns\n"
      ]
    },
    {
      "cell_type": "markdown",
      "id": "27516d9f",
      "metadata": {
        "id": "27516d9f"
      },
      "source": [
        "### Step 2. Import the dataset from this [address](https://raw.githubusercontent.com/guipsamora/pandas_exercises/master/07_Visualization/Titanic_Desaster/train.csv)"
      ]
    },
    {
      "cell_type": "markdown",
      "id": "cbffa305",
      "metadata": {
        "id": "cbffa305"
      },
      "source": [
        "### Step 3. Assign it to a variable titanic "
      ]
    },
    {
      "cell_type": "code",
      "execution_count": null,
      "id": "8ee77fc2",
      "metadata": {
        "id": "8ee77fc2"
      },
      "outputs": [],
      "source": [
        "url = 'https://raw.githubusercontent.com/guipsamora/pandas_exercises/master/07_Visualization/Titanic_Desaster/train.csv'\n",
        "titanic = pd.read_csv(url, delimiter=\",\")"
      ]
    },
    {
      "cell_type": "markdown",
      "id": "cde83321",
      "metadata": {
        "id": "cde83321"
      },
      "source": [
        "### Step 4. Set PassengerId as the index "
      ]
    },
    {
      "cell_type": "code",
      "execution_count": null,
      "id": "2688e8b8",
      "metadata": {
        "id": "2688e8b8"
      },
      "outputs": [],
      "source": [
        "titanic = titanic.set_index(titanic[\"PassengerId\"])\n",
        "titanic = titanic.drop(\"PassengerId\", axis=1)"
      ]
    },
    {
      "cell_type": "markdown",
      "id": "8521c676",
      "metadata": {
        "id": "8521c676"
      },
      "source": [
        "### Step 5. Create a pie chart presenting the male/female proportion"
      ]
    },
    {
      "cell_type": "code",
      "execution_count": null,
      "id": "8e733319",
      "metadata": {
        "id": "8e733319",
        "colab": {
          "base_uri": "https://localhost:8080/",
          "height": 264
        },
        "outputId": "c59dd6a8-94e1-42a0-c7dc-7557a6e51d4f"
      },
      "outputs": [
        {
          "output_type": "display_data",
          "data": {
            "text/plain": [
              "<Figure size 432x288 with 1 Axes>"
            ],
            "image/png": "[encoded data removed]"
          },
          "metadata": {}
        }
      ],
      "source": [
        "counts = titanic[\"Sex\"].value_counts()\n",
        "counts.plot.pie(autopct='%1.1f%%', startangle=90, explode=[0.05, 0], colors=[\"lightblue\", \"pink\"])\n",
        "plt.axis('equal')\n",
        "plt.title(\"Male/Female Proportion\")\n",
        "plt.show()"
      ]
    },
    {
      "cell_type": "markdown",
      "id": "649e4637",
      "metadata": {
        "id": "649e4637"
      },
      "source": [
        "### Step 6. Create a scatterplot with the Fare payed and the Age, differ the plot color by gender"
      ]
    },
    {
      "cell_type": "code",
      "execution_count": null,
      "id": "92164732",
      "metadata": {
        "id": "92164732",
        "colab": {
          "base_uri": "https://localhost:8080/",
          "height": 297
        },
        "outputId": "12620c8e-0010-4095-c340-f59e282f6414"
      },
      "outputs": [
        {
          "output_type": "execute_result",
          "data": {
            "text/plain": [
              "<Axes: xlabel='Age', ylabel='Fare'>"
            ]
          },
          "metadata": {},
          "execution_count": 208
        },
        {
          "output_type": "display_data",
          "data": {
            "text/plain": [
              "<Figure size 432x288 with 1 Axes>"
            ],
            "image/png": "[encoded data removed]"
          },
          "metadata": {
            "needs_background": "light"
          }
        }
      ],
      "source": [
        "sns.scatterplot(x='Age', y='Fare', hue='Sex', data=titanic)"
      ]
    },
    {
      "cell_type": "markdown",
      "id": "1adedc10",
      "metadata": {
        "id": "1adedc10"
      },
      "source": [
        "### Step 7. How many people survived?"
      ]
    },
    {
      "cell_type": "code",
      "execution_count": null,
      "id": "4abad8fb",
      "metadata": {
        "id": "4abad8fb",
        "colab": {
          "base_uri": "https://localhost:8080/"
        },
        "outputId": "a496227f-6bd1-4f25-f974-cc0f8cd41a91"
      },
      "outputs": [
        {
          "output_type": "stream",
          "name": "stdout",
          "text": [
            "0    549\n",
            "1    342\n",
            "Name: Survived, dtype: int64\n"
          ]
        }
      ],
      "source": [
        "survived_counts = titanic['Survived'].value_counts()\n",
        "print(survived_counts)"
      ]
    },
    {
      "cell_type": "markdown",
      "id": "87dac705",
      "metadata": {
        "id": "87dac705"
      },
      "source": [
        "### Step 8. Create a histogram with the Fare payed"
      ]
    },
    {
      "cell_type": "code",
      "execution_count": null,
      "id": "bc52c481",
      "metadata": {
        "id": "bc52c481",
        "colab": {
          "base_uri": "https://localhost:8080/",
          "height": 295
        },
        "outputId": "ad0e949d-07da-44b2-e2c1-a3ee4f0b6fc2"
      },
      "outputs": [
        {
          "output_type": "display_data",
          "data": {
            "text/plain": [
              "<Figure size 432x288 with 1 Axes>"
            ],
            "image/png": "[encoded data removed]"
          },
          "metadata": {
            "needs_background": "light"
          }
        }
      ],
      "source": [
        "plt.hist(titanic['Fare'])\n",
        "plt.xlabel('Fare Paid')\n",
        "plt.ylabel('Count')\n",
        "plt.title('Histogram of Fare Paid')\n",
        "plt.show()"
      ]
    },
    {
      "cell_type": "markdown",
      "id": "d8dbfcaf",
      "metadata": {
        "id": "d8dbfcaf"
      },
      "source": [
        "### BONUS: Create your own question and answer it."
      ]
    },
    {
      "cell_type": "code",
      "execution_count": null,
      "id": "e13ab414",
      "metadata": {
        "id": "e13ab414",
        "colab": {
          "base_uri": "https://localhost:8080/",
          "height": 387
        },
        "outputId": "c454e751-a2b3-4799-a1bd-30aecd7dd7b6"
      },
      "outputs": [
        {
          "output_type": "execute_result",
          "data": {
            "text/plain": [
              "<seaborn.axisgrid.FacetGrid at 0x7fcbb39bf670>"
            ]
          },
          "metadata": {},
          "execution_count": 211
        },
        {
          "output_type": "display_data",
          "data": {
            "text/plain": [
              "<Figure size 430.5x360 with 1 Axes>"
            ],
            "image/png": "[encoded data removed]"
          },
          "metadata": {
            "needs_background": "light"
          }
        }
      ],
      "source": [
        "# Gender difference in passenger classes\n",
        "passengers_count = titanic.groupby(['Sex', 'Pclass']).size().reset_index(name='count')\n",
        "sns.catplot(x='Pclass', y='count', hue='Sex', kind='bar', data=passengers_count)\n"
      ]
    },
    {
      "cell_type": "markdown",
      "id": "448734a8",
      "metadata": {
        "collapsed": true,
        "id": "448734a8"
      },
      "source": [
        "## Section 8: Creating Series and DataFrames"
      ]
    },
    {
      "cell_type": "markdown",
      "id": "738a181a",
      "metadata": {
        "id": "738a181a"
      },
      "source": [
        "### Introduction:\n",
        "\n",
        "This time you will create the data.\n",
        "\n",
        "\n",
        "\n",
        "### Step 1. Import the necessary libraries"
      ]
    },
    {
      "cell_type": "code",
      "execution_count": null,
      "id": "2c1b5c9c",
      "metadata": {
        "id": "2c1b5c9c"
      },
      "outputs": [],
      "source": [
        "import pandas as pd"
      ]
    },
    {
      "cell_type": "markdown",
      "id": "5bdbd7f3",
      "metadata": {
        "id": "5bdbd7f3"
      },
      "source": [
        "### Step 2. Create a data dictionary that looks like the DataFrame below"
      ]
    },
    {
      "cell_type": "code",
      "execution_count": null,
      "id": "00bc7623",
      "metadata": {
        "collapsed": true,
        "id": "00bc7623"
      },
      "outputs": [],
      "source": [
        "data = {\n",
        "    'evolution': ['Ivysaur', 'Charmeleon', 'Wartortle', 'Metapod'],\n",
        "    'hp': [45, 39, 44, 45],\n",
        "    'name': ['Bulbasaur', 'Charmander', 'Squirtle', 'Caterpie'],\n",
        "    'pokedex': ['yes', 'no', 'yes', 'no'],\n",
        "    'type': ['grass', 'fire', 'water', 'bug']\n",
        "}"
      ]
    },
    {
      "cell_type": "markdown",
      "id": "5f4768bc",
      "metadata": {
        "id": "5f4768bc"
      },
      "source": [
        "### Step 3. Assign it to a variable called pokemon"
      ]
    },
    {
      "cell_type": "code",
      "execution_count": null,
      "id": "20222f8f",
      "metadata": {
        "id": "20222f8f"
      },
      "outputs": [],
      "source": [
        "pokemon = pd.DataFrame(data)\n"
      ]
    },
    {
      "cell_type": "markdown",
      "id": "c9257b6d",
      "metadata": {
        "id": "c9257b6d"
      },
      "source": [
        "### Step 4. Ops...it seems the DataFrame columns are in alphabetical order. Place  the order of the columns as name, type, hp, evolution, pokedex"
      ]
    },
    {
      "cell_type": "code",
      "execution_count": null,
      "id": "5a6b37f9",
      "metadata": {
        "id": "5a6b37f9"
      },
      "outputs": [],
      "source": [
        "pokemon = pokemon[['name', 'type', 'hp', 'evolution', 'pokedex']]"
      ]
    },
    {
      "cell_type": "markdown",
      "id": "9f2b0341",
      "metadata": {
        "id": "9f2b0341"
      },
      "source": [
        "### Step 5. Add another column called place, and insert what you have in mind."
      ]
    },
    {
      "cell_type": "code",
      "execution_count": null,
      "id": "90c19f79",
      "metadata": {
        "id": "90c19f79",
        "colab": {
          "base_uri": "https://localhost:8080/"
        },
        "outputId": "702fdc6d-a78b-4edb-b422-a4300f7e052c"
      },
      "outputs": [
        {
          "output_type": "stream",
          "name": "stderr",
          "text": [
            "<ipython-input-216-e08d1fb52b31>:1: SettingWithCopyWarning: \n",
            "A value is trying to be set on a copy of a slice from a DataFrame.\n",
            "Try using .loc[row_indexer,col_indexer] = value instead\n",
            "\n",
            "See the caveats in the documentation: https://pandas.pydata.org/pandas-docs/stable/user_guide/indexing.html#returning-a-view-versus-a-copy\n",
            "  pokemon['place'] = ['forest', 'volcano', 'ocean', 'field']\n"
          ]
        }
      ],
      "source": [
        "pokemon['place'] = ['forest', 'volcano', 'ocean', 'field']"
      ]
    },
    {
      "cell_type": "markdown",
      "id": "0f594dc0",
      "metadata": {
        "id": "0f594dc0"
      },
      "source": [
        "### Step 6. Present the type of each column"
      ]
    },
    {
      "cell_type": "code",
      "execution_count": null,
      "id": "dfd80172",
      "metadata": {
        "id": "dfd80172",
        "colab": {
          "base_uri": "https://localhost:8080/"
        },
        "outputId": "07484cd3-bd8c-450a-ae95-44c0c981599c"
      },
      "outputs": [
        {
          "output_type": "execute_result",
          "data": {
            "text/plain": [
              "name         object\n",
              "type         object\n",
              "hp            int64\n",
              "evolution    object\n",
              "pokedex      object\n",
              "place        object\n",
              "dtype: object"
            ]
          },
          "metadata": {},
          "execution_count": 217
        }
      ],
      "source": [
        "pokemon.dtypes"
      ]
    },
    {
      "cell_type": "markdown",
      "id": "58e6b8fa",
      "metadata": {
        "id": "58e6b8fa"
      },
      "source": [
        "### BONUS: Create your own question and answer it."
      ]
    },
    {
      "cell_type": "code",
      "execution_count": null,
      "id": "6a97fc28",
      "metadata": {
        "id": "6a97fc28",
        "colab": {
          "base_uri": "https://localhost:8080/"
        },
        "outputId": "dc5c9b0b-bae8-4b7a-b425-3f144284d3a5"
      },
      "outputs": [
        {
          "output_type": "stream",
          "name": "stdout",
          "text": [
            "43.25\n"
          ]
        }
      ],
      "source": [
        "#  What is the average HP of the Pokemon in this DataFrame?\n",
        "\n",
        "average_hp = pokemon['hp'].mean()\n",
        "print(average_hp)"
      ]
    },
    {
      "cell_type": "markdown",
      "id": "010c5b0f",
      "metadata": {
        "collapsed": true,
        "id": "010c5b0f"
      },
      "source": [
        "## Section: 9 Time Series"
      ]
    },
    {
      "cell_type": "markdown",
      "id": "e3a0ed0d",
      "metadata": {
        "id": "e3a0ed0d"
      },
      "source": [
        "### Introduction:\n",
        "\n",
        "We are going to use Apple's stock price.\n",
        "\n",
        "\n",
        "### Step 1. Import the necessary libraries"
      ]
    },
    {
      "cell_type": "code",
      "execution_count": null,
      "id": "d02fb709",
      "metadata": {
        "id": "d02fb709"
      },
      "outputs": [],
      "source": [
        "import pandas as pd\n",
        "from matplotlib import pyplot as plt"
      ]
    },
    {
      "cell_type": "markdown",
      "id": "52d58d8c",
      "metadata": {
        "id": "52d58d8c"
      },
      "source": [
        "### Step 2. Import the dataset from this [address](https://raw.githubusercontent.com/guipsamora/pandas_exercises/master/09_Time_Series/Apple_Stock/appl_1980_2014.csv)"
      ]
    },
    {
      "cell_type": "code",
      "execution_count": null,
      "id": "50dd5dc5",
      "metadata": {
        "collapsed": true,
        "id": "50dd5dc5"
      },
      "outputs": [],
      "source": [
        "url = 'https://raw.githubusercontent.com/guipsamora/pandas_exercises/master/09_Time_Series/Apple_Stock/appl_1980_2014.csv'"
      ]
    },
    {
      "cell_type": "markdown",
      "id": "e4ac4bef",
      "metadata": {
        "id": "e4ac4bef"
      },
      "source": [
        "### Step 3. Assign it to a variable apple"
      ]
    },
    {
      "cell_type": "code",
      "execution_count": null,
      "id": "9e1f55b9",
      "metadata": {
        "id": "9e1f55b9"
      },
      "outputs": [],
      "source": [
        "apple = pd.read_csv(url, delimiter=\",\")"
      ]
    },
    {
      "cell_type": "markdown",
      "id": "6f1765e1",
      "metadata": {
        "id": "6f1765e1"
      },
      "source": [
        "### Step 4.  Check out the type of the columns"
      ]
    },
    {
      "cell_type": "code",
      "execution_count": null,
      "id": "fa9c07c8",
      "metadata": {
        "id": "fa9c07c8",
        "colab": {
          "base_uri": "https://localhost:8080/"
        },
        "outputId": "dbb3bd2e-cec9-4a79-d04c-9b26552c9b9b"
      },
      "outputs": [
        {
          "output_type": "execute_result",
          "data": {
            "text/plain": [
              "Date          object\n",
              "Open         float64\n",
              "High         float64\n",
              "Low          float64\n",
              "Close        float64\n",
              "Volume         int64\n",
              "Adj Close    float64\n",
              "dtype: object"
            ]
          },
          "metadata": {},
          "execution_count": 222
        }
      ],
      "source": [
        "apple.dtypes"
      ]
    },
    {
      "cell_type": "markdown",
      "id": "dd76957d",
      "metadata": {
        "id": "dd76957d"
      },
      "source": [
        ":### Step 5. Transform the Date column as a datetime type"
      ]
    },
    {
      "cell_type": "code",
      "execution_count": null,
      "id": "2a5f2d68",
      "metadata": {
        "id": "2a5f2d68"
      },
      "outputs": [],
      "source": [
        "apple['Date'] = pd.to_datetime(apple['Date'])"
      ]
    },
    {
      "cell_type": "markdown",
      "id": "d637aead",
      "metadata": {
        "id": "d637aead"
      },
      "source": [
        "### Step 6.  Set the date as the index"
      ]
    },
    {
      "cell_type": "code",
      "execution_count": null,
      "id": "235b98a5",
      "metadata": {
        "id": "235b98a5",
        "colab": {
          "base_uri": "https://localhost:8080/",
          "height": 455
        },
        "outputId": "97063e4c-a725-490e-ed52-c0dbfa67df68"
      },
      "outputs": [
        {
          "output_type": "execute_result",
          "data": {
            "text/plain": [
              "                 Date   Open   High    Low  Close     Volume  Adj Close\n",
              "Date                                                                   \n",
              "2014-07-08 2014-07-08  96.27  96.80  93.92  95.35   65130000      95.35\n",
              "2014-07-07 2014-07-07  94.14  95.99  94.10  95.97   56305400      95.97\n",
              "2014-07-03 2014-07-03  93.67  94.10  93.20  94.03   22891800      94.03\n",
              "2014-07-02 2014-07-02  93.87  94.06  93.09  93.48   28420900      93.48\n",
              "2014-07-01 2014-07-01  93.52  94.07  93.13  93.52   38170200      93.52\n",
              "...               ...    ...    ...    ...    ...        ...        ...\n",
              "1980-12-18 1980-12-18  26.63  26.75  26.63  26.63   18362400       0.41\n",
              "1980-12-17 1980-12-17  25.87  26.00  25.87  25.87   21610400       0.40\n",
              "1980-12-16 1980-12-16  25.37  25.37  25.25  25.25   26432000       0.39\n",
              "1980-12-15 1980-12-15  27.38  27.38  27.25  27.25   43971200       0.42\n",
              "1980-12-12 1980-12-12  28.75  28.87  28.75  28.75  117258400       0.45\n",
              "\n",
              "[8465 rows x 7 columns]"
            ],
            "text/html": [
              "\n",
              "  <div id=\"df-1feb5bbe-d6d0-4e22-9fb5-ba1b31c42084\">\n",
              "    <div class=\"colab-df-container\">\n",
              "      <div>\n",
              "<style scoped>\n",
              "    .dataframe tbody tr th:only-of-type {\n",
              "        vertical-align: middle;\n",
              "    }\n",
              "\n",
              "    .dataframe tbody tr th {\n",
              "        vertical-align: top;\n",
              "    }\n",
              "\n",
              "    .dataframe thead th {\n",
              "        text-align: right;\n",
              "    }\n",
              "</style>\n",
              "<table border=\"1\" class=\"dataframe\">\n",
              "  <thead>\n",
              "    <tr style=\"text-align: right;\">\n",
              "      <th></th>\n",
              "      <th>Date</th>\n",
              "      <th>Open</th>\n",
              "      <th>High</th>\n",
              "      <th>Low</th>\n",
              "      <th>Close</th>\n",
              "      <th>Volume</th>\n",
              "      <th>Adj Close</th>\n",
              "    </tr>\n",
              "    <tr>\n",
              "      <th>Date</th>\n",
              "      <th></th>\n",
              "      <th></th>\n",
              "      <th></th>\n",
              "      <th></th>\n",
              "      <th></th>\n",
              "      <th></th>\n",
              "      <th></th>\n",
              "    </tr>\n",
              "  </thead>\n",
              "  <tbody>\n",
              "    <tr>\n",
              "      <th>2014-07-08</th>\n",
              "      <td>2014-07-08</td>\n",
              "      <td>96.27</td>\n",
              "      <td>96.80</td>\n",
              "      <td>93.92</td>\n",
              "      <td>95.35</td>\n",
              "      <td>65130000</td>\n",
              "      <td>95.35</td>\n",
              "    </tr>\n",
              "    <tr>\n",
              "      <th>2014-07-07</th>\n",
              "      <td>2014-07-07</td>\n",
              "      <td>94.14</td>\n",
              "      <td>95.99</td>\n",
              "      <td>94.10</td>\n",
              "      <td>95.97</td>\n",
              "      <td>56305400</td>\n",
              "      <td>95.97</td>\n",
              "    </tr>\n",
              "    <tr>\n",
              "      <th>2014-07-03</th>\n",
              "      <td>2014-07-03</td>\n",
              "      <td>93.67</td>\n",
              "      <td>94.10</td>\n",
              "      <td>93.20</td>\n",
              "      <td>94.03</td>\n",
              "      <td>22891800</td>\n",
              "      <td>94.03</td>\n",
              "    </tr>\n",
              "    <tr>\n",
              "      <th>2014-07-02</th>\n",
              "      <td>2014-07-02</td>\n",
              "      <td>93.87</td>\n",
              "      <td>94.06</td>\n",
              "      <td>93.09</td>\n",
              "      <td>93.48</td>\n",
              "      <td>28420900</td>\n",
              "      <td>93.48</td>\n",
              "    </tr>\n",
              "    <tr>\n",
              "      <th>2014-07-01</th>\n",
              "      <td>2014-07-01</td>\n",
              "      <td>93.52</td>\n",
              "      <td>94.07</td>\n",
              "      <td>93.13</td>\n",
              "      <td>93.52</td>\n",
              "      <td>38170200</td>\n",
              "      <td>93.52</td>\n",
              "    </tr>\n",
              "    <tr>\n",
              "      <th>...</th>\n",
              "      <td>...</td>\n",
              "      <td>...</td>\n",
              "      <td>...</td>\n",
              "      <td>...</td>\n",
              "      <td>...</td>\n",
              "      <td>...</td>\n",
              "      <td>...</td>\n",
              "    </tr>\n",
              "    <tr>\n",
              "      <th>1980-12-18</th>\n",
              "      <td>1980-12-18</td>\n",
              "      <td>26.63</td>\n",
              "      <td>26.75</td>\n",
              "      <td>26.63</td>\n",
              "      <td>26.63</td>\n",
              "      <td>18362400</td>\n",
              "      <td>0.41</td>\n",
              "    </tr>\n",
              "    <tr>\n",
              "      <th>1980-12-17</th>\n",
              "      <td>1980-12-17</td>\n",
              "      <td>25.87</td>\n",
              "      <td>26.00</td>\n",
              "      <td>25.87</td>\n",
              "      <td>25.87</td>\n",
              "      <td>21610400</td>\n",
              "      <td>0.40</td>\n",
              "    </tr>\n",
              "    <tr>\n",
              "      <th>1980-12-16</th>\n",
              "      <td>1980-12-16</td>\n",
              "      <td>25.37</td>\n",
              "      <td>25.37</td>\n",
              "      <td>25.25</td>\n",
              "      <td>25.25</td>\n",
              "      <td>26432000</td>\n",
              "      <td>0.39</td>\n",
              "    </tr>\n",
              "    <tr>\n",
              "      <th>1980-12-15</th>\n",
              "      <td>1980-12-15</td>\n",
              "      <td>27.38</td>\n",
              "      <td>27.38</td>\n",
              "      <td>27.25</td>\n",
              "      <td>27.25</td>\n",
              "      <td>43971200</td>\n",
              "      <td>0.42</td>\n",
              "    </tr>\n",
              "    <tr>\n",
              "      <th>1980-12-12</th>\n",
              "      <td>1980-12-12</td>\n",
              "      <td>28.75</td>\n",
              "      <td>28.87</td>\n",
              "      <td>28.75</td>\n",
              "      <td>28.75</td>\n",
              "      <td>117258400</td>\n",
              "      <td>0.45</td>\n",
              "    </tr>\n",
              "  </tbody>\n",
              "</table>\n",
              "<p>8465 rows × 7 columns</p>\n",
              "</div>\n",
              "      <button class=\"colab-df-convert\" onclick=\"convertToInteractive('df-1feb5bbe-d6d0-4e22-9fb5-ba1b31c42084')\"\n",
              "              title=\"Convert this dataframe to an interactive table.\"\n",
              "              style=\"display:none;\">\n",
              "        \n",
              "  <svg xmlns=\"http://www.w3.org/2000/svg\" height=\"24px\"viewBox=\"0 0 24 24\"\n",
              "       width=\"24px\">\n",
              "    <path d=\"M0 0h24v24H0V0z\" fill=\"none\"/>\n",
              "    <path d=\"M18.56 5.44l.94 2.06.94-2.06 2.06-.94-2.06-.94-.94-2.06-.94 2.06-2.06.94zm-11 1L8.5 8.5l.94-2.06 2.06-.94-2.06-.94L8.5 2.5l-.94 2.06-2.06.94zm10 10l.94 2.06.94-2.06 2.06-.94-2.06-.94-.94-2.06-.94 2.06-2.06.94z\"/><path d=\"M17.41 7.96l-1.37-1.37c-.4-.4-.92-.59-1.43-.59-.52 0-1.04.2-1.43.59L10.3 9.45l-7.72 7.72c-.78.78-.78 2.05 0 2.83L4 21.41c.39.39.9.59 1.41.59.51 0 1.02-.2 1.41-.59l7.78-7.78 2.81-2.81c.8-.78.8-2.07 0-2.86zM5.41 20L4 18.59l7.72-7.72 1.47 1.35L5.41 20z\"/>\n",
              "  </svg>\n",
              "      </button>\n",
              "      \n",
              "  <style>\n",
              "    .colab-df-container {\n",
              "      display:flex;\n",
              "      flex-wrap:wrap;\n",
              "      gap: 12px;\n",
              "    }\n",
              "\n",
              "    .colab-df-convert {\n",
              "      background-color: #E8F0FE;\n",
              "      border: none;\n",
              "      border-radius: 50%;\n",
              "      cursor: pointer;\n",
              "      display: none;\n",
              "      fill: #1967D2;\n",
              "      height: 32px;\n",
              "      padding: 0 0 0 0;\n",
              "      width: 32px;\n",
              "    }\n",
              "\n",
              "    .colab-df-convert:hover {\n",
              "      background-color: #E2EBFA;\n",
              "      box-shadow: 0px 1px 2px rgba(60, 64, 67, 0.3), 0px 1px 3px 1px rgba(60, 64, 67, 0.15);\n",
              "      fill: #174EA6;\n",
              "    }\n",
              "\n",
              "    [theme=dark] .colab-df-convert {\n",
              "      background-color: #3B4455;\n",
              "      fill: #D2E3FC;\n",
              "    }\n",
              "\n",
              "    [theme=dark] .colab-df-convert:hover {\n",
              "      background-color: #434B5C;\n",
              "      box-shadow: 0px 1px 3px 1px rgba(0, 0, 0, 0.15);\n",
              "      filter: drop-shadow(0px 1px 2px rgba(0, 0, 0, 0.3));\n",
              "      fill: #FFFFFF;\n",
              "    }\n",
              "  </style>\n",
              "\n",
              "      <script>\n",
              "        const buttonEl =\n",
              "          document.querySelector('#df-1feb5bbe-d6d0-4e22-9fb5-ba1b31c42084 button.colab-df-convert');\n",
              "        buttonEl.style.display =\n",
              "          google.colab.kernel.accessAllowed ? 'block' : 'none';\n",
              "\n",
              "        async function convertToInteractive(key) {\n",
              "          const element = document.querySelector('#df-1feb5bbe-d6d0-4e22-9fb5-ba1b31c42084');\n",
              "          const dataTable =\n",
              "            await google.colab.kernel.invokeFunction('convertToInteractive',\n",
              "                                                     [key], {});\n",
              "          if (!dataTable) return;\n",
              "\n",
              "          const docLinkHtml = 'Like what you see? Visit the ' +\n",
              "            '<a target=\"_blank\" href=https://colab.research.google.com/notebooks/data_table.ipynb>data table notebook</a>'\n",
              "            + ' to learn more about interactive tables.';\n",
              "          element.innerHTML = '';\n",
              "          dataTable['output_type'] = 'display_data';\n",
              "          await google.colab.output.renderOutput(dataTable, element);\n",
              "          const docLink = document.createElement('div');\n",
              "          docLink.innerHTML = docLinkHtml;\n",
              "          element.appendChild(docLink);\n",
              "        }\n",
              "      </script>\n",
              "    </div>\n",
              "  </div>\n",
              "  "
            ]
          },
          "metadata": {},
          "execution_count": 224
        }
      ],
      "source": [
        "apple.set_index(apple['Date'])"
      ]
    },
    {
      "cell_type": "markdown",
      "id": "e92d4a7b",
      "metadata": {
        "id": "e92d4a7b"
      },
      "source": [
        "### Step 7.  Is there any duplicate dates?"
      ]
    },
    {
      "cell_type": "code",
      "execution_count": null,
      "id": "a94454ad",
      "metadata": {
        "id": "a94454ad",
        "colab": {
          "base_uri": "https://localhost:8080/"
        },
        "outputId": "c3092294-813f-4d4d-fcf3-21dbf2f5f7ad"
      },
      "outputs": [
        {
          "output_type": "execute_result",
          "data": {
            "text/plain": [
              "False"
            ]
          },
          "metadata": {},
          "execution_count": 225
        }
      ],
      "source": [
        "apple['Date'].duplicated().any()\n"
      ]
    },
    {
      "cell_type": "markdown",
      "id": "0066ff8e",
      "metadata": {
        "id": "0066ff8e"
      },
      "source": [
        "### Step 8.  Ops...it seems the index is from the most recent date. Make the first entry the oldest date."
      ]
    },
    {
      "cell_type": "code",
      "execution_count": null,
      "id": "6ed4a7da",
      "metadata": {
        "id": "6ed4a7da"
      },
      "outputs": [],
      "source": [
        "apple = apple.sort_index(ascending=True)"
      ]
    },
    {
      "cell_type": "markdown",
      "id": "a13a11f8",
      "metadata": {
        "id": "a13a11f8"
      },
      "source": [
        "### Step 9. Get the last business day of each month"
      ]
    },
    {
      "cell_type": "code",
      "execution_count": null,
      "id": "8e9ed699",
      "metadata": {
        "id": "8e9ed699",
        "colab": {
          "base_uri": "https://localhost:8080/"
        },
        "outputId": "5642e4dc-cb3c-4f3e-f2fa-dcb2a5a5a9af"
      },
      "outputs": [
        {
          "output_type": "stream",
          "name": "stdout",
          "text": [
            "DatetimeIndex(['1980-12-31', '1981-01-30', '1981-02-27', '1981-03-31',\n",
            "               '1981-04-30', '1981-05-29', '1981-06-30', '1981-07-31',\n",
            "               '1981-08-31', '1981-09-30',\n",
            "               ...\n",
            "               '2013-09-30', '2013-10-31', '2013-11-29', '2013-12-31',\n",
            "               '2014-01-31', '2014-02-28', '2014-03-31', '2014-04-30',\n",
            "               '2014-05-30', '2014-06-30'],\n",
            "              dtype='datetime64[ns]', length=403, freq='BM')\n"
          ]
        }
      ],
      "source": [
        "last_business_day = pd.date_range(start=apple['Date'].min(), end=apple['Date'].max(), freq='BM')\n",
        "print(last_business_day)"
      ]
    },
    {
      "cell_type": "markdown",
      "id": "e2451020",
      "metadata": {
        "id": "e2451020"
      },
      "source": [
        "### Step 10.  What is the difference in days between the first day and the oldest"
      ]
    },
    {
      "cell_type": "code",
      "execution_count": null,
      "id": "026edead",
      "metadata": {
        "id": "026edead",
        "colab": {
          "base_uri": "https://localhost:8080/"
        },
        "outputId": "b0d854a8-5e02-4412-cc06-62a897a19b04"
      },
      "outputs": [
        {
          "output_type": "stream",
          "name": "stdout",
          "text": [
            "12261\n"
          ]
        }
      ],
      "source": [
        "difference_in_days = (apple['Date'].max() - apple['Date'].min()).days\n",
        "print(difference_in_days)"
      ]
    },
    {
      "cell_type": "markdown",
      "id": "8cd014a7",
      "metadata": {
        "id": "8cd014a7"
      },
      "source": [
        "### Step 11.  How many months in the data we have?"
      ]
    },
    {
      "cell_type": "code",
      "execution_count": null,
      "id": "6bca3e15",
      "metadata": {
        "id": "6bca3e15",
        "colab": {
          "base_uri": "https://localhost:8080/"
        },
        "outputId": "a0f09819-3706-451b-f3ed-9033877e494b"
      },
      "outputs": [
        {
          "output_type": "stream",
          "name": "stdout",
          "text": [
            "404\n"
          ]
        }
      ],
      "source": [
        "num_months = apple.resample('M', on='Date').size().shape[0]\n",
        "print(num_months)"
      ]
    },
    {
      "cell_type": "markdown",
      "id": "cfeb4420",
      "metadata": {
        "id": "cfeb4420"
      },
      "source": [
        "### Step 12. Plot the 'Adj Close' value. Set the size of the figure to 13.5 x 9 inches"
      ]
    },
    {
      "cell_type": "code",
      "execution_count": null,
      "id": "da000518",
      "metadata": {
        "id": "da000518",
        "colab": {
          "base_uri": "https://localhost:8080/",
          "height": 537
        },
        "outputId": "b82578e3-1080-41b0-d56d-9d00713afe9d"
      },
      "outputs": [
        {
          "output_type": "display_data",
          "data": {
            "text/plain": [
              "<Figure size 972x648 with 1 Axes>"
            ],
            "image/png": "[encoded data removed]"
          },
          "metadata": {
            "needs_background": "light"
          }
        }
      ],
      "source": [
        "fig = plt.figure(figsize=(13.5, 9))\n",
        "apple['Adj Close'].plot()\n",
        "plt.show()"
      ]
    },
    {
      "cell_type": "markdown",
      "id": "cfb95842",
      "metadata": {
        "id": "cfb95842"
      },
      "source": [
        "## Section 10: Deleting"
      ]
    },
    {
      "cell_type": "markdown",
      "id": "62720a79",
      "metadata": {
        "id": "62720a79"
      },
      "source": [
        "### Introduction:\n",
        "\n",
        "This exercise is a adaptation from the UCI Wine dataset.\n",
        "The only pupose is to practice deleting data with pandas.\n",
        "\n",
        "### Step 1. Import the necessary libraries"
      ]
    },
    {
      "cell_type": "code",
      "execution_count": null,
      "id": "31518cc9",
      "metadata": {
        "id": "31518cc9"
      },
      "outputs": [],
      "source": [
        "import pandas as pd\n",
        "import numpy as np"
      ]
    },
    {
      "cell_type": "markdown",
      "id": "564bb9ac",
      "metadata": {
        "id": "564bb9ac"
      },
      "source": [
        "### Step 2. Import the dataset from this [address](https://archive.ics.uci.edu/ml/machine-learning-databases/wine/wine.data). "
      ]
    },
    {
      "cell_type": "code",
      "source": [
        "url = 'https://archive.ics.uci.edu/ml/machine-learning-databases/wine/wine.data'"
      ],
      "metadata": {
        "id": "spTvEGek2oDi"
      },
      "id": "spTvEGek2oDi",
      "execution_count": null,
      "outputs": []
    },
    {
      "cell_type": "markdown",
      "id": "1f1f95a2",
      "metadata": {
        "id": "1f1f95a2"
      },
      "source": [
        "### Step 3. Assign it to a variable called wine"
      ]
    },
    {
      "cell_type": "code",
      "execution_count": null,
      "id": "4e130c72",
      "metadata": {
        "id": "4e130c72"
      },
      "outputs": [],
      "source": [
        "wine = pd.read_csv(url)"
      ]
    },
    {
      "cell_type": "markdown",
      "id": "0c41d696",
      "metadata": {
        "id": "0c41d696"
      },
      "source": [
        "### Step 4. Delete the first, fourth, seventh, nineth, eleventh, thirteenth and fourteenth columns"
      ]
    },
    {
      "cell_type": "code",
      "execution_count": null,
      "id": "da66b0f2",
      "metadata": {
        "id": "da66b0f2"
      },
      "outputs": [],
      "source": [
        "wine.drop(wine.columns[[0, 3, 6, 8, 10, 12, 13]], axis=1, inplace=True)"
      ]
    },
    {
      "cell_type": "markdown",
      "id": "c5a0fe9a",
      "metadata": {
        "id": "c5a0fe9a"
      },
      "source": [
        "### Step 5. Assign the columns as below:\n",
        "\n",
        "The attributes are (donated by Riccardo Leardi, riclea '@' anchem.unige.it):  \n",
        "1) alcohol  \n",
        "2) malic_acid  \n",
        "3) alcalinity_of_ash  \n",
        "4) magnesium  \n",
        "5) flavanoids  \n",
        "6) proanthocyanins  \n",
        "7) hue "
      ]
    },
    {
      "cell_type": "code",
      "execution_count": null,
      "id": "ce18c3cd",
      "metadata": {
        "id": "ce18c3cd"
      },
      "outputs": [],
      "source": [
        "wine.columns = ['alcohol', 'malic_acid', 'alcalinity_of_ash', 'magnesium', 'flavanoids', 'proanthocyanins', 'hue']\n"
      ]
    },
    {
      "cell_type": "markdown",
      "id": "94b22358",
      "metadata": {
        "id": "94b22358"
      },
      "source": [
        "### Step 6. Set the values of the first 3 rows from alcohol as NaN"
      ]
    },
    {
      "cell_type": "code",
      "execution_count": null,
      "id": "6dacd432",
      "metadata": {
        "id": "6dacd432"
      },
      "outputs": [],
      "source": [
        "wine.loc[:2, 'alcohol'] = np.nan"
      ]
    },
    {
      "cell_type": "markdown",
      "id": "2449e0ac",
      "metadata": {
        "id": "2449e0ac"
      },
      "source": [
        "### Step 7. Now set the value of the rows 3 and 4 of magnesium as NaN"
      ]
    },
    {
      "cell_type": "code",
      "execution_count": null,
      "id": "8e659f67",
      "metadata": {
        "id": "8e659f67"
      },
      "outputs": [],
      "source": [
        "wine.loc[2:3, 'magnesium'] = np.nan"
      ]
    },
    {
      "cell_type": "markdown",
      "id": "135f1b41",
      "metadata": {
        "id": "135f1b41"
      },
      "source": [
        "### Step 8. Fill the value of NaN with the number 10 in alcohol and 100 in magnesium"
      ]
    },
    {
      "cell_type": "code",
      "execution_count": null,
      "id": "bdb57870",
      "metadata": {
        "id": "bdb57870"
      },
      "outputs": [],
      "source": [
        "wine['alcohol'] = wine['alcohol'].fillna(10)\n",
        "wine['magnesium'] = wine['magnesium'].fillna(100)"
      ]
    },
    {
      "cell_type": "markdown",
      "id": "5b07a6f4",
      "metadata": {
        "id": "5b07a6f4"
      },
      "source": [
        "### Step 9. Count the number of missing values"
      ]
    },
    {
      "cell_type": "code",
      "execution_count": null,
      "id": "b8f9f565",
      "metadata": {
        "id": "b8f9f565",
        "colab": {
          "base_uri": "https://localhost:8080/"
        },
        "outputId": "e01e0502-4e11-437b-ce29-e78d2998d06f"
      },
      "outputs": [
        {
          "output_type": "stream",
          "name": "stdout",
          "text": [
            "alcohol              0\n",
            "malic_acid           0\n",
            "alcalinity_of_ash    0\n",
            "magnesium            0\n",
            "flavanoids           0\n",
            "proanthocyanins      0\n",
            "hue                  0\n",
            "dtype: int64\n"
          ]
        }
      ],
      "source": [
        "print(wine.isna().sum())\n"
      ]
    },
    {
      "cell_type": "markdown",
      "id": "e41bc334",
      "metadata": {
        "id": "e41bc334"
      },
      "source": [
        "### Step 10.  Create an array of 10 random numbers up until 10"
      ]
    },
    {
      "cell_type": "code",
      "execution_count": null,
      "id": "437d0084",
      "metadata": {
        "id": "437d0084"
      },
      "outputs": [],
      "source": [
        "random_array = np.random.randint(10, size=10)"
      ]
    },
    {
      "cell_type": "markdown",
      "id": "498e2cad",
      "metadata": {
        "id": "498e2cad"
      },
      "source": [
        "### Step 11.  Use random numbers you generated as an index and assign NaN value to each of cell."
      ]
    },
    {
      "cell_type": "code",
      "source": [],
      "metadata": {
        "colab": {
          "base_uri": "https://localhost:8080/",
          "height": 423
        },
        "id": "gMBsztRCUJHE",
        "outputId": "029e5775-b5a8-4d2f-f212-c58de864f54b"
      },
      "id": "gMBsztRCUJHE",
      "execution_count": null,
      "outputs": [
        {
          "output_type": "execute_result",
          "data": {
            "text/plain": [
              "     alcohol  malic_acid  alcalinity_of_ash  magnesium  flavanoids  \\\n",
              "0      10.00        1.78               11.2      100.0        2.76   \n",
              "1      10.00        2.36               18.6      101.0        3.24   \n",
              "2      10.00        1.95               16.8      100.0        3.49   \n",
              "3      13.24        2.59               21.0      100.0        2.69   \n",
              "4      14.20        1.76               15.2      112.0        3.39   \n",
              "..       ...         ...                ...        ...         ...   \n",
              "172    13.71        5.65               20.5       95.0        0.61   \n",
              "173    13.40        3.91               23.0      102.0        0.75   \n",
              "174    13.27        4.28               20.0      120.0        0.69   \n",
              "175    13.17        2.59               20.0      120.0        0.68   \n",
              "176    14.13        4.10               24.5       96.0        0.76   \n",
              "\n",
              "     proanthocyanins   hue  \n",
              "0               1.28  1.05  \n",
              "1               2.81  1.03  \n",
              "2               2.18  0.86  \n",
              "3               1.82  1.04  \n",
              "4               1.97  1.05  \n",
              "..               ...   ...  \n",
              "172             1.06  0.64  \n",
              "173             1.41  0.70  \n",
              "174             1.35  0.59  \n",
              "175             1.46  0.60  \n",
              "176             1.35  0.61  \n",
              "\n",
              "[177 rows x 7 columns]"
            ],
            "text/html": [
              "\n",
              "  <div id=\"df-e9067add-f711-4d49-a8bf-f324c64e5bf8\">\n",
              "    <div class=\"colab-df-container\">\n",
              "      <div>\n",
              "<style scoped>\n",
              "    .dataframe tbody tr th:only-of-type {\n",
              "        vertical-align: middle;\n",
              "    }\n",
              "\n",
              "    .dataframe tbody tr th {\n",
              "        vertical-align: top;\n",
              "    }\n",
              "\n",
              "    .dataframe thead th {\n",
              "        text-align: right;\n",
              "    }\n",
              "</style>\n",
              "<table border=\"1\" class=\"dataframe\">\n",
              "  <thead>\n",
              "    <tr style=\"text-align: right;\">\n",
              "      <th></th>\n",
              "      <th>alcohol</th>\n",
              "      <th>malic_acid</th>\n",
              "      <th>alcalinity_of_ash</th>\n",
              "      <th>magnesium</th>\n",
              "      <th>flavanoids</th>\n",
              "      <th>proanthocyanins</th>\n",
              "      <th>hue</th>\n",
              "    </tr>\n",
              "  </thead>\n",
              "  <tbody>\n",
              "    <tr>\n",
              "      <th>0</th>\n",
              "      <td>10.00</td>\n",
              "      <td>1.78</td>\n",
              "      <td>11.2</td>\n",
              "      <td>100.0</td>\n",
              "      <td>2.76</td>\n",
              "      <td>1.28</td>\n",
              "      <td>1.05</td>\n",
              "    </tr>\n",
              "    <tr>\n",
              "      <th>1</th>\n",
              "      <td>10.00</td>\n",
              "      <td>2.36</td>\n",
              "      <td>18.6</td>\n",
              "      <td>101.0</td>\n",
              "      <td>3.24</td>\n",
              "      <td>2.81</td>\n",
              "      <td>1.03</td>\n",
              "    </tr>\n",
              "    <tr>\n",
              "      <th>2</th>\n",
              "      <td>10.00</td>\n",
              "      <td>1.95</td>\n",
              "      <td>16.8</td>\n",
              "      <td>100.0</td>\n",
              "      <td>3.49</td>\n",
              "      <td>2.18</td>\n",
              "      <td>0.86</td>\n",
              "    </tr>\n",
              "    <tr>\n",
              "      <th>3</th>\n",
              "      <td>13.24</td>\n",
              "      <td>2.59</td>\n",
              "      <td>21.0</td>\n",
              "      <td>100.0</td>\n",
              "      <td>2.69</td>\n",
              "      <td>1.82</td>\n",
              "      <td>1.04</td>\n",
              "    </tr>\n",
              "    <tr>\n",
              "      <th>4</th>\n",
              "      <td>14.20</td>\n",
              "      <td>1.76</td>\n",
              "      <td>15.2</td>\n",
              "      <td>112.0</td>\n",
              "      <td>3.39</td>\n",
              "      <td>1.97</td>\n",
              "      <td>1.05</td>\n",
              "    </tr>\n",
              "    <tr>\n",
              "      <th>...</th>\n",
              "      <td>...</td>\n",
              "      <td>...</td>\n",
              "      <td>...</td>\n",
              "      <td>...</td>\n",
              "      <td>...</td>\n",
              "      <td>...</td>\n",
              "      <td>...</td>\n",
              "    </tr>\n",
              "    <tr>\n",
              "      <th>172</th>\n",
              "      <td>13.71</td>\n",
              "      <td>5.65</td>\n",
              "      <td>20.5</td>\n",
              "      <td>95.0</td>\n",
              "      <td>0.61</td>\n",
              "      <td>1.06</td>\n",
              "      <td>0.64</td>\n",
              "    </tr>\n",
              "    <tr>\n",
              "      <th>173</th>\n",
              "      <td>13.40</td>\n",
              "      <td>3.91</td>\n",
              "      <td>23.0</td>\n",
              "      <td>102.0</td>\n",
              "      <td>0.75</td>\n",
              "      <td>1.41</td>\n",
              "      <td>0.70</td>\n",
              "    </tr>\n",
              "    <tr>\n",
              "      <th>174</th>\n",
              "      <td>13.27</td>\n",
              "      <td>4.28</td>\n",
              "      <td>20.0</td>\n",
              "      <td>120.0</td>\n",
              "      <td>0.69</td>\n",
              "      <td>1.35</td>\n",
              "      <td>0.59</td>\n",
              "    </tr>\n",
              "    <tr>\n",
              "      <th>175</th>\n",
              "      <td>13.17</td>\n",
              "      <td>2.59</td>\n",
              "      <td>20.0</td>\n",
              "      <td>120.0</td>\n",
              "      <td>0.68</td>\n",
              "      <td>1.46</td>\n",
              "      <td>0.60</td>\n",
              "    </tr>\n",
              "    <tr>\n",
              "      <th>176</th>\n",
              "      <td>14.13</td>\n",
              "      <td>4.10</td>\n",
              "      <td>24.5</td>\n",
              "      <td>96.0</td>\n",
              "      <td>0.76</td>\n",
              "      <td>1.35</td>\n",
              "      <td>0.61</td>\n",
              "    </tr>\n",
              "  </tbody>\n",
              "</table>\n",
              "<p>177 rows × 7 columns</p>\n",
              "</div>\n",
              "      <button class=\"colab-df-convert\" onclick=\"convertToInteractive('df-e9067add-f711-4d49-a8bf-f324c64e5bf8')\"\n",
              "              title=\"Convert this dataframe to an interactive table.\"\n",
              "              style=\"display:none;\">\n",
              "        \n",
              "  <svg xmlns=\"http://www.w3.org/2000/svg\" height=\"24px\"viewBox=\"0 0 24 24\"\n",
              "       width=\"24px\">\n",
              "    <path d=\"M0 0h24v24H0V0z\" fill=\"none\"/>\n",
              "    <path d=\"M18.56 5.44l.94 2.06.94-2.06 2.06-.94-2.06-.94-.94-2.06-.94 2.06-2.06.94zm-11 1L8.5 8.5l.94-2.06 2.06-.94-2.06-.94L8.5 2.5l-.94 2.06-2.06.94zm10 10l.94 2.06.94-2.06 2.06-.94-2.06-.94-.94-2.06-.94 2.06-2.06.94z\"/><path d=\"M17.41 7.96l-1.37-1.37c-.4-.4-.92-.59-1.43-.59-.52 0-1.04.2-1.43.59L10.3 9.45l-7.72 7.72c-.78.78-.78 2.05 0 2.83L4 21.41c.39.39.9.59 1.41.59.51 0 1.02-.2 1.41-.59l7.78-7.78 2.81-2.81c.8-.78.8-2.07 0-2.86zM5.41 20L4 18.59l7.72-7.72 1.47 1.35L5.41 20z\"/>\n",
              "  </svg>\n",
              "      </button>\n",
              "      \n",
              "  <style>\n",
              "    .colab-df-container {\n",
              "      display:flex;\n",
              "      flex-wrap:wrap;\n",
              "      gap: 12px;\n",
              "    }\n",
              "\n",
              "    .colab-df-convert {\n",
              "      background-color: #E8F0FE;\n",
              "      border: none;\n",
              "      border-radius: 50%;\n",
              "      cursor: pointer;\n",
              "      display: none;\n",
              "      fill: #1967D2;\n",
              "      height: 32px;\n",
              "      padding: 0 0 0 0;\n",
              "      width: 32px;\n",
              "    }\n",
              "\n",
              "    .colab-df-convert:hover {\n",
              "      background-color: #E2EBFA;\n",
              "      box-shadow: 0px 1px 2px rgba(60, 64, 67, 0.3), 0px 1px 3px 1px rgba(60, 64, 67, 0.15);\n",
              "      fill: #174EA6;\n",
              "    }\n",
              "\n",
              "    [theme=dark] .colab-df-convert {\n",
              "      background-color: #3B4455;\n",
              "      fill: #D2E3FC;\n",
              "    }\n",
              "\n",
              "    [theme=dark] .colab-df-convert:hover {\n",
              "      background-color: #434B5C;\n",
              "      box-shadow: 0px 1px 3px 1px rgba(0, 0, 0, 0.15);\n",
              "      filter: drop-shadow(0px 1px 2px rgba(0, 0, 0, 0.3));\n",
              "      fill: #FFFFFF;\n",
              "    }\n",
              "  </style>\n",
              "\n",
              "      <script>\n",
              "        const buttonEl =\n",
              "          document.querySelector('#df-e9067add-f711-4d49-a8bf-f324c64e5bf8 button.colab-df-convert');\n",
              "        buttonEl.style.display =\n",
              "          google.colab.kernel.accessAllowed ? 'block' : 'none';\n",
              "\n",
              "        async function convertToInteractive(key) {\n",
              "          const element = document.querySelector('#df-e9067add-f711-4d49-a8bf-f324c64e5bf8');\n",
              "          const dataTable =\n",
              "            await google.colab.kernel.invokeFunction('convertToInteractive',\n",
              "                                                     [key], {});\n",
              "          if (!dataTable) return;\n",
              "\n",
              "          const docLinkHtml = 'Like what you see? Visit the ' +\n",
              "            '<a target=\"_blank\" href=https://colab.research.google.com/notebooks/data_table.ipynb>data table notebook</a>'\n",
              "            + ' to learn more about interactive tables.';\n",
              "          element.innerHTML = '';\n",
              "          dataTable['output_type'] = 'display_data';\n",
              "          await google.colab.output.renderOutput(dataTable, element);\n",
              "          const docLink = document.createElement('div');\n",
              "          docLink.innerHTML = docLinkHtml;\n",
              "          element.appendChild(docLink);\n",
              "        }\n",
              "      </script>\n",
              "    </div>\n",
              "  </div>\n",
              "  "
            ]
          },
          "metadata": {},
          "execution_count": 241
        }
      ]
    },
    {
      "cell_type": "markdown",
      "id": "ae9adea8",
      "metadata": {
        "id": "ae9adea8"
      },
      "source": [
        "### Step 12.  How many missing values do we have?"
      ]
    },
    {
      "cell_type": "code",
      "execution_count": null,
      "id": "5bfe2ca7",
      "metadata": {
        "id": "5bfe2ca7"
      },
      "outputs": [],
      "source": []
    },
    {
      "cell_type": "markdown",
      "id": "e1930d56",
      "metadata": {
        "id": "e1930d56"
      },
      "source": [
        "### Step 13. Delete the rows that contain missing values"
      ]
    },
    {
      "cell_type": "code",
      "execution_count": null,
      "id": "c3458689",
      "metadata": {
        "id": "c3458689"
      },
      "outputs": [],
      "source": []
    },
    {
      "cell_type": "markdown",
      "id": "0730ca32",
      "metadata": {
        "id": "0730ca32"
      },
      "source": [
        "### Step 14. Print only the non-null values in alcohol"
      ]
    },
    {
      "cell_type": "code",
      "execution_count": null,
      "id": "71e0aa4d",
      "metadata": {
        "id": "71e0aa4d"
      },
      "outputs": [],
      "source": []
    },
    {
      "cell_type": "markdown",
      "id": "1d3b99c6",
      "metadata": {
        "id": "1d3b99c6"
      },
      "source": [
        "### Step 15.  Reset the index, so it starts with 0 again"
      ]
    },
    {
      "cell_type": "code",
      "execution_count": null,
      "id": "4b240c6a",
      "metadata": {
        "id": "4b240c6a"
      },
      "outputs": [],
      "source": []
    }
  ],
  "metadata": {
    "colab": {
      "provenance": [],
      "include_colab_link": true
    },
    "kernelspec": {
      "display_name": "Python 3 (ipykernel)",
      "language": "python",
      "name": "python3"
    },
    "language_info": {
      "codemirror_mode": {
        "name": "ipython",
        "version": 3
      },
      "file_extension": ".py",
      "mimetype": "text/x-python",
      "name": "python",
      "nbconvert_exporter": "python",
      "pygments_lexer": "ipython3",
      "version": "3.10.4"
    }
  },
  "nbformat": 4,
  "nbformat_minor": 5
}